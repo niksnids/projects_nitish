{
  "nbformat": 4,
  "nbformat_minor": 0,
  "metadata": {
    "colab": {
      "name": "2021-04-26 TWSM_3_Exercise.ipynb",
      "provenance": [],
      "collapsed_sections": []
    },
    "kernelspec": {
      "name": "python3",
      "display_name": "Python 3"
    },
    "language_info": {
      "name": "python"
    }
  },
  "cells": [
    {
      "cell_type": "code",
      "metadata": {
        "id": "mqp2o43iNbOT"
      },
      "source": [
        "import pandas as pd\n",
        "import pickle as pkl\n",
        "from sklearn.feature_extraction.text import CountVectorizer, TfidfVectorizer\n",
        "from sklearn.preprocessing import Binarizer\n",
        "from gensim.corpora import Dictionary\n",
        "from gensim.models import TfidfModel\n",
        "from google.colab import drive\n",
        "import numpy as np"
      ],
      "execution_count": null,
      "outputs": []
    },
    {
      "cell_type": "code",
      "metadata": {
        "colab": {
          "base_uri": "https://localhost:8080/"
        },
        "id": "wvbkLNLwOOCb",
        "outputId": "1dba1481-bcca-48ff-d8e1-3673d99cfc02"
      },
      "source": [
        "drive.mount('/content/drive')"
      ],
      "execution_count": null,
      "outputs": [
        {
          "output_type": "stream",
          "text": [
            "Mounted at /content/drive\n"
          ],
          "name": "stdout"
        }
      ]
    },
    {
      "cell_type": "code",
      "metadata": {
        "id": "_bnACPs3N85z"
      },
      "source": [
        "data = pd.read_pickle(r'/content/drive/MyDrive/Text, Web and Social Media Analytics/stemmed_data.pkl')"
      ],
      "execution_count": null,
      "outputs": []
    },
    {
      "cell_type": "code",
      "metadata": {
        "id": "2s8kf19aOaU_",
        "colab": {
          "base_uri": "https://localhost:8080/"
        },
        "outputId": "3654c683-91dd-4f11-b5f6-24691c1f26da"
      },
      "source": [
        "print(data[0])"
      ],
      "execution_count": null,
      "outputs": [
        {
          "output_type": "stream",
          "text": [
            "wonder enlighten car saw dai earli call bricklin door small addit bumper separ rest bodi know tellm model engin spec year product car histori info funki look car thank\n"
          ],
          "name": "stdout"
        }
      ]
    },
    {
      "cell_type": "code",
      "metadata": {
        "id": "hbPngcG8OmFR"
      },
      "source": [
        "countvec = CountVectorizer(max_df=0.95, min_df = 0.05)"
      ],
      "execution_count": null,
      "outputs": []
    },
    {
      "cell_type": "code",
      "metadata": {
        "id": "VP1qvcp-O0r1"
      },
      "source": [
        "datacountvec = countvec.fit_transform(data)"
      ],
      "execution_count": null,
      "outputs": []
    },
    {
      "cell_type": "code",
      "metadata": {
        "id": "CpOTuCkdO-h2",
        "colab": {
          "base_uri": "https://localhost:8080/"
        },
        "outputId": "fc956bee-cf7c-48dd-bad6-b889ddf20552"
      },
      "source": [
        "print(datacountvec)"
      ],
      "execution_count": null,
      "outputs": [
        {
          "output_type": "stream",
          "text": [
            "  (0, 195)\t1\n",
            "  (0, 26)\t3\n",
            "  (0, 43)\t1\n",
            "  (0, 25)\t1\n",
            "  (0, 165)\t1\n",
            "  (0, 97)\t1\n",
            "  (0, 53)\t1\n",
            "  (0, 203)\t1\n",
            "  (0, 109)\t1\n",
            "  (0, 178)\t1\n",
            "  (1, 43)\t2\n",
            "  (1, 178)\t1\n",
            "  (1, 153)\t1\n",
            "  (1, 125)\t1\n",
            "  (1, 56)\t2\n",
            "  (1, 163)\t1\n",
            "  (1, 27)\t1\n",
            "  (1, 17)\t1\n",
            "  (1, 7)\t1\n",
            "  (1, 75)\t1\n",
            "  (1, 49)\t1\n",
            "  (2, 195)\t1\n",
            "  (2, 97)\t1\n",
            "  (2, 53)\t1\n",
            "  (2, 109)\t2\n",
            "  :\t:\n",
            "  (11311, 52)\t2\n",
            "  (11311, 29)\t1\n",
            "  (11311, 90)\t1\n",
            "  (11312, 97)\t1\n",
            "  (11312, 49)\t2\n",
            "  (11312, 190)\t1\n",
            "  (11312, 199)\t1\n",
            "  (11312, 11)\t1\n",
            "  (11312, 58)\t1\n",
            "  (11312, 154)\t1\n",
            "  (11312, 135)\t4\n",
            "  (11312, 132)\t1\n",
            "  (11312, 136)\t1\n",
            "  (11312, 66)\t1\n",
            "  (11312, 51)\t1\n",
            "  (11312, 55)\t1\n",
            "  (11312, 200)\t1\n",
            "  (11312, 144)\t1\n",
            "  (11312, 77)\t1\n",
            "  (11312, 23)\t1\n",
            "  (11313, 53)\t1\n",
            "  (11313, 125)\t2\n",
            "  (11313, 81)\t1\n",
            "  (11313, 74)\t1\n",
            "  (11313, 186)\t1\n"
          ],
          "name": "stdout"
        }
      ]
    },
    {
      "cell_type": "code",
      "metadata": {
        "id": "y6IiBPWBQJ0Q"
      },
      "source": [
        "tfidf1 = TfidfVectorizer(max_df=0.95, min_df=0.05,use_idf=False, norm='l1')"
      ],
      "execution_count": null,
      "outputs": []
    },
    {
      "cell_type": "code",
      "metadata": {
        "id": "mUyyWhgHQT5S"
      },
      "source": [
        "datatfidf1 = tfidf1.fit_transform(data)"
      ],
      "execution_count": null,
      "outputs": []
    },
    {
      "cell_type": "code",
      "metadata": {
        "id": "uvIG-1hAQdv2",
        "colab": {
          "base_uri": "https://localhost:8080/"
        },
        "outputId": "fb946262-99d6-4c53-b3b1-0b20372c94a9"
      },
      "source": [
        "print(datatfidf1)"
      ],
      "execution_count": null,
      "outputs": [
        {
          "output_type": "stream",
          "text": [
            "  (0, 195)\t0.08333333333333333\n",
            "  (0, 26)\t0.25\n",
            "  (0, 43)\t0.08333333333333333\n",
            "  (0, 25)\t0.08333333333333333\n",
            "  (0, 165)\t0.08333333333333333\n",
            "  (0, 97)\t0.08333333333333333\n",
            "  (0, 53)\t0.08333333333333333\n",
            "  (0, 203)\t0.08333333333333333\n",
            "  (0, 109)\t0.08333333333333333\n",
            "  (0, 178)\t0.08333333333333333\n",
            "  (1, 43)\t0.15384615384615385\n",
            "  (1, 178)\t0.07692307692307693\n",
            "  (1, 153)\t0.07692307692307693\n",
            "  (1, 125)\t0.07692307692307693\n",
            "  (1, 56)\t0.15384615384615385\n",
            "  (1, 163)\t0.07692307692307693\n",
            "  (1, 27)\t0.07692307692307693\n",
            "  (1, 17)\t0.07692307692307693\n",
            "  (1, 7)\t0.07692307692307693\n",
            "  (1, 75)\t0.07692307692307693\n",
            "  (1, 49)\t0.07692307692307693\n",
            "  (2, 195)\t0.023809523809523808\n",
            "  (2, 97)\t0.023809523809523808\n",
            "  (2, 53)\t0.023809523809523808\n",
            "  (2, 109)\t0.047619047619047616\n",
            "  :\t:\n",
            "  (11311, 52)\t0.2\n",
            "  (11311, 29)\t0.1\n",
            "  (11311, 90)\t0.1\n",
            "  (11312, 97)\t0.047619047619047616\n",
            "  (11312, 49)\t0.09523809523809523\n",
            "  (11312, 190)\t0.047619047619047616\n",
            "  (11312, 199)\t0.047619047619047616\n",
            "  (11312, 11)\t0.047619047619047616\n",
            "  (11312, 58)\t0.047619047619047616\n",
            "  (11312, 154)\t0.047619047619047616\n",
            "  (11312, 135)\t0.19047619047619047\n",
            "  (11312, 132)\t0.047619047619047616\n",
            "  (11312, 136)\t0.047619047619047616\n",
            "  (11312, 66)\t0.047619047619047616\n",
            "  (11312, 51)\t0.047619047619047616\n",
            "  (11312, 55)\t0.047619047619047616\n",
            "  (11312, 200)\t0.047619047619047616\n",
            "  (11312, 144)\t0.047619047619047616\n",
            "  (11312, 77)\t0.047619047619047616\n",
            "  (11312, 23)\t0.047619047619047616\n",
            "  (11313, 53)\t0.16666666666666666\n",
            "  (11313, 125)\t0.3333333333333333\n",
            "  (11313, 81)\t0.16666666666666666\n",
            "  (11313, 74)\t0.16666666666666666\n",
            "  (11313, 186)\t0.16666666666666666\n"
          ],
          "name": "stdout"
        }
      ]
    },
    {
      "cell_type": "code",
      "metadata": {
        "id": "Junol008QiQF"
      },
      "source": [
        "tfidf2 = TfidfVectorizer(max_df=0.95, min_df=0.05,smooth_idf=False)"
      ],
      "execution_count": null,
      "outputs": []
    },
    {
      "cell_type": "code",
      "metadata": {
        "id": "5RS1SZujQs0V"
      },
      "source": [
        "datatfidf2 = tfidf2.fit_transform(data)"
      ],
      "execution_count": null,
      "outputs": []
    },
    {
      "cell_type": "code",
      "metadata": {
        "id": "3Bwl1cWsQxsX",
        "colab": {
          "base_uri": "https://localhost:8080/"
        },
        "outputId": "ff85a8f1-8ba4-48c8-ce07-f3956b45b826"
      },
      "source": [
        "print(datatfidf2)"
      ],
      "execution_count": null,
      "outputs": [
        {
          "output_type": "stream",
          "text": [
            "  (0, 178)\t0.1817201266030662\n",
            "  (0, 109)\t0.17752063327884612\n",
            "  (0, 203)\t0.18499288997844116\n",
            "  (0, 53)\t0.25776501195000656\n",
            "  (0, 97)\t0.14565987864974358\n",
            "  (0, 165)\t0.2637662270921334\n",
            "  (0, 25)\t0.2256014284460924\n",
            "  (0, 43)\t0.214231975215275\n",
            "  (0, 26)\t0.7639571747722331\n",
            "  (0, 195)\t0.2521660528486645\n",
            "  (1, 49)\t0.11946535481841696\n",
            "  (1, 75)\t0.27164038693676806\n",
            "  (1, 7)\t0.25540884270953085\n",
            "  (1, 17)\t0.25254405618001075\n",
            "  (1, 27)\t0.26656298831518555\n",
            "  (1, 163)\t0.2569360144232503\n",
            "  (1, 56)\t0.539966786605416\n",
            "  (1, 125)\t0.2256183346979275\n",
            "  (1, 153)\t0.27140118903307897\n",
            "  (1, 178)\t0.1871449807992783\n",
            "  (1, 43)\t0.44125479810861656\n",
            "  (2, 182)\t0.09998613212848395\n",
            "  (2, 147)\t0.1263713141532344\n",
            "  (2, 3)\t0.15785777153754868\n",
            "  (2, 81)\t0.12476168563712947\n",
            "  :\t:\n",
            "  (11311, 36)\t0.19317914283375842\n",
            "  (11311, 58)\t0.31048542986972083\n",
            "  (11311, 69)\t0.23637751022847292\n",
            "  (11312, 23)\t0.2150895597025941\n",
            "  (11312, 77)\t0.19277480308094633\n",
            "  (11312, 144)\t0.2064591701505333\n",
            "  (11312, 200)\t0.20218176202519175\n",
            "  (11312, 55)\t0.20246152196726805\n",
            "  (11312, 51)\t0.20630861836660155\n",
            "  (11312, 66)\t0.21352570614461663\n",
            "  (11312, 136)\t0.18167120595666159\n",
            "  (11312, 132)\t0.2166989687435049\n",
            "  (11312, 135)\t0.6700961794421578\n",
            "  (11312, 154)\t0.20963948833426635\n",
            "  (11312, 58)\t0.1941450154256085\n",
            "  (11312, 11)\t0.10069320012745583\n",
            "  (11312, 199)\t0.09255360244992661\n",
            "  (11312, 190)\t0.14872593548029073\n",
            "  (11312, 49)\t0.19399229533313503\n",
            "  (11312, 97)\t0.12179448004172679\n",
            "  (11313, 186)\t0.38301085554642095\n",
            "  (11313, 74)\t0.4011393495085573\n",
            "  (11313, 81)\t0.30942316330387526\n",
            "  (11313, 125)\t0.6657661420698281\n",
            "  (11313, 53)\t0.39166651234683203\n"
          ],
          "name": "stdout"
        }
      ]
    },
    {
      "cell_type": "code",
      "metadata": {
        "id": "q0G-Lc2YQ9DD",
        "colab": {
          "base_uri": "https://localhost:8080/"
        },
        "outputId": "014ed47f-6782-45cc-fbd6-695147d9143e"
      },
      "source": [
        "vocabularyi = countvec.get_feature_names()\n",
        "vocabularyii = tfidf1.get_feature_names()\n",
        "vocabularyiii = tfidf2.get_feature_names()\n",
        "print(len(vocabularyi))\n",
        "print(len(vocabularyii))\n",
        "print(len(vocabularyiii))"
      ],
      "execution_count": null,
      "outputs": [
        {
          "output_type": "stream",
          "text": [
            "204\n",
            "204\n",
            "204\n"
          ],
          "name": "stdout"
        }
      ]
    },
    {
      "cell_type": "code",
      "metadata": {
        "id": "QdQmUsCKSJRg",
        "colab": {
          "base_uri": "https://localhost:8080/"
        },
        "outputId": "afe5e45d-8cf5-4487-9408-f2d1446f186f"
      },
      "source": [
        "print(vocabularyiii)\n"
      ],
      "execution_count": null,
      "outputs": [
        {
          "output_type": "stream",
          "text": [
            "['abl', 'accept', 'actual', 'advanc', 'ago', 'agre', 'allow', 'answer', 'appreci', 'apr', 'area', 'articl', 'ask', 'assum', 'avail', 'awai', 'bad', 'base', 'believ', 'best', 'better', 'big', 'bit', 'book', 'bui', 'call', 'car', 'card', 'care', 'case', 'caus', 'chang', 'check', 'christian', 'claim', 'close', 'com', 'come', 'complet', 'consid', 'control', 'cours', 'current', 'dai', 'data', 'david', 'differ', 'discuss', 'drive', 'edu', 'effect', 'email', 'end', 'engin', 'exampl', 'exist', 'experi', 'fact', 'far', 'feel', 'file', 'follow', 'free', 'game', 'gener', 'get', 'given', 'go', 'god', 'good', 'got', 'govern', 'great', 'group', 'guess', 'gui', 'hand', 'happen', 'hard', 'have', 'heard', 'help', 'high', 'home', 'hope', 'idea', 'import', 'includ', 'inform', 'interest', 'internet', 'isn', 'issu', 'john', 'kei', 'kill', 'kind', 'know', 'larg', 'law', 'left', 'let', 'life', 'like', 'line', 'list', 'littl', 'live', 'long', 'look', 'lot', 'mail', 'major', 'make', 'man', 'matter', 'mayb', 'mean', 'mention', 'mind', 'nation', 'need', 'net', 'new', 'note', 'number', 'old', 'opinion', 'order', 'origin', 'peopl', 'person', 'phone', 'place', 'plai', 'point', 'possibl', 'post', 'power', 'pretti', 'price', 'probabl', 'problem', 'program', 'provid', 'public', 'question', 'read', 'real', 'reason', 'recent', 'refer', 'rememb', 'report', 'requir', 'respons', 'result', 'right', 'run', 'sai', 'said', 'second', 'seen', 'send', 'set', 'small', 'softwar', 'sound', 'sourc', 'standard', 'start', 'state', 'suggest', 'support', 'sure', 'take', 'talk', 'tell', 'thank', 'thing', 'think', 'thought', 'time', 'todai', 'true', 'try', 'turn', 'understand', 'univers', 'us', 'wai', 'want', 'week', 'window', 'won', 'wonder', 'word', 'work', 'world', 'write', 'wrong', 'wrote', 'ye', 'year']\n"
          ],
          "name": "stdout"
        }
      ]
    },
    {
      "cell_type": "markdown",
      "metadata": {
        "id": "-kqmkSRLTQpj"
      },
      "source": [
        "Some words don't really make sense (contentwise), i.e. david, actual, as they do not add a lot of value to the researcher.\n",
        "\n",
        "We increased min_df to 0.1 and got less words out of it.\n",
        "\n",
        "Decreasing max_df to 0.6 does not yield any difference. We conclude that there are no terms, which do not have a high df."
      ]
    },
    {
      "cell_type": "code",
      "metadata": {
        "id": "0fds7vHDUHzK"
      },
      "source": [
        "binarizer = Binarizer()"
      ],
      "execution_count": null,
      "outputs": []
    },
    {
      "cell_type": "code",
      "metadata": {
        "id": "4LvW2tEaSpuy"
      },
      "source": [
        "countvecbin = binarizer.fit_transform(datacountvec)"
      ],
      "execution_count": null,
      "outputs": []
    },
    {
      "cell_type": "markdown",
      "metadata": {
        "id": "Jr1OCUt6WI0u"
      },
      "source": [
        "As the threshhold of the binarizer = 0, all values are turned to 1."
      ]
    },
    {
      "cell_type": "code",
      "metadata": {
        "id": "H2g0vxhdUbqt",
        "colab": {
          "base_uri": "https://localhost:8080/"
        },
        "outputId": "48aecf86-f1f4-47a7-d3de-9f115b97142e"
      },
      "source": [
        "print(countvecbin)"
      ],
      "execution_count": null,
      "outputs": [
        {
          "output_type": "stream",
          "text": [
            "  (0, 195)\t1\n",
            "  (0, 26)\t1\n",
            "  (0, 43)\t1\n",
            "  (0, 25)\t1\n",
            "  (0, 165)\t1\n",
            "  (0, 97)\t1\n",
            "  (0, 53)\t1\n",
            "  (0, 203)\t1\n",
            "  (0, 109)\t1\n",
            "  (0, 178)\t1\n",
            "  (1, 43)\t1\n",
            "  (1, 178)\t1\n",
            "  (1, 153)\t1\n",
            "  (1, 125)\t1\n",
            "  (1, 56)\t1\n",
            "  (1, 163)\t1\n",
            "  (1, 27)\t1\n",
            "  (1, 17)\t1\n",
            "  (1, 7)\t1\n",
            "  (1, 75)\t1\n",
            "  (1, 49)\t1\n",
            "  (2, 195)\t1\n",
            "  (2, 97)\t1\n",
            "  (2, 53)\t1\n",
            "  (2, 109)\t1\n",
            "  :\t:\n",
            "  (11311, 52)\t1\n",
            "  (11311, 29)\t1\n",
            "  (11311, 90)\t1\n",
            "  (11312, 97)\t1\n",
            "  (11312, 49)\t1\n",
            "  (11312, 190)\t1\n",
            "  (11312, 199)\t1\n",
            "  (11312, 11)\t1\n",
            "  (11312, 58)\t1\n",
            "  (11312, 154)\t1\n",
            "  (11312, 135)\t1\n",
            "  (11312, 132)\t1\n",
            "  (11312, 136)\t1\n",
            "  (11312, 66)\t1\n",
            "  (11312, 51)\t1\n",
            "  (11312, 55)\t1\n",
            "  (11312, 200)\t1\n",
            "  (11312, 144)\t1\n",
            "  (11312, 77)\t1\n",
            "  (11312, 23)\t1\n",
            "  (11313, 53)\t1\n",
            "  (11313, 125)\t1\n",
            "  (11313, 81)\t1\n",
            "  (11313, 74)\t1\n",
            "  (11313, 186)\t1\n"
          ],
          "name": "stdout"
        }
      ]
    },
    {
      "cell_type": "code",
      "metadata": {
        "id": "88I_9_wvWNv3"
      },
      "source": [
        "array1 = datacountvec[0].toarray()\n",
        "array2 = datatfidf1[0].toarray()\n",
        "array3 = datatfidf2[0].toarray()\n",
        "array4 = countvecbin[0].toarray()"
      ],
      "execution_count": null,
      "outputs": []
    },
    {
      "cell_type": "code",
      "metadata": {
        "id": "m2vUkN6hWqHU",
        "colab": {
          "base_uri": "https://localhost:8080/"
        },
        "outputId": "2ddc392c-55a3-4bcb-e860-5c19793771af"
      },
      "source": [
        "array1"
      ],
      "execution_count": null,
      "outputs": [
        {
          "output_type": "execute_result",
          "data": {
            "text/plain": [
              "array([[0, 0, 0, 0, 0, 0, 0, 0, 0, 0, 0, 0, 0, 0, 0, 0, 0, 0, 0, 0, 0, 0,\n",
              "        0, 0, 0, 1, 3, 0, 0, 0, 0, 0, 0, 0, 0, 0, 0, 0, 0, 0, 0, 0, 0, 1,\n",
              "        0, 0, 0, 0, 0, 0, 0, 0, 0, 1, 0, 0, 0, 0, 0, 0, 0, 0, 0, 0, 0, 0,\n",
              "        0, 0, 0, 0, 0, 0, 0, 0, 0, 0, 0, 0, 0, 0, 0, 0, 0, 0, 0, 0, 0, 0,\n",
              "        0, 0, 0, 0, 0, 0, 0, 0, 0, 1, 0, 0, 0, 0, 0, 0, 0, 0, 0, 0, 0, 1,\n",
              "        0, 0, 0, 0, 0, 0, 0, 0, 0, 0, 0, 0, 0, 0, 0, 0, 0, 0, 0, 0, 0, 0,\n",
              "        0, 0, 0, 0, 0, 0, 0, 0, 0, 0, 0, 0, 0, 0, 0, 0, 0, 0, 0, 0, 0, 0,\n",
              "        0, 0, 0, 0, 0, 0, 0, 0, 0, 0, 0, 1, 0, 0, 0, 0, 0, 0, 0, 0, 0, 0,\n",
              "        0, 0, 1, 0, 0, 0, 0, 0, 0, 0, 0, 0, 0, 0, 0, 0, 0, 0, 0, 1, 0, 0,\n",
              "        0, 0, 0, 0, 0, 1]])"
            ]
          },
          "metadata": {
            "tags": []
          },
          "execution_count": 20
        }
      ]
    },
    {
      "cell_type": "code",
      "metadata": {
        "id": "U4wVI8QUW1vU",
        "colab": {
          "base_uri": "https://localhost:8080/"
        },
        "outputId": "6a0c83ae-2819-4586-f688-5b076e3a2904"
      },
      "source": [
        "print(countvec.get_feature_names())"
      ],
      "execution_count": null,
      "outputs": [
        {
          "output_type": "stream",
          "text": [
            "['abl', 'accept', 'actual', 'advanc', 'ago', 'agre', 'allow', 'answer', 'appreci', 'apr', 'area', 'articl', 'ask', 'assum', 'avail', 'awai', 'bad', 'base', 'believ', 'best', 'better', 'big', 'bit', 'book', 'bui', 'call', 'car', 'card', 'care', 'case', 'caus', 'chang', 'check', 'christian', 'claim', 'close', 'com', 'come', 'complet', 'consid', 'control', 'cours', 'current', 'dai', 'data', 'david', 'differ', 'discuss', 'drive', 'edu', 'effect', 'email', 'end', 'engin', 'exampl', 'exist', 'experi', 'fact', 'far', 'feel', 'file', 'follow', 'free', 'game', 'gener', 'get', 'given', 'go', 'god', 'good', 'got', 'govern', 'great', 'group', 'guess', 'gui', 'hand', 'happen', 'hard', 'have', 'heard', 'help', 'high', 'home', 'hope', 'idea', 'import', 'includ', 'inform', 'interest', 'internet', 'isn', 'issu', 'john', 'kei', 'kill', 'kind', 'know', 'larg', 'law', 'left', 'let', 'life', 'like', 'line', 'list', 'littl', 'live', 'long', 'look', 'lot', 'mail', 'major', 'make', 'man', 'matter', 'mayb', 'mean', 'mention', 'mind', 'nation', 'need', 'net', 'new', 'note', 'number', 'old', 'opinion', 'order', 'origin', 'peopl', 'person', 'phone', 'place', 'plai', 'point', 'possibl', 'post', 'power', 'pretti', 'price', 'probabl', 'problem', 'program', 'provid', 'public', 'question', 'read', 'real', 'reason', 'recent', 'refer', 'rememb', 'report', 'requir', 'respons', 'result', 'right', 'run', 'sai', 'said', 'second', 'seen', 'send', 'set', 'small', 'softwar', 'sound', 'sourc', 'standard', 'start', 'state', 'suggest', 'support', 'sure', 'take', 'talk', 'tell', 'thank', 'thing', 'think', 'thought', 'time', 'todai', 'true', 'try', 'turn', 'understand', 'univers', 'us', 'wai', 'want', 'week', 'window', 'won', 'wonder', 'word', 'work', 'world', 'write', 'wrong', 'wrote', 'ye', 'year']\n"
          ],
          "name": "stdout"
        }
      ]
    },
    {
      "cell_type": "code",
      "metadata": {
        "id": "qBRgzwZuXPi6"
      },
      "source": [
        "df = pd.DataFrame(array1, columns=countvec.get_feature_names())"
      ],
      "execution_count": null,
      "outputs": []
    },
    {
      "cell_type": "code",
      "metadata": {
        "id": "rOgL5GBsXcO-"
      },
      "source": [
        "df2 = pd.DataFrame(array2, columns=countvec.get_feature_names())\n",
        "\n",
        "df3 = pd.DataFrame(array3, columns=countvec.get_feature_names())\n",
        "\n",
        "df4 = pd.DataFrame(array4, columns=countvec.get_feature_names())\n",
        "\n",
        "df = df.append(df2)\n",
        "\n",
        "df = df.append(df3)\n",
        "\n",
        "df = df.append(df4)"
      ],
      "execution_count": null,
      "outputs": []
    },
    {
      "cell_type": "code",
      "metadata": {
        "id": "Wl0SeNkDZnOd"
      },
      "source": [
        "df = df.transpose()"
      ],
      "execution_count": null,
      "outputs": []
    },
    {
      "cell_type": "code",
      "metadata": {
        "id": "VhyG1nNKa7xB"
      },
      "source": [
        "df.columns = ['CountVectorizer', 'Tfidf1', 'Tfidf2', 'Binarizercountvec']\n"
      ],
      "execution_count": null,
      "outputs": []
    },
    {
      "cell_type": "code",
      "metadata": {
        "id": "hfmLR0fDbGkz",
        "colab": {
          "base_uri": "https://localhost:8080/",
          "height": 407
        },
        "outputId": "0e891dd8-dff3-4c6c-ce71-0e99a1700e1b"
      },
      "source": [
        "df"
      ],
      "execution_count": null,
      "outputs": [
        {
          "output_type": "execute_result",
          "data": {
            "text/html": [
              "<div>\n",
              "<style scoped>\n",
              "    .dataframe tbody tr th:only-of-type {\n",
              "        vertical-align: middle;\n",
              "    }\n",
              "\n",
              "    .dataframe tbody tr th {\n",
              "        vertical-align: top;\n",
              "    }\n",
              "\n",
              "    .dataframe thead th {\n",
              "        text-align: right;\n",
              "    }\n",
              "</style>\n",
              "<table border=\"1\" class=\"dataframe\">\n",
              "  <thead>\n",
              "    <tr style=\"text-align: right;\">\n",
              "      <th></th>\n",
              "      <th>CountVectorizer</th>\n",
              "      <th>Tfidf1</th>\n",
              "      <th>Tfidf2</th>\n",
              "      <th>Binarizercountvec</th>\n",
              "    </tr>\n",
              "  </thead>\n",
              "  <tbody>\n",
              "    <tr>\n",
              "      <th>abl</th>\n",
              "      <td>0.0</td>\n",
              "      <td>0.000000</td>\n",
              "      <td>0.000000</td>\n",
              "      <td>0.0</td>\n",
              "    </tr>\n",
              "    <tr>\n",
              "      <th>accept</th>\n",
              "      <td>0.0</td>\n",
              "      <td>0.000000</td>\n",
              "      <td>0.000000</td>\n",
              "      <td>0.0</td>\n",
              "    </tr>\n",
              "    <tr>\n",
              "      <th>actual</th>\n",
              "      <td>0.0</td>\n",
              "      <td>0.000000</td>\n",
              "      <td>0.000000</td>\n",
              "      <td>0.0</td>\n",
              "    </tr>\n",
              "    <tr>\n",
              "      <th>advanc</th>\n",
              "      <td>0.0</td>\n",
              "      <td>0.000000</td>\n",
              "      <td>0.000000</td>\n",
              "      <td>0.0</td>\n",
              "    </tr>\n",
              "    <tr>\n",
              "      <th>ago</th>\n",
              "      <td>0.0</td>\n",
              "      <td>0.000000</td>\n",
              "      <td>0.000000</td>\n",
              "      <td>0.0</td>\n",
              "    </tr>\n",
              "    <tr>\n",
              "      <th>...</th>\n",
              "      <td>...</td>\n",
              "      <td>...</td>\n",
              "      <td>...</td>\n",
              "      <td>...</td>\n",
              "    </tr>\n",
              "    <tr>\n",
              "      <th>write</th>\n",
              "      <td>0.0</td>\n",
              "      <td>0.000000</td>\n",
              "      <td>0.000000</td>\n",
              "      <td>0.0</td>\n",
              "    </tr>\n",
              "    <tr>\n",
              "      <th>wrong</th>\n",
              "      <td>0.0</td>\n",
              "      <td>0.000000</td>\n",
              "      <td>0.000000</td>\n",
              "      <td>0.0</td>\n",
              "    </tr>\n",
              "    <tr>\n",
              "      <th>wrote</th>\n",
              "      <td>0.0</td>\n",
              "      <td>0.000000</td>\n",
              "      <td>0.000000</td>\n",
              "      <td>0.0</td>\n",
              "    </tr>\n",
              "    <tr>\n",
              "      <th>ye</th>\n",
              "      <td>0.0</td>\n",
              "      <td>0.000000</td>\n",
              "      <td>0.000000</td>\n",
              "      <td>0.0</td>\n",
              "    </tr>\n",
              "    <tr>\n",
              "      <th>year</th>\n",
              "      <td>1.0</td>\n",
              "      <td>0.083333</td>\n",
              "      <td>0.184993</td>\n",
              "      <td>1.0</td>\n",
              "    </tr>\n",
              "  </tbody>\n",
              "</table>\n",
              "<p>204 rows × 4 columns</p>\n",
              "</div>"
            ],
            "text/plain": [
              "        CountVectorizer    Tfidf1    Tfidf2  Binarizercountvec\n",
              "abl                 0.0  0.000000  0.000000                0.0\n",
              "accept              0.0  0.000000  0.000000                0.0\n",
              "actual              0.0  0.000000  0.000000                0.0\n",
              "advanc              0.0  0.000000  0.000000                0.0\n",
              "ago                 0.0  0.000000  0.000000                0.0\n",
              "...                 ...       ...       ...                ...\n",
              "write               0.0  0.000000  0.000000                0.0\n",
              "wrong               0.0  0.000000  0.000000                0.0\n",
              "wrote               0.0  0.000000  0.000000                0.0\n",
              "ye                  0.0  0.000000  0.000000                0.0\n",
              "year                1.0  0.083333  0.184993                1.0\n",
              "\n",
              "[204 rows x 4 columns]"
            ]
          },
          "metadata": {
            "tags": []
          },
          "execution_count": 26
        }
      ]
    },
    {
      "cell_type": "code",
      "metadata": {
        "id": "mjJTN4DDbNZj"
      },
      "source": [
        "df = df[df.Binarizercountvec>0]"
      ],
      "execution_count": null,
      "outputs": []
    },
    {
      "cell_type": "code",
      "metadata": {
        "id": "V184QN85cxl7",
        "colab": {
          "base_uri": "https://localhost:8080/",
          "height": 348
        },
        "outputId": "fbef21fb-78ec-4853-ec76-7c0c4093113b"
      },
      "source": [
        "df.sort_values(by=['CountVectorizer'], ascending=False)"
      ],
      "execution_count": null,
      "outputs": [
        {
          "output_type": "execute_result",
          "data": {
            "text/html": [
              "<div>\n",
              "<style scoped>\n",
              "    .dataframe tbody tr th:only-of-type {\n",
              "        vertical-align: middle;\n",
              "    }\n",
              "\n",
              "    .dataframe tbody tr th {\n",
              "        vertical-align: top;\n",
              "    }\n",
              "\n",
              "    .dataframe thead th {\n",
              "        text-align: right;\n",
              "    }\n",
              "</style>\n",
              "<table border=\"1\" class=\"dataframe\">\n",
              "  <thead>\n",
              "    <tr style=\"text-align: right;\">\n",
              "      <th></th>\n",
              "      <th>CountVectorizer</th>\n",
              "      <th>Tfidf1</th>\n",
              "      <th>Tfidf2</th>\n",
              "      <th>Binarizercountvec</th>\n",
              "    </tr>\n",
              "  </thead>\n",
              "  <tbody>\n",
              "    <tr>\n",
              "      <th>car</th>\n",
              "      <td>3.0</td>\n",
              "      <td>0.250000</td>\n",
              "      <td>0.763957</td>\n",
              "      <td>1.0</td>\n",
              "    </tr>\n",
              "    <tr>\n",
              "      <th>call</th>\n",
              "      <td>1.0</td>\n",
              "      <td>0.083333</td>\n",
              "      <td>0.225601</td>\n",
              "      <td>1.0</td>\n",
              "    </tr>\n",
              "    <tr>\n",
              "      <th>dai</th>\n",
              "      <td>1.0</td>\n",
              "      <td>0.083333</td>\n",
              "      <td>0.214232</td>\n",
              "      <td>1.0</td>\n",
              "    </tr>\n",
              "    <tr>\n",
              "      <th>engin</th>\n",
              "      <td>1.0</td>\n",
              "      <td>0.083333</td>\n",
              "      <td>0.257765</td>\n",
              "      <td>1.0</td>\n",
              "    </tr>\n",
              "    <tr>\n",
              "      <th>know</th>\n",
              "      <td>1.0</td>\n",
              "      <td>0.083333</td>\n",
              "      <td>0.145660</td>\n",
              "      <td>1.0</td>\n",
              "    </tr>\n",
              "    <tr>\n",
              "      <th>look</th>\n",
              "      <td>1.0</td>\n",
              "      <td>0.083333</td>\n",
              "      <td>0.177521</td>\n",
              "      <td>1.0</td>\n",
              "    </tr>\n",
              "    <tr>\n",
              "      <th>small</th>\n",
              "      <td>1.0</td>\n",
              "      <td>0.083333</td>\n",
              "      <td>0.263766</td>\n",
              "      <td>1.0</td>\n",
              "    </tr>\n",
              "    <tr>\n",
              "      <th>thank</th>\n",
              "      <td>1.0</td>\n",
              "      <td>0.083333</td>\n",
              "      <td>0.181720</td>\n",
              "      <td>1.0</td>\n",
              "    </tr>\n",
              "    <tr>\n",
              "      <th>wonder</th>\n",
              "      <td>1.0</td>\n",
              "      <td>0.083333</td>\n",
              "      <td>0.252166</td>\n",
              "      <td>1.0</td>\n",
              "    </tr>\n",
              "    <tr>\n",
              "      <th>year</th>\n",
              "      <td>1.0</td>\n",
              "      <td>0.083333</td>\n",
              "      <td>0.184993</td>\n",
              "      <td>1.0</td>\n",
              "    </tr>\n",
              "  </tbody>\n",
              "</table>\n",
              "</div>"
            ],
            "text/plain": [
              "        CountVectorizer    Tfidf1    Tfidf2  Binarizercountvec\n",
              "car                 3.0  0.250000  0.763957                1.0\n",
              "call                1.0  0.083333  0.225601                1.0\n",
              "dai                 1.0  0.083333  0.214232                1.0\n",
              "engin               1.0  0.083333  0.257765                1.0\n",
              "know                1.0  0.083333  0.145660                1.0\n",
              "look                1.0  0.083333  0.177521                1.0\n",
              "small               1.0  0.083333  0.263766                1.0\n",
              "thank               1.0  0.083333  0.181720                1.0\n",
              "wonder              1.0  0.083333  0.252166                1.0\n",
              "year                1.0  0.083333  0.184993                1.0"
            ]
          },
          "metadata": {
            "tags": []
          },
          "execution_count": 28
        }
      ]
    },
    {
      "cell_type": "code",
      "metadata": {
        "id": "fDwuppGJfnSL"
      },
      "source": [
        "corpus_gen=[doc.split() for doc in data]"
      ],
      "execution_count": null,
      "outputs": []
    },
    {
      "cell_type": "code",
      "metadata": {
        "colab": {
          "base_uri": "https://localhost:8080/"
        },
        "id": "GBfx-PQwiGqC",
        "outputId": "c37815cf-c2fe-4c31-d4e4-b16713fd3589"
      },
      "source": [
        "len(corpus_gen)"
      ],
      "execution_count": null,
      "outputs": [
        {
          "output_type": "execute_result",
          "data": {
            "text/plain": [
              "11314"
            ]
          },
          "metadata": {
            "tags": []
          },
          "execution_count": 30
        }
      ]
    },
    {
      "cell_type": "code",
      "metadata": {
        "id": "a5Mlo0Tjf3DK"
      },
      "source": [
        "id2word = Dictionary(corpus_gen)\n",
        "id2word.filter_extremes(no_below=566, no_above=0.95)"
      ],
      "execution_count": null,
      "outputs": []
    },
    {
      "cell_type": "code",
      "metadata": {
        "colab": {
          "base_uri": "https://localhost:8080/"
        },
        "id": "_0x2DKt3mMUH",
        "outputId": "2fb94f07-b61c-4e9d-8fd3-df837e6d2496"
      },
      "source": [
        "print(id2word)"
      ],
      "execution_count": null,
      "outputs": [
        {
          "output_type": "stream",
          "text": [
            "Dictionary(204 unique tokens: ['call', 'car', 'dai', 'engin', 'know']...)\n"
          ],
          "name": "stdout"
        }
      ]
    },
    {
      "cell_type": "code",
      "metadata": {
        "colab": {
          "base_uri": "https://localhost:8080/"
        },
        "id": "vdZttn40gQc2",
        "outputId": "70f7c882-84bd-4bd5-99e3-8a9f9a9ecace"
      },
      "source": [
        "print(id2word.token2id)"
      ],
      "execution_count": null,
      "outputs": [
        {
          "output_type": "stream",
          "text": [
            "{'call': 0, 'car': 1, 'dai': 2, 'engin': 3, 'know': 4, 'look': 5, 'small': 6, 'thank': 7, 'wonder': 8, 'year': 9, 'answer': 10, 'base': 11, 'card': 12, 'edu': 13, 'experi': 14, 'gui': 15, 'number': 16, 'report': 17, 'send': 18, 'actual': 19, 'advanc': 20, 'better': 21, 'bit': 22, 'feel': 23, 'good': 24, 'got': 25, 'great': 26, 'heard': 27, 'help': 28, 'life': 29, 'like': 30, 'line': 31, 'mayb': 32, 'new': 33, 'opinion': 34, 'peopl': 35, 'plai': 36, 'price': 37, 'probabl': 38, 'question': 39, 'read': 40, 'real': 41, 'recent': 42, 'start': 43, 'time': 44, 'us': 45, 'wai': 46, 'articl': 47, 'com': 48, 'far': 49, 'inform': 50, 'person': 51, 'phone': 52, 'point': 53, 'requir': 54, 'thing': 55, 'write': 56, 'wrote': 57, 'mean': 58, 'possibl': 59, 'right': 60, 'set': 61, 'softwar': 62, 'tell': 63, 'understand': 64, 'world': 65, 'ye': 66, 'agre': 67, 'allow': 68, 'apr': 69, 'believ': 70, 'check': 71, 'come': 72, 'consid': 73, 'control': 74, 'cours': 75, 'follow': 76, 'given': 77, 'govern': 78, 'hand': 79, 'hard': 80, 'hope': 81, 'john': 82, 'kill': 83, 'make': 84, 'need': 85, 'power': 86, 'reason': 87, 'result': 88, 'sai': 89, 'state': 90, 'support': 91, 'todai': 92, 'email': 93, 'file': 94, 'sure': 95, 'thought': 96, 'try': 97, 'accept': 98, 'avail': 99, 'data': 100, 'exist': 101, 'fact': 102, 'go': 103, 'list': 104, 'long': 105, 'note': 106, 'post': 107, 'problem': 108, 'refer': 109, 'said': 110, 'true': 111, 'appreci': 112, 'chang': 113, 'bui': 114, 'mention': 115, 'work': 116, 'wrong': 117, 'run': 118, 'think': 119, 'want': 120, 'assum': 121, 'case': 122, 'christian': 123, 'david': 124, 'differ': 125, 'end': 126, 'exampl': 127, 'get': 128, 'god': 129, 'guess': 130, 'kind': 131, 'littl': 132, 'live': 133, 'man': 134, 'mind': 135, 'pretti': 136, 'second': 137, 'current': 138, 'kei': 139, 'let': 140, 'major': 141, 'place': 142, 'provid': 143, 'sourc': 144, 'take': 145, 'ask': 146, 'includ': 147, 'old': 148, 'sound': 149, 'caus': 150, 'gener': 151, 'group': 152, 'happen': 153, 'origin': 154, 'standard': 155, 'abl': 156, 'big': 157, 'complet': 158, 'import': 159, 'program': 160, 'won': 161, 'word': 162, 'ago': 163, 'awai': 164, 'best': 165, 'book': 166, 'care': 167, 'claim': 168, 'close': 169, 'drive': 170, 'high': 171, 'interest': 172, 'law': 173, 'rememb': 174, 'respons': 175, 'turn': 176, 'univers': 177, 'seen': 178, 'matter': 179, 'window': 180, 'order': 181, 'free': 182, 'mail': 183, 'left': 184, 'isn': 185, 'game': 186, 'lot': 187, 'larg': 188, 'week': 189, 'effect': 190, 'public': 191, 'have': 192, 'issu': 193, 'talk': 194, 'home': 195, 'net': 196, 'idea': 197, 'nation': 198, 'area': 199, 'discuss': 200, 'bad': 201, 'suggest': 202, 'internet': 203}\n"
          ],
          "name": "stdout"
        }
      ]
    },
    {
      "cell_type": "code",
      "metadata": {
        "colab": {
          "base_uri": "https://localhost:8080/"
        },
        "id": "KpBCcrgGgQyn",
        "outputId": "c3fb7cb2-998a-4afe-ca80-98f2b0aa5994"
      },
      "source": [
        "print(id2word.token2id.keys())"
      ],
      "execution_count": null,
      "outputs": [
        {
          "output_type": "stream",
          "text": [
            "dict_keys(['call', 'car', 'dai', 'engin', 'know', 'look', 'small', 'thank', 'wonder', 'year', 'answer', 'base', 'card', 'edu', 'experi', 'gui', 'number', 'report', 'send', 'actual', 'advanc', 'better', 'bit', 'feel', 'good', 'got', 'great', 'heard', 'help', 'life', 'like', 'line', 'mayb', 'new', 'opinion', 'peopl', 'plai', 'price', 'probabl', 'question', 'read', 'real', 'recent', 'start', 'time', 'us', 'wai', 'articl', 'com', 'far', 'inform', 'person', 'phone', 'point', 'requir', 'thing', 'write', 'wrote', 'mean', 'possibl', 'right', 'set', 'softwar', 'tell', 'understand', 'world', 'ye', 'agre', 'allow', 'apr', 'believ', 'check', 'come', 'consid', 'control', 'cours', 'follow', 'given', 'govern', 'hand', 'hard', 'hope', 'john', 'kill', 'make', 'need', 'power', 'reason', 'result', 'sai', 'state', 'support', 'todai', 'email', 'file', 'sure', 'thought', 'try', 'accept', 'avail', 'data', 'exist', 'fact', 'go', 'list', 'long', 'note', 'post', 'problem', 'refer', 'said', 'true', 'appreci', 'chang', 'bui', 'mention', 'work', 'wrong', 'run', 'think', 'want', 'assum', 'case', 'christian', 'david', 'differ', 'end', 'exampl', 'get', 'god', 'guess', 'kind', 'littl', 'live', 'man', 'mind', 'pretti', 'second', 'current', 'kei', 'let', 'major', 'place', 'provid', 'sourc', 'take', 'ask', 'includ', 'old', 'sound', 'caus', 'gener', 'group', 'happen', 'origin', 'standard', 'abl', 'big', 'complet', 'import', 'program', 'won', 'word', 'ago', 'awai', 'best', 'book', 'care', 'claim', 'close', 'drive', 'high', 'interest', 'law', 'rememb', 'respons', 'turn', 'univers', 'seen', 'matter', 'window', 'order', 'free', 'mail', 'left', 'isn', 'game', 'lot', 'larg', 'week', 'effect', 'public', 'have', 'issu', 'talk', 'home', 'net', 'idea', 'nation', 'area', 'discuss', 'bad', 'suggest', 'internet'])\n"
          ],
          "name": "stdout"
        }
      ]
    },
    {
      "cell_type": "code",
      "metadata": {
        "colab": {
          "base_uri": "https://localhost:8080/"
        },
        "id": "RY1EmXTVgSF1",
        "outputId": "4e557b47-faff-49a6-ff2c-f537e9b32409"
      },
      "source": [
        "print(id2word.dfs)"
      ],
      "execution_count": null,
      "outputs": [
        {
          "output_type": "stream",
          "text": [
            "{8: 677, 1: 652, 2: 1202, 0: 1012, 6: 568, 4: 3393, 3: 622, 9: 1871, 5: 2095, 7: 1966, 17: 570, 16: 1117, 14: 582, 18: 705, 12: 612, 11: 752, 10: 721, 15: 568, 13: 5315, 43: 1189, 29: 656, 46: 2084, 33: 2623, 22: 846, 32: 748, 39: 1560, 27: 711, 37: 570, 31: 877, 30: 3642, 42: 600, 38: 1063, 25: 1173, 23: 684, 21: 1174, 26: 900, 24: 2119, 34: 960, 35: 2469, 45: 2368, 41: 833, 36: 729, 19: 1059, 28: 1411, 20: 623, 40: 1356, 44: 2602, 57: 766, 56: 5760, 47: 4971, 49: 916, 54: 692, 53: 1483, 52: 609, 50: 1056, 48: 3455, 55: 2006, 51: 1187, 65: 942, 66: 744, 58: 1404, 64: 704, 62: 606, 60: 1764, 61: 928, 59: 1148, 63: 1158, 69: 2554, 82: 668, 86: 889, 84: 1049, 85: 1902, 74: 830, 78: 820, 88: 635, 90: 1181, 72: 1601, 70: 1346, 80: 730, 91: 894, 67: 626, 79: 704, 81: 742, 71: 593, 75: 987, 89: 1233, 76: 1174, 83: 613, 87: 1244, 68: 702, 77: 645, 73: 914, 92: 651, 93: 735, 96: 872, 95: 1352, 97: 1572, 94: 784, 98: 597, 105: 1003, 108: 1744, 104: 711, 106: 762, 101: 788, 100: 581, 102: 1069, 107: 1620, 99: 801, 110: 1280, 111: 843, 103: 1246, 109: 652, 113: 867, 112: 668, 116: 2185, 117: 792, 115: 615, 114: 679, 118: 1278, 120: 2147, 119: 2867, 124: 747, 126: 887, 125: 1305, 129: 800, 136: 623, 122: 1169, 134: 664, 123: 578, 135: 579, 133: 919, 127: 746, 131: 732, 132: 1063, 137: 812, 130: 566, 121: 606, 128: 1003, 140: 1271, 138: 762, 139: 575, 143: 733, 144: 591, 145: 605, 142: 993, 141: 581, 149: 656, 147: 1076, 146: 1142, 148: 763, 152: 902, 155: 599, 153: 939, 154: 937, 150: 719, 151: 1073, 160: 911, 157: 694, 162: 806, 158: 574, 156: 800, 159: 603, 161: 654, 169: 596, 170: 804, 177: 1188, 174: 650, 176: 678, 168: 730, 173: 725, 164: 716, 163: 668, 172: 1090, 166: 627, 171: 703, 175: 730, 165: 928, 167: 611, 178: 763, 180: 927, 179: 612, 181: 764, 182: 597, 183: 654, 184: 600, 185: 772, 186: 717, 187: 1131, 188: 613, 189: 610, 190: 662, 191: 676, 192: 807, 194: 885, 193: 676, 195: 567, 196: 588, 197: 908, 198: 638, 199: 578, 200: 611, 201: 749, 202: 736, 203: 638}\n"
          ],
          "name": "stdout"
        }
      ]
    },
    {
      "cell_type": "code",
      "metadata": {
        "id": "QtiTjJmTgTnf"
      },
      "source": [
        "corpus1=[id2word.doc2bow(doc) for doc in corpus_gen]"
      ],
      "execution_count": null,
      "outputs": []
    },
    {
      "cell_type": "code",
      "metadata": {
        "id": "D8TON9PQgU_-"
      },
      "source": [
        "corpus2=[[(token[0],(token[1]/sum(n for _, n in doc))) for token in doc] for doc in corpus1]"
      ],
      "execution_count": null,
      "outputs": []
    },
    {
      "cell_type": "code",
      "metadata": {
        "id": "q6nlpdl2gW-e"
      },
      "source": [
        "corpus3=[[(token[0],1) for token in doc] for doc in corpus1]"
      ],
      "execution_count": null,
      "outputs": []
    },
    {
      "cell_type": "code",
      "metadata": {
        "id": "NMSAegK7gYUN"
      },
      "source": [
        "tfidf=TfidfModel(dictionary=id2word, normalize=True)\n",
        "corpus4=[tfidf[id2word.doc2bow(doc)] for doc in corpus_gen]"
      ],
      "execution_count": null,
      "outputs": []
    },
    {
      "cell_type": "code",
      "metadata": {
        "id": "rI6EPVSgqnzu"
      },
      "source": [
        "newdf = pd.DataFrame(corpus1[0])"
      ],
      "execution_count": null,
      "outputs": []
    },
    {
      "cell_type": "code",
      "metadata": {
        "id": "_PfQ-2Kyjv6v"
      },
      "source": [
        "newdf = pd.DataFrame(corpus1[0])\n",
        "newdf2 = pd.DataFrame(corpus2[0])\n",
        "newdf3 = pd.DataFrame(corpus3[0])\n",
        "newdf4 = pd.DataFrame(corpus4[0])\n",
        "\n",
        "newdf['corpus2'] = newdf2[1]\n",
        "newdf['corpus3'] = newdf3[1]\n",
        "newdf['corpus4'] = newdf4[1]"
      ],
      "execution_count": null,
      "outputs": []
    },
    {
      "cell_type": "code",
      "metadata": {
        "id": "TRFYN9Sdp19Q"
      },
      "source": [
        "newdf.drop(columns=0, inplace=True)"
      ],
      "execution_count": null,
      "outputs": []
    },
    {
      "cell_type": "code",
      "metadata": {
        "id": "9v5CH76nrPzN"
      },
      "source": [
        "newdf.rename(columns={1:\"corpus1\"}, inplace=True)"
      ],
      "execution_count": null,
      "outputs": []
    },
    {
      "cell_type": "code",
      "metadata": {
        "colab": {
          "base_uri": "https://localhost:8080/",
          "height": 348
        },
        "id": "hZkJUz5jr6en",
        "outputId": "f9ff641c-c9de-422c-b007-01bd80f4f9eb"
      },
      "source": [
        "newdf"
      ],
      "execution_count": null,
      "outputs": [
        {
          "output_type": "execute_result",
          "data": {
            "text/html": [
              "<div>\n",
              "<style scoped>\n",
              "    .dataframe tbody tr th:only-of-type {\n",
              "        vertical-align: middle;\n",
              "    }\n",
              "\n",
              "    .dataframe tbody tr th {\n",
              "        vertical-align: top;\n",
              "    }\n",
              "\n",
              "    .dataframe thead th {\n",
              "        text-align: right;\n",
              "    }\n",
              "</style>\n",
              "<table border=\"1\" class=\"dataframe\">\n",
              "  <thead>\n",
              "    <tr style=\"text-align: right;\">\n",
              "      <th></th>\n",
              "      <th>corpus1</th>\n",
              "      <th>corpus2</th>\n",
              "      <th>corpus3</th>\n",
              "      <th>corpus4</th>\n",
              "    </tr>\n",
              "  </thead>\n",
              "  <tbody>\n",
              "    <tr>\n",
              "      <th>0</th>\n",
              "      <td>1</td>\n",
              "      <td>0.083333</td>\n",
              "      <td>1</td>\n",
              "      <td>0.220339</td>\n",
              "    </tr>\n",
              "    <tr>\n",
              "      <th>1</th>\n",
              "      <td>3</td>\n",
              "      <td>0.250000</td>\n",
              "      <td>1</td>\n",
              "      <td>0.781398</td>\n",
              "    </tr>\n",
              "    <tr>\n",
              "      <th>2</th>\n",
              "      <td>1</td>\n",
              "      <td>0.083333</td>\n",
              "      <td>1</td>\n",
              "      <td>0.204635</td>\n",
              "    </tr>\n",
              "    <tr>\n",
              "      <th>3</th>\n",
              "      <td>1</td>\n",
              "      <td>0.083333</td>\n",
              "      <td>1</td>\n",
              "      <td>0.264765</td>\n",
              "    </tr>\n",
              "    <tr>\n",
              "      <th>4</th>\n",
              "      <td>1</td>\n",
              "      <td>0.083333</td>\n",
              "      <td>1</td>\n",
              "      <td>0.109921</td>\n",
              "    </tr>\n",
              "    <tr>\n",
              "      <th>5</th>\n",
              "      <td>1</td>\n",
              "      <td>0.083333</td>\n",
              "      <td>1</td>\n",
              "      <td>0.153928</td>\n",
              "    </tr>\n",
              "    <tr>\n",
              "      <th>6</th>\n",
              "      <td>1</td>\n",
              "      <td>0.083333</td>\n",
              "      <td>1</td>\n",
              "      <td>0.273054</td>\n",
              "    </tr>\n",
              "    <tr>\n",
              "      <th>7</th>\n",
              "      <td>1</td>\n",
              "      <td>0.083333</td>\n",
              "      <td>1</td>\n",
              "      <td>0.159729</td>\n",
              "    </tr>\n",
              "    <tr>\n",
              "      <th>8</th>\n",
              "      <td>1</td>\n",
              "      <td>0.083333</td>\n",
              "      <td>1</td>\n",
              "      <td>0.257032</td>\n",
              "    </tr>\n",
              "    <tr>\n",
              "      <th>9</th>\n",
              "      <td>1</td>\n",
              "      <td>0.083333</td>\n",
              "      <td>1</td>\n",
              "      <td>0.164249</td>\n",
              "    </tr>\n",
              "  </tbody>\n",
              "</table>\n",
              "</div>"
            ],
            "text/plain": [
              "   corpus1   corpus2  corpus3   corpus4\n",
              "0        1  0.083333        1  0.220339\n",
              "1        3  0.250000        1  0.781398\n",
              "2        1  0.083333        1  0.204635\n",
              "3        1  0.083333        1  0.264765\n",
              "4        1  0.083333        1  0.109921\n",
              "5        1  0.083333        1  0.153928\n",
              "6        1  0.083333        1  0.273054\n",
              "7        1  0.083333        1  0.159729\n",
              "8        1  0.083333        1  0.257032\n",
              "9        1  0.083333        1  0.164249"
            ]
          },
          "metadata": {
            "tags": []
          },
          "execution_count": 44
        }
      ]
    },
    {
      "cell_type": "code",
      "metadata": {
        "id": "0PZ6EPHAtO4E"
      },
      "source": [
        "newdict = id2word.token2id"
      ],
      "execution_count": null,
      "outputs": []
    },
    {
      "cell_type": "code",
      "metadata": {
        "id": "_S69kuc5sR-1"
      },
      "source": [
        "dicdf = pd.DataFrame.from_dict(newdict, orient='index')"
      ],
      "execution_count": null,
      "outputs": []
    },
    {
      "cell_type": "code",
      "metadata": {
        "id": "nPz-sVRgs1rw"
      },
      "source": [
        "dicdf['values']=dicdf.index"
      ],
      "execution_count": null,
      "outputs": []
    },
    {
      "cell_type": "code",
      "metadata": {
        "colab": {
          "base_uri": "https://localhost:8080/",
          "height": 437
        },
        "id": "eQdDRdo0u01l",
        "outputId": "e64cc432-1cfc-4d5d-951a-0a3c5e6a2f7f"
      },
      "source": [
        "dicdf.set_index(0, drop=True)"
      ],
      "execution_count": null,
      "outputs": [
        {
          "output_type": "execute_result",
          "data": {
            "text/html": [
              "<div>\n",
              "<style scoped>\n",
              "    .dataframe tbody tr th:only-of-type {\n",
              "        vertical-align: middle;\n",
              "    }\n",
              "\n",
              "    .dataframe tbody tr th {\n",
              "        vertical-align: top;\n",
              "    }\n",
              "\n",
              "    .dataframe thead th {\n",
              "        text-align: right;\n",
              "    }\n",
              "</style>\n",
              "<table border=\"1\" class=\"dataframe\">\n",
              "  <thead>\n",
              "    <tr style=\"text-align: right;\">\n",
              "      <th></th>\n",
              "      <th>values</th>\n",
              "    </tr>\n",
              "    <tr>\n",
              "      <th>0</th>\n",
              "      <th></th>\n",
              "    </tr>\n",
              "  </thead>\n",
              "  <tbody>\n",
              "    <tr>\n",
              "      <th>0</th>\n",
              "      <td>call</td>\n",
              "    </tr>\n",
              "    <tr>\n",
              "      <th>1</th>\n",
              "      <td>car</td>\n",
              "    </tr>\n",
              "    <tr>\n",
              "      <th>2</th>\n",
              "      <td>dai</td>\n",
              "    </tr>\n",
              "    <tr>\n",
              "      <th>3</th>\n",
              "      <td>engin</td>\n",
              "    </tr>\n",
              "    <tr>\n",
              "      <th>4</th>\n",
              "      <td>know</td>\n",
              "    </tr>\n",
              "    <tr>\n",
              "      <th>...</th>\n",
              "      <td>...</td>\n",
              "    </tr>\n",
              "    <tr>\n",
              "      <th>199</th>\n",
              "      <td>area</td>\n",
              "    </tr>\n",
              "    <tr>\n",
              "      <th>200</th>\n",
              "      <td>discuss</td>\n",
              "    </tr>\n",
              "    <tr>\n",
              "      <th>201</th>\n",
              "      <td>bad</td>\n",
              "    </tr>\n",
              "    <tr>\n",
              "      <th>202</th>\n",
              "      <td>suggest</td>\n",
              "    </tr>\n",
              "    <tr>\n",
              "      <th>203</th>\n",
              "      <td>internet</td>\n",
              "    </tr>\n",
              "  </tbody>\n",
              "</table>\n",
              "<p>204 rows × 1 columns</p>\n",
              "</div>"
            ],
            "text/plain": [
              "       values\n",
              "0            \n",
              "0        call\n",
              "1         car\n",
              "2         dai\n",
              "3       engin\n",
              "4        know\n",
              "..        ...\n",
              "199      area\n",
              "200   discuss\n",
              "201       bad\n",
              "202   suggest\n",
              "203  internet\n",
              "\n",
              "[204 rows x 1 columns]"
            ]
          },
          "metadata": {
            "tags": []
          },
          "execution_count": 48
        }
      ]
    },
    {
      "cell_type": "code",
      "metadata": {
        "id": "ZaHtB-11vERh"
      },
      "source": [
        "dicdf = dicdf[0:10]"
      ],
      "execution_count": null,
      "outputs": []
    },
    {
      "cell_type": "code",
      "metadata": {
        "id": "Q-2DiaYAwZg0"
      },
      "source": [
        "newdf = newdf.set_index(dicdf.index)"
      ],
      "execution_count": null,
      "outputs": []
    },
    {
      "cell_type": "code",
      "metadata": {
        "id": "xrihscErTFZ-"
      },
      "source": [
        "mergeddf = df.merge(newdf, left_index=True, right_index=True)"
      ],
      "execution_count": null,
      "outputs": []
    },
    {
      "cell_type": "code",
      "metadata": {
        "colab": {
          "base_uri": "https://localhost:8080/",
          "height": 348
        },
        "id": "8ZOIC42_TamI",
        "outputId": "54f8a342-d2c3-4a52-a273-6c4c7912d2d4"
      },
      "source": [
        "mergeddf"
      ],
      "execution_count": null,
      "outputs": [
        {
          "output_type": "execute_result",
          "data": {
            "text/html": [
              "<div>\n",
              "<style scoped>\n",
              "    .dataframe tbody tr th:only-of-type {\n",
              "        vertical-align: middle;\n",
              "    }\n",
              "\n",
              "    .dataframe tbody tr th {\n",
              "        vertical-align: top;\n",
              "    }\n",
              "\n",
              "    .dataframe thead th {\n",
              "        text-align: right;\n",
              "    }\n",
              "</style>\n",
              "<table border=\"1\" class=\"dataframe\">\n",
              "  <thead>\n",
              "    <tr style=\"text-align: right;\">\n",
              "      <th></th>\n",
              "      <th>CountVectorizer</th>\n",
              "      <th>Tfidf1</th>\n",
              "      <th>Tfidf2</th>\n",
              "      <th>Binarizercountvec</th>\n",
              "      <th>corpus1</th>\n",
              "      <th>corpus2</th>\n",
              "      <th>corpus3</th>\n",
              "      <th>corpus4</th>\n",
              "    </tr>\n",
              "  </thead>\n",
              "  <tbody>\n",
              "    <tr>\n",
              "      <th>call</th>\n",
              "      <td>1.0</td>\n",
              "      <td>0.083333</td>\n",
              "      <td>0.225601</td>\n",
              "      <td>1.0</td>\n",
              "      <td>1</td>\n",
              "      <td>0.083333</td>\n",
              "      <td>1</td>\n",
              "      <td>0.220339</td>\n",
              "    </tr>\n",
              "    <tr>\n",
              "      <th>car</th>\n",
              "      <td>3.0</td>\n",
              "      <td>0.250000</td>\n",
              "      <td>0.763957</td>\n",
              "      <td>1.0</td>\n",
              "      <td>3</td>\n",
              "      <td>0.250000</td>\n",
              "      <td>1</td>\n",
              "      <td>0.781398</td>\n",
              "    </tr>\n",
              "    <tr>\n",
              "      <th>dai</th>\n",
              "      <td>1.0</td>\n",
              "      <td>0.083333</td>\n",
              "      <td>0.214232</td>\n",
              "      <td>1.0</td>\n",
              "      <td>1</td>\n",
              "      <td>0.083333</td>\n",
              "      <td>1</td>\n",
              "      <td>0.204635</td>\n",
              "    </tr>\n",
              "    <tr>\n",
              "      <th>engin</th>\n",
              "      <td>1.0</td>\n",
              "      <td>0.083333</td>\n",
              "      <td>0.257765</td>\n",
              "      <td>1.0</td>\n",
              "      <td>1</td>\n",
              "      <td>0.083333</td>\n",
              "      <td>1</td>\n",
              "      <td>0.264765</td>\n",
              "    </tr>\n",
              "    <tr>\n",
              "      <th>know</th>\n",
              "      <td>1.0</td>\n",
              "      <td>0.083333</td>\n",
              "      <td>0.145660</td>\n",
              "      <td>1.0</td>\n",
              "      <td>1</td>\n",
              "      <td>0.083333</td>\n",
              "      <td>1</td>\n",
              "      <td>0.109921</td>\n",
              "    </tr>\n",
              "    <tr>\n",
              "      <th>look</th>\n",
              "      <td>1.0</td>\n",
              "      <td>0.083333</td>\n",
              "      <td>0.177521</td>\n",
              "      <td>1.0</td>\n",
              "      <td>1</td>\n",
              "      <td>0.083333</td>\n",
              "      <td>1</td>\n",
              "      <td>0.153928</td>\n",
              "    </tr>\n",
              "    <tr>\n",
              "      <th>small</th>\n",
              "      <td>1.0</td>\n",
              "      <td>0.083333</td>\n",
              "      <td>0.263766</td>\n",
              "      <td>1.0</td>\n",
              "      <td>1</td>\n",
              "      <td>0.083333</td>\n",
              "      <td>1</td>\n",
              "      <td>0.273054</td>\n",
              "    </tr>\n",
              "    <tr>\n",
              "      <th>thank</th>\n",
              "      <td>1.0</td>\n",
              "      <td>0.083333</td>\n",
              "      <td>0.181720</td>\n",
              "      <td>1.0</td>\n",
              "      <td>1</td>\n",
              "      <td>0.083333</td>\n",
              "      <td>1</td>\n",
              "      <td>0.159729</td>\n",
              "    </tr>\n",
              "    <tr>\n",
              "      <th>wonder</th>\n",
              "      <td>1.0</td>\n",
              "      <td>0.083333</td>\n",
              "      <td>0.252166</td>\n",
              "      <td>1.0</td>\n",
              "      <td>1</td>\n",
              "      <td>0.083333</td>\n",
              "      <td>1</td>\n",
              "      <td>0.257032</td>\n",
              "    </tr>\n",
              "    <tr>\n",
              "      <th>year</th>\n",
              "      <td>1.0</td>\n",
              "      <td>0.083333</td>\n",
              "      <td>0.184993</td>\n",
              "      <td>1.0</td>\n",
              "      <td>1</td>\n",
              "      <td>0.083333</td>\n",
              "      <td>1</td>\n",
              "      <td>0.164249</td>\n",
              "    </tr>\n",
              "  </tbody>\n",
              "</table>\n",
              "</div>"
            ],
            "text/plain": [
              "        CountVectorizer    Tfidf1    Tfidf2  ...   corpus2  corpus3   corpus4\n",
              "call                1.0  0.083333  0.225601  ...  0.083333        1  0.220339\n",
              "car                 3.0  0.250000  0.763957  ...  0.250000        1  0.781398\n",
              "dai                 1.0  0.083333  0.214232  ...  0.083333        1  0.204635\n",
              "engin               1.0  0.083333  0.257765  ...  0.083333        1  0.264765\n",
              "know                1.0  0.083333  0.145660  ...  0.083333        1  0.109921\n",
              "look                1.0  0.083333  0.177521  ...  0.083333        1  0.153928\n",
              "small               1.0  0.083333  0.263766  ...  0.083333        1  0.273054\n",
              "thank               1.0  0.083333  0.181720  ...  0.083333        1  0.159729\n",
              "wonder              1.0  0.083333  0.252166  ...  0.083333        1  0.257032\n",
              "year                1.0  0.083333  0.184993  ...  0.083333        1  0.164249\n",
              "\n",
              "[10 rows x 8 columns]"
            ]
          },
          "metadata": {
            "tags": []
          },
          "execution_count": 52
        }
      ]
    },
    {
      "cell_type": "markdown",
      "metadata": {
        "id": "4x-PZGxoUGI7"
      },
      "source": [
        "We are not a 100% sure but we think the difference in corpus4 and Tfidf2 comes from generating two different tfidf models (with two different above and below values)."
      ]
    },
    {
      "cell_type": "code",
      "metadata": {
        "id": "r-cRBdmhUScx"
      },
      "source": [
        "ngramcv = CountVectorizer(ngram_range=(2,2), max_df=0.99, min_df=0.01)"
      ],
      "execution_count": null,
      "outputs": []
    },
    {
      "cell_type": "code",
      "metadata": {
        "id": "6D89_BgbU5Dh"
      },
      "source": [
        "datangramcv = ngramcv.fit_transform(data)"
      ],
      "execution_count": null,
      "outputs": []
    },
    {
      "cell_type": "code",
      "metadata": {
        "colab": {
          "base_uri": "https://localhost:8080/"
        },
        "id": "aYQ3HX_OVNDF",
        "outputId": "68ba6a09-2bb5-4409-e388-3435f2cc4623"
      },
      "source": [
        "ngramcv.get_feature_names()"
      ],
      "execution_count": null,
      "outputs": [
        {
          "output_type": "execute_result",
          "data": {
            "text/plain": [
              "['answer question',\n",
              " 'apr atho',\n",
              " 'apr gmt',\n",
              " 'articl apr',\n",
              " 'ask question',\n",
              " 'atho rutger',\n",
              " 'att com',\n",
              " 'berkelei edu',\n",
              " 'cmu edu',\n",
              " 'com write',\n",
              " 'cso uiuc',\n",
              " 'cwru edu',\n",
              " 'edu david',\n",
              " 'edu write',\n",
              " 'edu wrote',\n",
              " 'greatli appreci',\n",
              " 'hard drive',\n",
              " 'ibm com',\n",
              " 'lc mit',\n",
              " 'let know',\n",
              " 'like know',\n",
              " 'long time',\n",
              " 'look like',\n",
              " 'mit edu',\n",
              " 'nasa gov',\n",
              " 'netcom com',\n",
              " 'new york',\n",
              " 'opinion express',\n",
              " 'pitt edu',\n",
              " 'previou articl',\n",
              " 'rutger edu',\n",
              " 'sound like',\n",
              " 'thank advanc',\n",
              " 'thing like',\n",
              " 'uiuc edu',\n",
              " 'unit state',\n",
              " 'virginia edu',\n",
              " 'want know',\n",
              " 'work fine',\n",
              " 'write articl',\n",
              " 'year ago',\n",
              " 'year old']"
            ]
          },
          "metadata": {
            "tags": []
          },
          "execution_count": 55
        }
      ]
    },
    {
      "cell_type": "markdown",
      "metadata": {
        "id": "7Ypjbd_MW1qz"
      },
      "source": [
        "The difference of the features is that here we were working with tokens consisting of 2 words while in question 3 and 4 one token would only represent one word."
      ]
    },
    {
      "cell_type": "code",
      "metadata": {
        "id": "n2JhgmcEWPaH"
      },
      "source": [
        "temparray = datangramcv.toarray()"
      ],
      "execution_count": null,
      "outputs": []
    },
    {
      "cell_type": "code",
      "metadata": {
        "colab": {
          "base_uri": "https://localhost:8080/",
          "height": 54
        },
        "id": "n5IZ5pHmWkNn",
        "outputId": "3e57d81c-c06f-4d80-8a5a-36807a8fd596"
      },
      "source": [
        "data[3]"
      ],
      "execution_count": null,
      "outputs": [
        {
          "output_type": "execute_result",
          "data": {
            "application/vnd.google.colaboratory.intrinsic+json": {
              "type": "string"
            },
            "text/plain": [
              "'robert kyanko rob rjck uucp wrote abraxi iastat edu write articl abraxi class iastat edu know weitek graphic chip far low quadrilater command requir point weitek address phone number like inform chip joe green harri corpor jgreen csd harri com system divis thing scare person sens humor'"
            ]
          },
          "metadata": {
            "tags": []
          },
          "execution_count": 57
        }
      ]
    },
    {
      "cell_type": "code",
      "metadata": {
        "id": "jgpQBgHBXBqd"
      },
      "source": [
        "finaldf = pd.DataFrame(temparray, columns=ngramcv.get_feature_names())"
      ],
      "execution_count": null,
      "outputs": []
    },
    {
      "cell_type": "code",
      "metadata": {
        "colab": {
          "base_uri": "https://localhost:8080/",
          "height": 445
        },
        "id": "1lrv_zWtXmr-",
        "outputId": "fed36107-4bc7-4676-ef27-41eab1d9d35f"
      },
      "source": [
        "finaldf"
      ],
      "execution_count": null,
      "outputs": [
        {
          "output_type": "execute_result",
          "data": {
            "text/html": [
              "<div>\n",
              "<style scoped>\n",
              "    .dataframe tbody tr th:only-of-type {\n",
              "        vertical-align: middle;\n",
              "    }\n",
              "\n",
              "    .dataframe tbody tr th {\n",
              "        vertical-align: top;\n",
              "    }\n",
              "\n",
              "    .dataframe thead th {\n",
              "        text-align: right;\n",
              "    }\n",
              "</style>\n",
              "<table border=\"1\" class=\"dataframe\">\n",
              "  <thead>\n",
              "    <tr style=\"text-align: right;\">\n",
              "      <th></th>\n",
              "      <th>answer question</th>\n",
              "      <th>apr atho</th>\n",
              "      <th>apr gmt</th>\n",
              "      <th>articl apr</th>\n",
              "      <th>ask question</th>\n",
              "      <th>atho rutger</th>\n",
              "      <th>att com</th>\n",
              "      <th>berkelei edu</th>\n",
              "      <th>cmu edu</th>\n",
              "      <th>com write</th>\n",
              "      <th>cso uiuc</th>\n",
              "      <th>cwru edu</th>\n",
              "      <th>edu david</th>\n",
              "      <th>edu write</th>\n",
              "      <th>edu wrote</th>\n",
              "      <th>greatli appreci</th>\n",
              "      <th>hard drive</th>\n",
              "      <th>ibm com</th>\n",
              "      <th>lc mit</th>\n",
              "      <th>let know</th>\n",
              "      <th>like know</th>\n",
              "      <th>long time</th>\n",
              "      <th>look like</th>\n",
              "      <th>mit edu</th>\n",
              "      <th>nasa gov</th>\n",
              "      <th>netcom com</th>\n",
              "      <th>new york</th>\n",
              "      <th>opinion express</th>\n",
              "      <th>pitt edu</th>\n",
              "      <th>previou articl</th>\n",
              "      <th>rutger edu</th>\n",
              "      <th>sound like</th>\n",
              "      <th>thank advanc</th>\n",
              "      <th>thing like</th>\n",
              "      <th>uiuc edu</th>\n",
              "      <th>unit state</th>\n",
              "      <th>virginia edu</th>\n",
              "      <th>want know</th>\n",
              "      <th>work fine</th>\n",
              "      <th>write articl</th>\n",
              "      <th>year ago</th>\n",
              "      <th>year old</th>\n",
              "    </tr>\n",
              "  </thead>\n",
              "  <tbody>\n",
              "    <tr>\n",
              "      <th>0</th>\n",
              "      <td>0</td>\n",
              "      <td>0</td>\n",
              "      <td>0</td>\n",
              "      <td>0</td>\n",
              "      <td>0</td>\n",
              "      <td>0</td>\n",
              "      <td>0</td>\n",
              "      <td>0</td>\n",
              "      <td>0</td>\n",
              "      <td>0</td>\n",
              "      <td>0</td>\n",
              "      <td>0</td>\n",
              "      <td>0</td>\n",
              "      <td>0</td>\n",
              "      <td>0</td>\n",
              "      <td>0</td>\n",
              "      <td>0</td>\n",
              "      <td>0</td>\n",
              "      <td>0</td>\n",
              "      <td>0</td>\n",
              "      <td>0</td>\n",
              "      <td>0</td>\n",
              "      <td>0</td>\n",
              "      <td>0</td>\n",
              "      <td>0</td>\n",
              "      <td>0</td>\n",
              "      <td>0</td>\n",
              "      <td>0</td>\n",
              "      <td>0</td>\n",
              "      <td>0</td>\n",
              "      <td>0</td>\n",
              "      <td>0</td>\n",
              "      <td>0</td>\n",
              "      <td>0</td>\n",
              "      <td>0</td>\n",
              "      <td>0</td>\n",
              "      <td>0</td>\n",
              "      <td>0</td>\n",
              "      <td>0</td>\n",
              "      <td>0</td>\n",
              "      <td>0</td>\n",
              "      <td>0</td>\n",
              "    </tr>\n",
              "    <tr>\n",
              "      <th>1</th>\n",
              "      <td>0</td>\n",
              "      <td>0</td>\n",
              "      <td>0</td>\n",
              "      <td>0</td>\n",
              "      <td>0</td>\n",
              "      <td>0</td>\n",
              "      <td>0</td>\n",
              "      <td>0</td>\n",
              "      <td>0</td>\n",
              "      <td>0</td>\n",
              "      <td>0</td>\n",
              "      <td>0</td>\n",
              "      <td>0</td>\n",
              "      <td>0</td>\n",
              "      <td>0</td>\n",
              "      <td>0</td>\n",
              "      <td>0</td>\n",
              "      <td>0</td>\n",
              "      <td>0</td>\n",
              "      <td>0</td>\n",
              "      <td>0</td>\n",
              "      <td>0</td>\n",
              "      <td>0</td>\n",
              "      <td>0</td>\n",
              "      <td>0</td>\n",
              "      <td>0</td>\n",
              "      <td>0</td>\n",
              "      <td>0</td>\n",
              "      <td>0</td>\n",
              "      <td>0</td>\n",
              "      <td>0</td>\n",
              "      <td>0</td>\n",
              "      <td>0</td>\n",
              "      <td>0</td>\n",
              "      <td>0</td>\n",
              "      <td>0</td>\n",
              "      <td>0</td>\n",
              "      <td>0</td>\n",
              "      <td>0</td>\n",
              "      <td>0</td>\n",
              "      <td>0</td>\n",
              "      <td>0</td>\n",
              "    </tr>\n",
              "    <tr>\n",
              "      <th>2</th>\n",
              "      <td>0</td>\n",
              "      <td>0</td>\n",
              "      <td>0</td>\n",
              "      <td>0</td>\n",
              "      <td>0</td>\n",
              "      <td>0</td>\n",
              "      <td>0</td>\n",
              "      <td>0</td>\n",
              "      <td>0</td>\n",
              "      <td>0</td>\n",
              "      <td>0</td>\n",
              "      <td>0</td>\n",
              "      <td>0</td>\n",
              "      <td>0</td>\n",
              "      <td>0</td>\n",
              "      <td>0</td>\n",
              "      <td>0</td>\n",
              "      <td>0</td>\n",
              "      <td>0</td>\n",
              "      <td>0</td>\n",
              "      <td>0</td>\n",
              "      <td>0</td>\n",
              "      <td>0</td>\n",
              "      <td>0</td>\n",
              "      <td>0</td>\n",
              "      <td>0</td>\n",
              "      <td>0</td>\n",
              "      <td>0</td>\n",
              "      <td>0</td>\n",
              "      <td>0</td>\n",
              "      <td>0</td>\n",
              "      <td>0</td>\n",
              "      <td>0</td>\n",
              "      <td>0</td>\n",
              "      <td>0</td>\n",
              "      <td>0</td>\n",
              "      <td>0</td>\n",
              "      <td>0</td>\n",
              "      <td>0</td>\n",
              "      <td>0</td>\n",
              "      <td>0</td>\n",
              "      <td>0</td>\n",
              "    </tr>\n",
              "    <tr>\n",
              "      <th>3</th>\n",
              "      <td>0</td>\n",
              "      <td>0</td>\n",
              "      <td>0</td>\n",
              "      <td>0</td>\n",
              "      <td>0</td>\n",
              "      <td>0</td>\n",
              "      <td>0</td>\n",
              "      <td>0</td>\n",
              "      <td>0</td>\n",
              "      <td>0</td>\n",
              "      <td>0</td>\n",
              "      <td>0</td>\n",
              "      <td>0</td>\n",
              "      <td>1</td>\n",
              "      <td>0</td>\n",
              "      <td>0</td>\n",
              "      <td>0</td>\n",
              "      <td>0</td>\n",
              "      <td>0</td>\n",
              "      <td>0</td>\n",
              "      <td>0</td>\n",
              "      <td>0</td>\n",
              "      <td>0</td>\n",
              "      <td>0</td>\n",
              "      <td>0</td>\n",
              "      <td>0</td>\n",
              "      <td>0</td>\n",
              "      <td>0</td>\n",
              "      <td>0</td>\n",
              "      <td>0</td>\n",
              "      <td>0</td>\n",
              "      <td>0</td>\n",
              "      <td>0</td>\n",
              "      <td>0</td>\n",
              "      <td>0</td>\n",
              "      <td>0</td>\n",
              "      <td>0</td>\n",
              "      <td>0</td>\n",
              "      <td>0</td>\n",
              "      <td>1</td>\n",
              "      <td>0</td>\n",
              "      <td>0</td>\n",
              "    </tr>\n",
              "    <tr>\n",
              "      <th>4</th>\n",
              "      <td>0</td>\n",
              "      <td>0</td>\n",
              "      <td>0</td>\n",
              "      <td>0</td>\n",
              "      <td>0</td>\n",
              "      <td>0</td>\n",
              "      <td>0</td>\n",
              "      <td>0</td>\n",
              "      <td>1</td>\n",
              "      <td>0</td>\n",
              "      <td>0</td>\n",
              "      <td>0</td>\n",
              "      <td>0</td>\n",
              "      <td>0</td>\n",
              "      <td>0</td>\n",
              "      <td>0</td>\n",
              "      <td>0</td>\n",
              "      <td>0</td>\n",
              "      <td>0</td>\n",
              "      <td>0</td>\n",
              "      <td>0</td>\n",
              "      <td>0</td>\n",
              "      <td>0</td>\n",
              "      <td>0</td>\n",
              "      <td>0</td>\n",
              "      <td>0</td>\n",
              "      <td>0</td>\n",
              "      <td>0</td>\n",
              "      <td>0</td>\n",
              "      <td>0</td>\n",
              "      <td>0</td>\n",
              "      <td>0</td>\n",
              "      <td>0</td>\n",
              "      <td>0</td>\n",
              "      <td>0</td>\n",
              "      <td>0</td>\n",
              "      <td>0</td>\n",
              "      <td>0</td>\n",
              "      <td>0</td>\n",
              "      <td>0</td>\n",
              "      <td>0</td>\n",
              "      <td>0</td>\n",
              "    </tr>\n",
              "    <tr>\n",
              "      <th>...</th>\n",
              "      <td>...</td>\n",
              "      <td>...</td>\n",
              "      <td>...</td>\n",
              "      <td>...</td>\n",
              "      <td>...</td>\n",
              "      <td>...</td>\n",
              "      <td>...</td>\n",
              "      <td>...</td>\n",
              "      <td>...</td>\n",
              "      <td>...</td>\n",
              "      <td>...</td>\n",
              "      <td>...</td>\n",
              "      <td>...</td>\n",
              "      <td>...</td>\n",
              "      <td>...</td>\n",
              "      <td>...</td>\n",
              "      <td>...</td>\n",
              "      <td>...</td>\n",
              "      <td>...</td>\n",
              "      <td>...</td>\n",
              "      <td>...</td>\n",
              "      <td>...</td>\n",
              "      <td>...</td>\n",
              "      <td>...</td>\n",
              "      <td>...</td>\n",
              "      <td>...</td>\n",
              "      <td>...</td>\n",
              "      <td>...</td>\n",
              "      <td>...</td>\n",
              "      <td>...</td>\n",
              "      <td>...</td>\n",
              "      <td>...</td>\n",
              "      <td>...</td>\n",
              "      <td>...</td>\n",
              "      <td>...</td>\n",
              "      <td>...</td>\n",
              "      <td>...</td>\n",
              "      <td>...</td>\n",
              "      <td>...</td>\n",
              "      <td>...</td>\n",
              "      <td>...</td>\n",
              "      <td>...</td>\n",
              "    </tr>\n",
              "    <tr>\n",
              "      <th>11309</th>\n",
              "      <td>0</td>\n",
              "      <td>0</td>\n",
              "      <td>0</td>\n",
              "      <td>0</td>\n",
              "      <td>0</td>\n",
              "      <td>0</td>\n",
              "      <td>0</td>\n",
              "      <td>0</td>\n",
              "      <td>0</td>\n",
              "      <td>0</td>\n",
              "      <td>0</td>\n",
              "      <td>0</td>\n",
              "      <td>0</td>\n",
              "      <td>0</td>\n",
              "      <td>0</td>\n",
              "      <td>0</td>\n",
              "      <td>0</td>\n",
              "      <td>0</td>\n",
              "      <td>0</td>\n",
              "      <td>0</td>\n",
              "      <td>0</td>\n",
              "      <td>0</td>\n",
              "      <td>0</td>\n",
              "      <td>0</td>\n",
              "      <td>0</td>\n",
              "      <td>0</td>\n",
              "      <td>0</td>\n",
              "      <td>0</td>\n",
              "      <td>0</td>\n",
              "      <td>0</td>\n",
              "      <td>0</td>\n",
              "      <td>0</td>\n",
              "      <td>0</td>\n",
              "      <td>0</td>\n",
              "      <td>0</td>\n",
              "      <td>0</td>\n",
              "      <td>0</td>\n",
              "      <td>0</td>\n",
              "      <td>0</td>\n",
              "      <td>0</td>\n",
              "      <td>0</td>\n",
              "      <td>0</td>\n",
              "    </tr>\n",
              "    <tr>\n",
              "      <th>11310</th>\n",
              "      <td>0</td>\n",
              "      <td>0</td>\n",
              "      <td>0</td>\n",
              "      <td>0</td>\n",
              "      <td>0</td>\n",
              "      <td>0</td>\n",
              "      <td>0</td>\n",
              "      <td>0</td>\n",
              "      <td>0</td>\n",
              "      <td>0</td>\n",
              "      <td>0</td>\n",
              "      <td>0</td>\n",
              "      <td>0</td>\n",
              "      <td>0</td>\n",
              "      <td>0</td>\n",
              "      <td>0</td>\n",
              "      <td>0</td>\n",
              "      <td>0</td>\n",
              "      <td>0</td>\n",
              "      <td>0</td>\n",
              "      <td>0</td>\n",
              "      <td>0</td>\n",
              "      <td>0</td>\n",
              "      <td>0</td>\n",
              "      <td>0</td>\n",
              "      <td>0</td>\n",
              "      <td>0</td>\n",
              "      <td>0</td>\n",
              "      <td>0</td>\n",
              "      <td>0</td>\n",
              "      <td>0</td>\n",
              "      <td>0</td>\n",
              "      <td>0</td>\n",
              "      <td>0</td>\n",
              "      <td>0</td>\n",
              "      <td>0</td>\n",
              "      <td>0</td>\n",
              "      <td>0</td>\n",
              "      <td>0</td>\n",
              "      <td>0</td>\n",
              "      <td>0</td>\n",
              "      <td>0</td>\n",
              "    </tr>\n",
              "    <tr>\n",
              "      <th>11311</th>\n",
              "      <td>0</td>\n",
              "      <td>0</td>\n",
              "      <td>0</td>\n",
              "      <td>0</td>\n",
              "      <td>0</td>\n",
              "      <td>0</td>\n",
              "      <td>0</td>\n",
              "      <td>0</td>\n",
              "      <td>0</td>\n",
              "      <td>0</td>\n",
              "      <td>0</td>\n",
              "      <td>0</td>\n",
              "      <td>0</td>\n",
              "      <td>0</td>\n",
              "      <td>0</td>\n",
              "      <td>0</td>\n",
              "      <td>0</td>\n",
              "      <td>0</td>\n",
              "      <td>0</td>\n",
              "      <td>0</td>\n",
              "      <td>0</td>\n",
              "      <td>0</td>\n",
              "      <td>0</td>\n",
              "      <td>0</td>\n",
              "      <td>0</td>\n",
              "      <td>1</td>\n",
              "      <td>0</td>\n",
              "      <td>0</td>\n",
              "      <td>0</td>\n",
              "      <td>0</td>\n",
              "      <td>0</td>\n",
              "      <td>0</td>\n",
              "      <td>0</td>\n",
              "      <td>0</td>\n",
              "      <td>0</td>\n",
              "      <td>0</td>\n",
              "      <td>0</td>\n",
              "      <td>0</td>\n",
              "      <td>0</td>\n",
              "      <td>0</td>\n",
              "      <td>0</td>\n",
              "      <td>0</td>\n",
              "    </tr>\n",
              "    <tr>\n",
              "      <th>11312</th>\n",
              "      <td>0</td>\n",
              "      <td>0</td>\n",
              "      <td>0</td>\n",
              "      <td>0</td>\n",
              "      <td>0</td>\n",
              "      <td>0</td>\n",
              "      <td>0</td>\n",
              "      <td>0</td>\n",
              "      <td>0</td>\n",
              "      <td>0</td>\n",
              "      <td>0</td>\n",
              "      <td>0</td>\n",
              "      <td>0</td>\n",
              "      <td>0</td>\n",
              "      <td>0</td>\n",
              "      <td>0</td>\n",
              "      <td>0</td>\n",
              "      <td>0</td>\n",
              "      <td>0</td>\n",
              "      <td>0</td>\n",
              "      <td>0</td>\n",
              "      <td>0</td>\n",
              "      <td>0</td>\n",
              "      <td>0</td>\n",
              "      <td>0</td>\n",
              "      <td>0</td>\n",
              "      <td>0</td>\n",
              "      <td>0</td>\n",
              "      <td>0</td>\n",
              "      <td>0</td>\n",
              "      <td>0</td>\n",
              "      <td>0</td>\n",
              "      <td>0</td>\n",
              "      <td>0</td>\n",
              "      <td>0</td>\n",
              "      <td>0</td>\n",
              "      <td>0</td>\n",
              "      <td>0</td>\n",
              "      <td>0</td>\n",
              "      <td>0</td>\n",
              "      <td>0</td>\n",
              "      <td>0</td>\n",
              "    </tr>\n",
              "    <tr>\n",
              "      <th>11313</th>\n",
              "      <td>0</td>\n",
              "      <td>0</td>\n",
              "      <td>0</td>\n",
              "      <td>0</td>\n",
              "      <td>0</td>\n",
              "      <td>0</td>\n",
              "      <td>0</td>\n",
              "      <td>0</td>\n",
              "      <td>0</td>\n",
              "      <td>0</td>\n",
              "      <td>0</td>\n",
              "      <td>0</td>\n",
              "      <td>0</td>\n",
              "      <td>0</td>\n",
              "      <td>0</td>\n",
              "      <td>0</td>\n",
              "      <td>0</td>\n",
              "      <td>0</td>\n",
              "      <td>0</td>\n",
              "      <td>0</td>\n",
              "      <td>0</td>\n",
              "      <td>0</td>\n",
              "      <td>0</td>\n",
              "      <td>0</td>\n",
              "      <td>0</td>\n",
              "      <td>0</td>\n",
              "      <td>0</td>\n",
              "      <td>0</td>\n",
              "      <td>0</td>\n",
              "      <td>0</td>\n",
              "      <td>0</td>\n",
              "      <td>0</td>\n",
              "      <td>0</td>\n",
              "      <td>0</td>\n",
              "      <td>0</td>\n",
              "      <td>0</td>\n",
              "      <td>0</td>\n",
              "      <td>0</td>\n",
              "      <td>0</td>\n",
              "      <td>0</td>\n",
              "      <td>0</td>\n",
              "      <td>0</td>\n",
              "    </tr>\n",
              "  </tbody>\n",
              "</table>\n",
              "<p>11314 rows × 42 columns</p>\n",
              "</div>"
            ],
            "text/plain": [
              "       answer question  apr atho  apr gmt  ...  write articl  year ago  year old\n",
              "0                    0         0        0  ...             0         0         0\n",
              "1                    0         0        0  ...             0         0         0\n",
              "2                    0         0        0  ...             0         0         0\n",
              "3                    0         0        0  ...             1         0         0\n",
              "4                    0         0        0  ...             0         0         0\n",
              "...                ...       ...      ...  ...           ...       ...       ...\n",
              "11309                0         0        0  ...             0         0         0\n",
              "11310                0         0        0  ...             0         0         0\n",
              "11311                0         0        0  ...             0         0         0\n",
              "11312                0         0        0  ...             0         0         0\n",
              "11313                0         0        0  ...             0         0         0\n",
              "\n",
              "[11314 rows x 42 columns]"
            ]
          },
          "metadata": {
            "tags": []
          },
          "execution_count": 59
        }
      ]
    },
    {
      "cell_type": "code",
      "metadata": {
        "id": "YWiFv4tuYA5P"
      },
      "source": [
        "headdf = finaldf.max(axis=0)"
      ],
      "execution_count": null,
      "outputs": []
    },
    {
      "cell_type": "code",
      "metadata": {
        "id": "xy1Y86fgZpJy"
      },
      "source": [
        "transposeddf = pd.DataFrame(headdf).transpose()"
      ],
      "execution_count": null,
      "outputs": []
    },
    {
      "cell_type": "code",
      "metadata": {
        "id": "mLXg0qQ3Z6cN"
      },
      "source": [
        "transposeddf.rename({0:'max values'}, axis=\"index\", inplace=True)"
      ],
      "execution_count": null,
      "outputs": []
    },
    {
      "cell_type": "code",
      "metadata": {
        "colab": {
          "base_uri": "https://localhost:8080/",
          "height": 133
        },
        "id": "fJ3eQMTfaFyw",
        "outputId": "32942281-3354-4657-abba-fda0582722b0"
      },
      "source": [
        "transposeddf"
      ],
      "execution_count": null,
      "outputs": [
        {
          "output_type": "execute_result",
          "data": {
            "text/html": [
              "<div>\n",
              "<style scoped>\n",
              "    .dataframe tbody tr th:only-of-type {\n",
              "        vertical-align: middle;\n",
              "    }\n",
              "\n",
              "    .dataframe tbody tr th {\n",
              "        vertical-align: top;\n",
              "    }\n",
              "\n",
              "    .dataframe thead th {\n",
              "        text-align: right;\n",
              "    }\n",
              "</style>\n",
              "<table border=\"1\" class=\"dataframe\">\n",
              "  <thead>\n",
              "    <tr style=\"text-align: right;\">\n",
              "      <th></th>\n",
              "      <th>answer question</th>\n",
              "      <th>apr atho</th>\n",
              "      <th>apr gmt</th>\n",
              "      <th>articl apr</th>\n",
              "      <th>ask question</th>\n",
              "      <th>atho rutger</th>\n",
              "      <th>att com</th>\n",
              "      <th>berkelei edu</th>\n",
              "      <th>cmu edu</th>\n",
              "      <th>com write</th>\n",
              "      <th>cso uiuc</th>\n",
              "      <th>cwru edu</th>\n",
              "      <th>edu david</th>\n",
              "      <th>edu write</th>\n",
              "      <th>edu wrote</th>\n",
              "      <th>greatli appreci</th>\n",
              "      <th>hard drive</th>\n",
              "      <th>ibm com</th>\n",
              "      <th>lc mit</th>\n",
              "      <th>let know</th>\n",
              "      <th>like know</th>\n",
              "      <th>long time</th>\n",
              "      <th>look like</th>\n",
              "      <th>mit edu</th>\n",
              "      <th>nasa gov</th>\n",
              "      <th>netcom com</th>\n",
              "      <th>new york</th>\n",
              "      <th>opinion express</th>\n",
              "      <th>pitt edu</th>\n",
              "      <th>previou articl</th>\n",
              "      <th>rutger edu</th>\n",
              "      <th>sound like</th>\n",
              "      <th>thank advanc</th>\n",
              "      <th>thing like</th>\n",
              "      <th>uiuc edu</th>\n",
              "      <th>unit state</th>\n",
              "      <th>virginia edu</th>\n",
              "      <th>want know</th>\n",
              "      <th>work fine</th>\n",
              "      <th>write articl</th>\n",
              "      <th>year ago</th>\n",
              "      <th>year old</th>\n",
              "    </tr>\n",
              "  </thead>\n",
              "  <tbody>\n",
              "    <tr>\n",
              "      <th>max values</th>\n",
              "      <td>5</td>\n",
              "      <td>3</td>\n",
              "      <td>2</td>\n",
              "      <td>4</td>\n",
              "      <td>5</td>\n",
              "      <td>3</td>\n",
              "      <td>6</td>\n",
              "      <td>6</td>\n",
              "      <td>5</td>\n",
              "      <td>2</td>\n",
              "      <td>6</td>\n",
              "      <td>5</td>\n",
              "      <td>3</td>\n",
              "      <td>2</td>\n",
              "      <td>1</td>\n",
              "      <td>2</td>\n",
              "      <td>12</td>\n",
              "      <td>7</td>\n",
              "      <td>12</td>\n",
              "      <td>4</td>\n",
              "      <td>2</td>\n",
              "      <td>4</td>\n",
              "      <td>5</td>\n",
              "      <td>16</td>\n",
              "      <td>14</td>\n",
              "      <td>9</td>\n",
              "      <td>17</td>\n",
              "      <td>2</td>\n",
              "      <td>3</td>\n",
              "      <td>2</td>\n",
              "      <td>4</td>\n",
              "      <td>3</td>\n",
              "      <td>2</td>\n",
              "      <td>3</td>\n",
              "      <td>6</td>\n",
              "      <td>38</td>\n",
              "      <td>3</td>\n",
              "      <td>3</td>\n",
              "      <td>2</td>\n",
              "      <td>4</td>\n",
              "      <td>3</td>\n",
              "      <td>4</td>\n",
              "    </tr>\n",
              "  </tbody>\n",
              "</table>\n",
              "</div>"
            ],
            "text/plain": [
              "            answer question  apr atho  ...  year ago  year old\n",
              "max values                5         3  ...         3         4\n",
              "\n",
              "[1 rows x 42 columns]"
            ]
          },
          "metadata": {
            "tags": []
          },
          "execution_count": 63
        }
      ]
    }
  ]
}