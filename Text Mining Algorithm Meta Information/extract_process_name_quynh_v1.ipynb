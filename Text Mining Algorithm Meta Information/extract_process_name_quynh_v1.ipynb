{
 "cells": [
  {
   "cell_type": "code",
   "execution_count": 1,
   "metadata": {},
   "outputs": [],
   "source": [
    "from tika import parser \n",
    "import re\n",
    "from collections import Counter"
   ]
  },
  {
   "cell_type": "code",
   "execution_count": 2,
   "metadata": {},
   "outputs": [],
   "source": [
    "class extract_process_name():\n",
    "    def __init__(self, text, keywords_list):\n",
    "        \"\"\"\n",
    "        Params:\n",
    "        text = process document as string\n",
    "        keywords_list = most common keywords to identify process name (based on keywords matrix)\n",
    "        \"\"\"\n",
    "\n",
    "        self.text = text\n",
    "        self.keywords_list = keywords_list\n",
    "        self.output = [] \n",
    "    \n",
    "    def process_name_keywords(self):\n",
    "        # search process name based on selected keywords from keywords_list\n",
    "        # regex: line containing keyword, line break\n",
    "        try: \n",
    "            self.name_keywords = re.search(r'(.+({marker})[^\\n])'.format(marker = '|'.join(self.keywords_list)), self.text, re.IGNORECASE).group(1)\n",
    "            self.output.append(self.name_keywords)\n",
    "            return(self.name_keywords)\n",
    "        except:\n",
    "            print(\"Keywords not found in document\")\n",
    "            \n",
    "    def process_name_title(self):\n",
    "        # search process name based on keyword 'Title'\n",
    "        # regex: Title, any special character, name, line break\n",
    "        try:\n",
    "            self.name_title = re.search(r'((?<=Title(\\W)).+[^\\n])', self.text, re.IGNORECASE).group(1)\n",
    "            self.output.append(self.name_title)\n",
    "            return(self.name_title)\n",
    "        except:\n",
    "            print(\"Keyword {} not found in document\".format(\"'Title'\"))\n",
    "\n",
    "    def process_name_first_line(self):\n",
    "        # extract first line of document \n",
    "        # regex: last line break of first string, name, line break\n",
    "        self.name_first = re.search(r'([^\\n].+[^\\n])', self.text).group(1)\n",
    "        self.output.append(self.name_first)\n",
    "        return(self.name_first)\n",
    "\n",
    "    def most_common(self):\n",
    "        # check which process name appear how often \n",
    "        self.process_name_keywords()\n",
    "        self.process_name_title()\n",
    "        self.process_name_first_line()\n",
    "        cleaned_lst = [string.lstrip().rstrip() for string in self.output]  # remove leading and end whitespaces\n",
    "        c = Counter(cleaned_lst) # most common substrings out of every method \n",
    "        return(c.most_common())"
   ]
  },
  {
   "cell_type": "code",
   "execution_count": 22,
   "metadata": {},
   "outputs": [],
   "source": [
    "file_vec = [\"3 Marcus Institute Purchasing Policy _ Procedure 1.31.19 For FY19(1).pdf\", \"nut_scm_sam_sop_manual_2017.pdf\",\n",
    "           \"TRW.PRO.POL.1063.2-Supply-Chain-Inventory-Management-Policy.pdf\"]"
   ]
  },
  {
   "cell_type": "code",
   "execution_count": 32,
   "metadata": {},
   "outputs": [],
   "source": [
    "file_index = 0\n",
    "raw = parser.from_file(\"data/\"+file_vec[file_index])\n",
    "text = raw[\"content\"]"
   ]
  },
  {
   "cell_type": "code",
   "execution_count": 33,
   "metadata": {},
   "outputs": [
    {
     "data": {
      "text/plain": [
       "\"\\n\\n\\n\\n\\n\\n\\n\\n\\n\\n\\n\\n\\n\\n\\n\\n\\n\\n\\n\\n\\n\\n\\n\\n\\n\\n\\n\\n\\n\\n\\n\\n\\n\\n\\n\\n\\n\\n\\n\\n\\n\\n\\n\\n\\n\\n\\nTRW.PRO.POL.1063.2 Supply Chain Inventory Management Policy  1 \\n\\n \\n\\nTrust Policy \\n\\n \\n\\nSupply Chain Inventory Management Policy (SC010) \\n\\nIssue Date Review Date  Version \\n\\nSeptember 2020 September 2025 2 \\n\\nPurpose \\n\\nThe purpose of this Supply Chain Inventory Management Policy is to identify the relevant \\nStandard Operating Procedures (SOP’s), required to ensure robust and compliant \\ninventory control across the Trust for areas that are controlled by Procurement & Supply \\nChain Management (PSCM). \\n\\nWho should read this document? \\n\\nEmployees within the PSCM and any other departments or teams which act as an interface with or \\ncustomer of these functions.  \\n\\nKey Messages \\n\\nGood Inventory Management is critical to a high performing NHS Trust. Having the right stock level, \\nof the right product, means the Trust can perform the necessary procedures, without holding \\nunnecessary products and negatively impacting cash flow; meaning both operational and financial \\ntargets can be met.   \\n\\n \\n\\nReturning incorrectly ordered or damaged goods must be processed correctly and in a timely \\nfashion so that the trust recovers associated financial costs.     \\n\\n \\n\\nIntroducing new products into the supply chain safely and safe working practices for those who \\nwork in inventory management roles are equally important and again referred to in this policy. \\n\\n Core accountabilities  \\n\\nOwner Head of Supply Chain Management & E-Procurement \\n\\nReview  Finance Senior Management Team Meeting \\n\\nRatification Chief Procurement Officer \\n\\nDissemination \\n(Raising Awareness) \\n\\nHead of Supply Chain Management & E-Procurement \\n\\nCompliance Records and Information Governance \\n\\nLinks to other policies and procedures \\n\\nSupply Chain Inventory Control SC01, Supply Chain New Product Introduction SC02, Supply \\nChain Product Ordering SC03, Supply Chain Product Recall and Returns SC04, Supply Chain \\nProduct Receipting SC05, Supply Chain Stock Issue SC06, Supply Chain Warehouse Health and \\nSafety Guidance SC07 \\n\\nVersion History \\n\\n1 March 2017 Ratified by Chief Procurement Officer and published Trust-wide \\n\\n2 September 2020 Ratified by Head of Supply Chain Management & E-Procurement on \\nbehalf of CPO and published Trust-wide \\n\\n   \\n\\n\\n\\nTRW.PRO.POL.1063.2 Supply Chain Inventory Management Policy  2 \\n\\n \\n\\nThe Trust is committed to creating a fully inclusive and accessible service.  Making equality and \\ndiversity an integral part of the business will enable us to enhance the services we deliver and \\n\\nbetter meet the needs of patients and staff. We will treat people with dignity and respect, promote \\nequality and diversity and eliminate all forms of discrimination, regardless of (but not limited to) \\n\\nage, disability, gender reassignment, race, religion or belief, sex, sexual orientation, marriage/civil \\npartnership and pregnancy/maternity. \\n\\nAn electronic version of this document is available on Trust Documents \\non StaffNET.  Larger text, Braille and Audio versions can be made \\n\\navailable upon request. \\n\\n\\n\\nTRW.PRO.POL.1063.2 Supply Chain Inventory Management Policy  3 \\n\\n \\n\\nContents  \\n\\n \\n\\nSection Description Page \\n\\n1 Introduction 4 \\n\\n2 Purpose, including legal or regulatory background 4 \\n\\n3 Definitions  4 \\n\\n4 Duties 4 \\n\\n5 Main Body of Policy (can be as many sections as required) 4 \\n\\n6 Overall Responsibility for the Document 5 \\n\\n7 Consultation and Ratification 5 \\n\\n8 Dissemination and Implementation 5 \\n\\n9 Monitoring Compliance and Effectiveness 6 \\n\\n10 References and Associated Documentation 6 \\n\\nAppendix 1 Dissemination Plan and Review Checklist 21 \\n\\nAppendix 2 Equality Impact Assessment 23 \\n\\n \\n\\n \\n\\n \\n\\n \\n\\n \\n\\n \\n\\n \\n\\n \\n\\n \\n\\n\\n\\nTRW.PRO.POL.1063.2 Supply Chain Inventory Management Policy  4 \\n\\n \\n\\n1 Introduction  \\n\\nGood supply chain management practices minimise inventory and costs of inventory \\n\\nownership whilst maximising inventory availability for consumers.   This policy identifies all \\n\\nStandard Operating Procedures (SoP’s) for Pharma and Non Pharma inventory.  \\n\\nAdherence to these SoP’s by all departments involved in managing inventories is \\n\\nnecessary to enable care for patients to be delivered whilst also complying with trust \\n\\nfinancial governance processes.   . \\n\\n2 Purpose  \\n\\nThis Policy has a Trust wide coverage and covers all receivers, requisitioners and \\nconsumers of Trust inventory. \\n\\n3 Definitions  \\n\\n\\uf0b7 SOP – Standard Operating Procedure \\n\\n\\uf0b7 SCM – Supply Chain Manager  \\n\\n\\uf0b7 CPO – Chief Procurement Officer \\n\\n\\uf0b7 DoF – Director of Finance \\n\\n\\uf0b7 HSCEP – Head of Supply Chain & E-Procurement \\n\\n\\uf0b7 SCTL – Supply Chain Team Leader \\n\\n\\uf0b7 SCT – Supply Chain Team \\n\\n\\uf0b7 RCA – Root Cause Analysis \\n\\n\\uf0b7 SSCM – Senior Supply Chain Management \\n\\n\\uf0b7 PPM – Pharmacy Procurement Manager \\n\\n4 Duties \\n\\nIt is the responsibility of the Head of Supply Chain & e-Procurement (HSCEP) to manage \\nthe non-pharma supply chain in line with this policy and escalate any problems to the Chief \\nProcurement Officer (CPO). \\n\\n5 Main Body of Policy \\n\\nThe SOP’s that fall under this policy are as follows: \\n\\n \\n\\n5.1 Supply Chain Inventory Control SC01 \\n\\nDescribes identify the key activities in managing inventory throughout the Trust. \\n\\n \\n\\n5.2 Supply Chain New Product Introduction SC02 \\n\\nDescribes the key activities in managing products throughout its lifecycle, including; \\n\\n1. New Product Introduction \\n2. Product Obsolescence  \\n\\n \\n\\n5.3 Supply Chain Product Ordering SC03 \\n\\nDescribes the key activities in ordering goods. \\n\\n \\n\\n5.4 Supply Chain Product Recall and Returns SC04 \\n\\nDescribes the key activities in managing Product Recalls and Returns. \\n\\n\\n\\nTRW.PRO.POL.1063.2 Supply Chain Inventory Management Policy  5 \\n\\n \\n\\nIn the case of Product Recalls, this is related to what happens once the Trust is informed \\nby a Supplier or Regulating Body that a Product Recall is necessary. This does not cover \\nwhat to do in the event of discovering a product defect. \\n\\n \\n\\n5.5 Supply Chain Product Receipting SC05 \\n\\nDescribes the key activities in receipting goods into and around the Trust. \\n\\n \\n\\n5.6 Supply Chain Stock Issue SC06  \\n\\nDescribes the key activities in issuing stock from Store Locations. \\n\\n \\n\\n5.7 Supply Chain Warehouse Health and Safety Guidance SC07  \\n\\nDescribes the key activities in ensuring the safety of employees operating in and around \\nthe warehouse, including the following activities:  \\n\\n1. Slips, trips and falls \\n2. Manual handling \\n3. Mechanical handling \\n4. Pallet movement and storage \\n5. Racking  \\n6. Harmful substances \\n7. Reporting of incidents \\n8. PPE – Personal Protective Equipment \\n\\n \\n\\n \\n\\n6 Overall Responsibility for the Document  \\n\\nIt is the responsibility of the CPO or designate to develop, implement and review this \\npolicy.  \\n\\n7 Consultation and Ratification  \\n\\nThe design and process of review and revision of this policy will comply with The \\nDevelopment and Management of Formal Documents. \\n\\nThe review period for this document is set as default of five years from the date it was last \\nratified, or earlier if developments within or external to the Trust indicate the need for a \\nsignificant revision to the procedures described.   \\n\\nThis document will be reviewed by the Finance Senior Management Team Meeting and \\nratified by the Director of Finance. \\n\\nNon-significant amendments to this document may be made, under delegated authority \\nfrom the Director of Finance, by the nominated owner.  These must be ratified by the \\nDirector of Finance. \\n\\nSignificant reviews and revisions to this document will include a consultation with named \\ngroups, or grades across the Trust.  For non-significant amendments, informal consultation \\nwill be restricted to named groups, or grades who are directly affected by the proposed \\nchanges. \\n\\n8 Dissemination and Implementation  \\n\\nFollowing approval and ratification, this policy will be published in the Trust’s formal \\ndocuments library and all staff will be notified through the Trust’s normal notification \\nprocess. \\n\\n\\n\\nTRW.PRO.POL.1063.2 Supply Chain Inventory Management Policy  6 \\n\\n \\n\\nDocument control arrangements will be in accordance with The Development and \\nManagement of Formal Documents. \\n\\nThe document owner will be responsible for agreeing the training requirements associated \\nwith the newly ratified document with the named Director of Finance and for working with \\nthe Trust’s training function, if required, to arrange for the required training to be delivered. \\n\\n9 Monitoring Compliance and Effectiveness \\n\\nAdherence to the specified SOP’s will be monitored by set periodic audits. Any non-\\nconformance will be documented and a root cause analysis performed. Two or more \\ninstances of any non-conformance will be reported to the CPO for non-Pharmacy supply \\nchain or the Associate Director of Pharmacy for Pharma supply chain. \\n\\nMonitoring and auditing of the SOP’s under this policy will be performed by the SCM for \\nthe main warehouse and trust stores areas and by the Pharmacy Procurement Manager \\n(PPM) for the Pharmacy area.  \\n\\nMonitoring of the SOP’s will be performed on an annual basis and the results and any non-\\nconformances will be reported in the minutes of the Supply Chain monthly meeting \\nminutes for non-Pharmacy areas and in the (current Pharmacy monthly meeting?) for \\nPharmacy areas. \\n\\nThe minutes and actions resulting from the monthly meetings will dictate how non-\\nconformance or amendments to the current documented processes are managed. \\n\\n10 References and Associated Documentation  \\n\\nThe processes and resultant SOP’s related to this policy are based on industry best \\npractice. \\n\\nReferences to Health and Safety in warehouse areas are in accordance with the guidance \\nissued by the Health and Safety Executive. \\n\\nSOP’s related to Pharmacy are in line with – NICE guidelines \\n\\n \\n \\n \\n \\n \\n \\n \\n \\n \\n \\n \\n \\n \\n \\n \\n \\n10.1 Summary Inventory Flow \\n\\n\\n\\nTRW.PRO.POL.1063.2 Supply Chain Inventory Management Policy  7 \\n\\n \\n\\n \\n \\n \\n \\n \\n \\n \\n \\n \\n \\n \\n \\n \\n \\n \\n \\n \\n \\n \\n \\n \\n \\n \\n \\n \\n \\n \\n \\n \\n \\n \\n \\n10.2  Plymouth Warehouse – Inventory Process Flow \\n\\n \\n\\n\\n\\nTRW.PRO.POL.1063.2 Supply Chain Inventory Management Policy  8 \\n\\n \\n\\nSupply Chain - Tier 1 Issuing Location Plymouth Warehouse\\n\\nWho How \\n\\nMaterial Management EDC handheld device \\n\\nMaterial Management EDC\\n\\nMaterial Management Email\\n\\nCentral supply chain/ procurement  Manually \\n\\nGenesis\\n\\nGenesis\\n\\nSystem Automated\\n\\nWarehouse Manager Genesis/Printer\\n\\nWarehouse Operative Manual \\n\\nSystem Automated Genesis\\n\\nWarehouse Manager Genesis\\n\\nWarehouse Manager Delivery note / PO comparison\\n\\nWarehouse Manager Genesis\\n\\nPlymouth warehouse delivery driver Truck\\n\\nWhat \\n\\nStock check\\ncompleted at \\n\\nRequesting \\nLocation\\n\\nDownload stock \\ncheck onto \\n\\nGenesis system\\n\\nIssue demands to \\ncentral team \\n\\nProcess demands\\ninto Genesis\\n\\nGenesis\\ncommunicates \\n\\ndemands to \\nwarehouse\\n\\nPlymouth \\nWarehouse prints\\n\\npick sheets\\n\\nCommence \\npicking\\n\\nMinimum \\nstock level \\n\\nreached?\\n\\nGenerate \\nAutomatic\\n\\nReplenishment \\nDemand\\n\\nYes\\n\\nNo\\n\\nDeliver to L2\\n\\nRelease\\nReplenishment \\n\\nOrders\\n\\nReceive goods at \\nWarehouse\\n\\nGRN delivery, \\nreset stock \\n\\nposition and put \\naway\\n\\nSee Daily \\nDeliverables \\n\\nProcess\\n\\nSee Theatre \\nStores Process\\n\\nStock 'issued' to \\nRL \\n\\n \\n \\n\\n\\n\\nTRW.PRO.POL.1063.2 Supply Chain Inventory Management Policy  9 \\n\\n \\n\\nL2 Porters With delivery cages\\n\\nMaterial Management EDC\\n\\nDD Porters Genesis\\n\\nDD Porters\\n\\nTheatre Store-Store Person Genesis\\n\\nTheatre Store-Store Person \\n\\nDeliver to Daily\\nDelivery Store\\n\\nDeliver to \\nRequesting \\n\\nLocation\\n\\nDeliver to Theatre \\nStore\\n\\nPut away stock \\n\\nPut away stock \\n\\nPut away stock\\n\\nSee Daily Ward \\nDeliveries \\n\\nProcess Flow\\n\\nGRN the stock \\nreceived \\n\\nGRN the stock \\nreceived \\n\\nSee Theatre \\nStore Process \\n\\nFlow\\n\\n\\n\\nTRW.PRO.POL.1063.2 Supply Chain Inventory Management Policy  10 \\n\\n \\n\\n 10.3     Daily Ward Deilveries – Inventory Process Flow \\n \\n\\n \\n   \\n\\nSupply Chain - Tier 1 Issuing Location: Daily Ward Deliveries\\n\\nWho How \\n\\nRequesting location staff Oracle \\n\\nRequesting location staff Genesis\\n\\nTheatre Store - Store Person\\n\\n- Genesis\\n\\nRequesting location staff Handheld device\\n\\nRequesting location staff Genesis\\n\\n- Genesis\\n\\n- Genesis\\n\\nDaily Delivery Porters Manual\\n\\nWhat \\n\\nRequesting Location \\nraises demand for A4 \\n\\nPaper \\n\\nDemand links to \\nGenesis for \\n\\nrequirement \\ncapture\\n\\nGenesis\\nconsolidates \\n\\ndemands to DD \\nStore\\n\\nCommence \\npicking\\n\\nPrint pick sheets\\n\\nScan \\nrequirements at \\n\\nrequesting \\nlocation\\n\\nDownload stock \\ncheck onto \\n\\nGenesis\\n\\nRequirement\\ncaptured in \\n\\nGenesis \\n\\nStock 'issued' to \\nRL \\n\\n \\n \\n\\n\\n\\nTRW.PRO.POL.1063.2 Supply Chain Inventory Management Policy  11 \\n\\n \\n\\nDirect Delivery Porter Genesis\\n\\nDirect Delivery Porter Genesis\\n\\nDirect Delivery Porter Delivery note / PO comparison\\n\\nDirect Delivery Porter Genesis\\n\\nTrolleys\\n\\nDaily Delivery Porters\\n\\nTheatre Store - Store Person Genesis\\n\\nDaily Delivery Porters\\n\\nTheatre Store - Store Person\\n\\nMinimum \\nstock level \\n\\nreached?\\n\\nGenerate \\nAutomatic\\n\\nReplenishment \\nDemand\\n\\nYes\\n\\nNo\\n\\nRelease\\nReplenishment \\n\\nOrders\\n\\nReceive goods at \\nStore\\n\\nGRN delivery, \\nreset stock \\n\\nposition and put \\naway\\n\\nDeliver to \\nRequesting \\n\\nLocation\\n\\nDeliver to Theatre \\nStores\\n\\nPut away stock \\n\\nGRN the stock \\nreceived\\n\\nPut away stock \\n\\nSee Theatre \\nStore Process \\n\\nFlow\\n\\n \\n 10.3     Cardiothoracic Theatre Store – Inventory Process Flow \\n\\n\\n\\nTRW.PRO.POL.1063.2 Supply Chain Inventory Management Policy  12 \\n\\n \\n\\nSupply Chain - Tier 3 Issuing Location: Cardiothoracic Theatre Store (CTS) \\n\\nWho How \\n\\nCTS Staff Non systemised / Visual count\\n\\nRequest location staff Order books\\n\\nRequesting locations staff/end users Note left in store\\n\\nCTS Staff CTS Store\\n\\nCTS Staff Genesis\\n\\nOracle\\n\\nCTS Staff Manual Picking\\n\\nCTS Staff Genesis\\n\\nWhat \\n\\nStock check\\ncompleted\\n\\nOrder books \\ncompleted by\\n\\nRequesting \\nLocations \\n\\nProcess Non Stock \\nItem Orders\\n\\nProcess Stock Item \\nOrders\\n\\nCTS demands \\nconsolidated \\n\\nWalk-in populate \\nwithdrawals sheet\\n\\nCommence Picking \\n\\nIssue stock on \\nsystem\\n\\n \\n \\n\\n\\n\\nTRW.PRO.POL.1063.2 Supply Chain Inventory Management Policy  13 \\n\\n \\n\\nCTS Staff Oracle/SBS\\n\\n- Genesis\\n\\nVarious Suppliers Genesis\\n\\nSee Summary Flows into CTS Store\\n\\nCTS Staff Delivery note / PO comparison\\n\\nCTS Staff Genesis\\n\\nThird Party Supplier Distributions, Cages, trolleys or pallets\\n\\nDaily Deliveries or  L2 Porter \\n\\nCTS Staff Oracle\\n\\nCTS Staff\\n\\nCTS Staff Trolleys\\n\\nCTS Staff\\n\\nDeliver to \\nRequesting \\n\\nLocations\\n\\nPut away\\n\\nMinimum \\nstock level \\n\\nreached?\\n\\nGenerate \\nAutomatic\\n\\nReplenishment \\nDemand\\n\\nYes\\n\\nNo\\n\\nRelease\\nReplenishment \\n\\nOrders\\n\\nReceive goods at \\nCTS Store\\n\\nGRN delivery, \\nreset stock \\n\\nposition and put \\naway\\n\\nGoods delivered \\ndirect or via L2 to \\n\\nCTS\\n\\nIssue PO to \\nSupplier\\n\\nGRN the stock \\nreceived\\n\\n \\n \\n \\n \\n \\n \\n \\n \\n \\n \\n \\n \\n \\n \\n \\n \\n \\n \\n \\n \\n \\n \\n \\n \\n \\n \\n10.4     Freedom Theatre Store – Inventory Process Flow \\n\\n\\n\\nTRW.PRO.POL.1063.2 Supply Chain Inventory Management Policy  14 \\n\\n \\n\\nSupply Chain - Tier 3 Issuing Location: Freedom Store (FS) \\n\\nWho What How \\n\\nFS Staff Non systemised / Visual count\\n\\nRequest location staff Order books\\n\\nRequesting locations staff/end users Note left in store\\n\\nFS Staff FS Store\\n\\nFS Staff Genesis\\n\\nOracle\\n\\nFS Staff Manual Picking\\n\\nFS Staff Genesis\\n\\nFS Staff Oracle/SBS\\n\\n- Genesis\\n\\nVarious Suppliers Genesis\\n\\nSee Summary Flows into FS Store\\n\\nFS Staff Delivery note / PO comparison\\n\\nFS Staff Genesis\\n\\nThird Party Supplier Distributions, Cages, trolleys or pallets\\n\\nDaily Deliveries or  L2 Porter \\n\\nOracle\\n\\nFS Staff\\n\\nFS Staff\\n\\nFS Staff Trolleys\\n\\nFS Staff\\n\\nStock check\\ncompleted\\n\\nOrder books \\ncompleted by\\n\\nRequesting \\nLocations \\n\\nProcess Non Stock \\nItem Orders\\n\\nProcess Stock Item \\nOrders\\n\\nFS demands \\nconsolidated \\n\\nWalk-in populate \\nwithdrawals sheet\\n\\nCommence Picking \\n\\nDeliver to \\nRequesting \\n\\nLocations\\n\\nPut away\\n\\nMinimum \\nstock level \\n\\nreached?\\n\\nGenerate \\nAutomatic\\n\\nReplenishment \\nDemand\\n\\nYes\\n\\nNo\\n\\nRelease\\nReplenishment \\n\\nOrders\\n\\nReceive goods at \\nFS Store\\n\\nGRN delivery, \\nreset stock \\n\\nposition and put \\naway\\n\\nGoods delivered \\ndirect or via L2 to \\n\\nFS\\n\\nIssue PO to \\nSupplier\\n\\nIssue stock on \\nsystem\\n\\nEffort made to \\nadd non stock \\n\\nitems to Genesis -\\nsee NPI Process \\n\\nfor new part \\n\\nGRN the stock \\nreceived\\n\\n \\n \\n \\n10.5     Main Theatre Store – Inventory Process Flow \\n \\n\\n\\n\\nTRW.PRO.POL.1063.2 Supply Chain Inventory Management Policy  15 \\n\\n \\n\\nSupply Chain - Tier 3 Issuing Location: Main Theatre Store (MTS) \\n\\nWho How \\n\\nMTS Staff Non systemised / Visual count\\n\\nRequest location staff Order books\\n\\nRequesting locations staff/end users Note left in store\\n\\nMTS Staff MTS Store\\n\\nMTS Staff Genesis\\n\\nOracle\\n\\nMTS Staff Manual Picking\\n\\nMTS Staff Genesis\\n\\nWhat \\n\\nStock check\\ncompleted\\n\\nOrder books \\ncompleted by\\n\\nRequesting \\nLocations \\n\\nProcess Non Stock \\nItem Orders\\n\\nProcess Stock Item \\nOrders\\n\\nMTS demands \\nconsolidated \\n\\nWalk-in populate \\nwithdrawals sheet\\n\\nCommence Picking \\n\\nIssue stock on \\nsystem\\n\\n \\n \\n\\n\\n\\nTRW.PRO.POL.1063.2 Supply Chain Inventory Management Policy  16 \\n\\n \\n\\nMTS Staff Oracle/SBS\\n\\n- Genesis\\n\\nVarious Suppliers Genesis\\n\\nSee Summary Flows into MTS Store\\n\\nMTS Staff Delivery note / PO comparison\\n\\nMTS Staff Genesis\\n\\nThird Party Supplier Distributions, Cages, trolleys or pallets\\n\\nDaily Deliveries or  L2 Porter \\n\\nOracle\\n\\nMTS Staff\\n\\nMTS Staff\\n\\nMTS Staff Trolleys\\n\\nMTS Staff\\n\\nDeliver to \\nRequesting \\n\\nLocations\\n\\nPut away\\n\\nMinimum \\nstock level \\n\\nreached?\\n\\nGenerate \\nAutomatic\\n\\nReplenishment \\nDemand\\n\\nYes\\n\\nNo\\n\\nRelease\\nReplenishment \\n\\nOrders\\n\\nReceive goods at \\nMTS Store\\n\\nGRN delivery, \\nreset stock \\n\\nposition and put \\naway\\n\\nGoods delivered \\ndirect or via L2 to \\n\\nMTS\\n\\nIssue PO to \\nSupplier\\n\\nGRN the stock \\nreceived\\n\\n\\n\\nTRW.PRO.POL.1063.2 Supply Chain Inventory Management Policy  17 \\n\\n \\n\\n10.6      L2 – Stationery Store – Inventory Process Flow \\n \\n\\nSupply Chain - Tier 1 Issuing Location: L2 Stationery \\n\\n`\\n\\nWho How \\n\\nRequesting location staff Oracle\\n\\nOracle \\n\\nRequesting location staff Oracle \\n\\n- Oracle\\n\\n- Oracle\\n\\nL2 Stationery Staff Genesis\\n\\n- SBS\\n\\nEmail\\n\\nL2 Porters Manual Picking\\n\\nWhat \\n\\nDemand generated \\nat RL\\n\\nRaise\\nRequisition\\n\\nIssue Req to L2-\\nStationery Store\\n\\nCommence \\nPicking \\n\\nHas item been \\npurchased \\n\\npreviously at \\nthis RL? \\n\\nItem added to \\nRL catalogue \\n\\nCreate Req\\n\\nIs item a \\ncatalogue \\n\\nproduct?\\n\\nYes\\n\\nYes\\n\\nNo\\n\\nNo\\n\\nConsolidated PO\\ncreated\\n\\nPO value \\nbetween £500 \\n\\nand £600\\n\\nIssue order to \\nsupplier\\n\\nIs demand a \\nstock item?\\n\\nNo\\n\\nYes\\n\\nWait for more RL\\nReq's\\n\\nYes\\n\\nNo\\n\\n \\n \\n\\n\\n\\nTRW.PRO.POL.1063.2 Supply Chain Inventory Management Policy  18 \\n\\n \\n\\nGenesis\\n\\n- Genesis\\n\\nGenesis\\n\\nL2 Stationery Staff\\n\\nL2 Porters\\n\\nGenesis\\n\\nL2 Stationery Staff\\n\\nGenesis\\n\\nThird Party Supplier Distribution Trolleys or Pallets \\n\\nL2 Stationery Staff Genesis\\n\\nOracle\\n\\nL2 Porters Trolleys or Pallets \\n\\nRequesting Location Staff\\n\\nMinimum \\nstock level \\n\\nreached?\\n\\nGenerate \\nAutomatic\\n\\nReplenishment \\nDemand\\n\\nYes\\n\\nNo\\n\\nRelease\\nReplenishment \\n\\nOrders\\n\\nReceive goods at \\nL2 Stationery\\n\\nGRN delivery, \\nreset stock \\n\\nposition and put \\naway\\n\\nDeliver to \\nRequesting\\nLocations\\n\\nStock delivered to \\nL2\\n\\nGRN the stock \\nreceived\\n\\nPut away\\n\\n \\n\\n\\n\\nTRW.PRO.POL.1063.2 Supply Chain Inventory Management Policy  19 \\n\\n \\n\\n10.7     L2 – Estates Store – Inventory Process Flow \\n \\n \\n\\n \\n\\nSupply Chain - Tier 1 Issuing Location: Estate Store\\n\\nWho How \\n\\nRequest Location staff Order book\\n\\nRequest Location staff Note left in store/Verbal\\n\\nRequesting Locations staff Planet FM\\n\\n- Planet FM work orders\\n\\nManual PO's\\n\\nEstate Store Staff Planet FM\\n\\nFax or Email\\n\\nEstate Store Staff\\n\\nManually\\n\\nThird Party Supplier Distribution \\n\\nEstate Store Staff Planet FM\\n\\nEstate Store Staff Manually\\n\\nWhat \\n\\nWorks orders\\nfrom Estates\\n\\nWalk-in from \\nEstates \\n\\nOrders printed\\n\\nDemands \\nconsolidated and\\n\\norders created\\n\\nDemands from \\nRequesting \\n\\nLocations\\n\\nGoods delivered \\nto L2 and placed \\n\\nin the Estates \\nStore\\n\\nGRN the stock \\nreceived\\n\\nPut away\\n\\nPO sent to \\nsupplier\\n\\n\\n\\nTRW.PRO.POL.1063.2 Supply Chain Inventory Management Policy  20 \\n\\n \\n\\nDissemination Plan and Review Checklist Appendix 1  \\n \\n\\nDissemination Plan \\n\\nDocument Title Supply Chain Inventory Management Policy (SC010) \\n\\nDate Finalised 21\\nst\\n March 2017 \\n\\nPrevious Documents \\n\\nAction to retrieve old copies N/A \\n\\nDissemination Plan \\n\\nRecipient(s) When How Responsibility \\n\\nAll Trust staff  IG StaffNet Page Information Governance Team \\n\\n    \\n\\n \\n\\nReview Checklist \\n\\nTitle Is the title clear and unambiguous? \\n\\n✔ \\n\\nIs it clear whether the document is a policy, procedure, protocol, \\nframework, APN or SOP? ✔ \\n\\nDoes the style & format comply? \\n\\n✔ \\n\\nRationale Are reasons for development of the document stated? \\n\\n✔ \\n\\nDevelopment \\nProcess \\n\\nIs the method described in brief? \\n\\n✔ \\n\\nAre people involved in the development identified? \\n\\n✔ \\n\\nHas a reasonable attempt has been made to ensure relevant expertise \\nhas been used? ✔ \\n\\nIs there evidence of consultation with stakeholders and users? \\n\\n✔ \\n\\nContent Is the objective of the document clear? \\n\\n✔ \\n\\nIs the target population clear and unambiguous? \\n\\n✔ \\n\\nAre the intended outcomes described?  \\n\\n✔ \\n\\nAre the statements clear and unambiguous? \\n\\n✔ \\n\\n\\n\\nTRW.PRO.POL.1063.2 Supply Chain Inventory Management Policy  21 \\n\\n \\n\\nEvidence Base Is the type of evidence to support the document identified explicitly? \\n\\n✔ \\n\\nAre key references cited and in full? \\n\\n✔ \\n\\nAre supporting documents referenced? \\n\\n✔ \\n\\nApproval Does the document identify which committee/group will review it? \\n\\n✔ \\n\\nIf appropriate have the joint Human Resources/staff side committee (or \\nequivalent) approved the document? ✔ \\n\\nDoes the document identify which Executive Director will ratify it? \\n\\n✔ \\n\\nDissemination & \\nImplementation \\n\\nIs there an outline/plan to identify how this will be done? \\n\\n✔ \\n\\nDoes the plan include the necessary training/support to ensure \\ncompliance? ✔ \\n\\nDocument Control Does the document identify where it will be held? \\n\\n✔ \\n\\nHave archiving arrangements for superseded documents been \\naddressed? ✔ \\n\\nMonitoring \\nCompliance & \\nEffectiveness \\n\\nAre there measurable standards or KPIs to support the monitoring of \\ncompliance with and effectiveness of the document? ✔ \\n\\nIs there a plan to review or audit compliance with the document? \\n\\n✔ \\n\\nReview Date Is the review date identified? \\n\\n✔ \\n\\nIs the frequency of review identified?  If so is it acceptable? \\n\\n✔ \\n\\nOverall \\nResponsibility \\n\\nIs it clear who will be responsible for co-ordinating the dissemination, \\nimplementation and review of the document? ✔ \\n\\n\\n\\nTRW.PRO.POL.1063.2 Supply Chain Inventory Management Policy  22 \\n\\n \\n\\nEqualities and Human Rights Impact Assessment Appendix 2 \\n \\n\\nCore Information \\n\\nDate 21/03/2017 \\n\\nTitle Supply Chain Inventory Management Policy (SC010) \\n\\nWhat are the \\naims, objectives \\n& projected \\noutcomes? \\n\\nTo support process standardisation   \\n\\nIdentify process owners and support improve communication \\n\\nCapture current state processes, to support Scan 4 Safety opportunities for \\nimprovement \\n\\nScope of the assessment \\n\\nThe purpose of this Supply Chain Inventory Management Policy is to identify the relevant Standard \\nOperating Procedures (SOP’s), required to ensure robust and compliant inventory control across \\nthe Trust for areas that are controlled by Procurement & Supply Chain Management (PSCM) and \\nPharmacy personnel \\n\\nCollecting data \\n\\nRace \\nVaried – Equal opportunities employer \\n\\nReligion \\nVaried – Equal opportunities employer \\n\\nDisability \\nVaried – Equal opportunities employer \\n\\nSex \\nVaried – Equal opportunities employer \\n\\nGender Identity \\nVaried – Equal opportunities employer \\n\\nSexual Orientation \\nVaried – Equal opportunities employer \\n\\nAge \\nVaried – Equal opportunities employer \\n\\nSocio-Economic \\nVaried – Equal opportunities employer \\n\\nHuman Rights \\nVaried – Equal opportunities employer \\n\\nWhat are the overall \\ntrends/patterns in the \\nabove data? \\n\\nNot applicable \\n\\nSpecific issues and \\ndata gaps that may \\nneed to be addressed \\nthrough consultation \\nor further research \\n\\nNot applicable \\n\\n\\n\\nTRW.PRO.POL.1063.2 Supply Chain Inventory Management Policy  23 \\n\\n \\n\\n \\n\\n \\n\\nInvolving and consulting stakeholders \\n\\nInternal involvement \\nand consultation \\n\\nInternal process partner consultation has taken place via 1:1 discussions with \\nprocess partners \\n\\nExternal involvement \\nand consultation \\n\\nInternal process partner consultation has taken place via 1:1 discussions with \\nprocess partners \\n\\nImpact Assessment \\n\\nOverall assessment \\nand analysis of the \\nevidence \\n\\n \\n\\nAction Plan \\n\\nAction Owner Risks Completion Date Progress update \\n\\n     \\n\\n\\n\""
      ]
     },
     "execution_count": 33,
     "metadata": {},
     "output_type": "execute_result"
    }
   ],
   "source": [
    "text"
   ]
  },
  {
   "cell_type": "code",
   "execution_count": 34,
   "metadata": {},
   "outputs": [
    {
     "data": {
      "text/plain": [
       "[('TRW.PRO.POL.1063.2 Supply Chain Inventory Management Policy', 1),\n",
       " ('Supply Chain Inventory Management Policy (SC010)', 1),\n",
       " ('TRW.PRO.POL.1063.2 Supply Chain Inventory Management Policy  1', 1)]"
      ]
     },
     "execution_count": 34,
     "metadata": {},
     "output_type": "execute_result"
    }
   ],
   "source": [
    "keywords_names_list = ['Procedure', 'Process', 'SOP', 'Policy', 'Manual', 'Step']\n",
    "names = extract_process_name(text, keywords_names_list)\n",
    "\n",
    "most_common_names = names.most_common()\n",
    "most_common_names"
   ]
  },
  {
   "cell_type": "code",
   "execution_count": 35,
   "metadata": {},
   "outputs": [
    {
     "data": {
      "text/plain": [
       "'TRW.PRO.POL.1063.2 Supply Chain Inventory Management Policy '"
      ]
     },
     "execution_count": 35,
     "metadata": {},
     "output_type": "execute_result"
    }
   ],
   "source": [
    "names.process_name_keywords()"
   ]
  },
  {
   "cell_type": "code",
   "execution_count": 36,
   "metadata": {},
   "outputs": [
    {
     "data": {
      "text/plain": [
       "'Supply Chain Inventory Management Policy (SC010) '"
      ]
     },
     "execution_count": 36,
     "metadata": {},
     "output_type": "execute_result"
    }
   ],
   "source": [
    "names.process_name_title()"
   ]
  },
  {
   "cell_type": "code",
   "execution_count": 37,
   "metadata": {},
   "outputs": [
    {
     "data": {
      "text/plain": [
       "'TRW.PRO.POL.1063.2 Supply Chain Inventory Management Policy  1 '"
      ]
     },
     "execution_count": 37,
     "metadata": {},
     "output_type": "execute_result"
    }
   ],
   "source": [
    "names.process_name_first_line()"
   ]
  },
  {
   "cell_type": "code",
   "execution_count": null,
   "metadata": {},
   "outputs": [],
   "source": []
  }
 ],
 "metadata": {
  "kernelspec": {
   "display_name": "Python 3",
   "language": "python",
   "name": "python3"
  },
  "language_info": {
   "codemirror_mode": {
    "name": "ipython",
    "version": 3
   },
   "file_extension": ".py",
   "mimetype": "text/x-python",
   "name": "python",
   "nbconvert_exporter": "python",
   "pygments_lexer": "ipython3",
   "version": "3.8.5"
  }
 },
 "nbformat": 4,
 "nbformat_minor": 4
}
