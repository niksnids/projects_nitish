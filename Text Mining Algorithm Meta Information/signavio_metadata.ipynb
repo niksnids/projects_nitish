{
 "cells": [
  {
   "cell_type": "markdown",
   "metadata": {
    "slideshow": {
     "slide_type": "slide"
    }
   },
   "source": [
    "## Extract Meta Information from Documents"
   ]
  },
  {
   "cell_type": "markdown",
   "metadata": {
    "slideshow": {
     "slide_type": "subslide"
    }
   },
   "source": [
    "### Import packages and class"
   ]
  },
  {
   "cell_type": "code",
   "execution_count": 1,
   "metadata": {
    "slideshow": {
     "slide_type": "fragment"
    }
   },
   "outputs": [],
   "source": [
    "from os import listdir\n",
    "from os.path import isfile, join\n",
    "from tabulate import tabulate\n",
    "from tika import parser \n",
    "import pprint\n",
    "\n",
    "import meta_information_class"
   ]
  },
  {
   "cell_type": "markdown",
   "metadata": {
    "slideshow": {
     "slide_type": "fragment"
    }
   },
   "source": [
    "### Read filename of pdfs from directory and choose file"
   ]
  },
  {
   "cell_type": "code",
   "execution_count": 2,
   "metadata": {
    "slideshow": {
     "slide_type": "fragment"
    }
   },
   "outputs": [
    {
     "data": {
      "text/plain": [
       "'data/accounts-payable-policy-procedures.pdf'"
      ]
     },
     "execution_count": 2,
     "metadata": {},
     "output_type": "execute_result"
    }
   ],
   "source": [
    "filenames = [f for f in listdir('data') if isfile(join('data', f))]\n",
    "\n",
    "file_idx = 3\n",
    "file = 'data/'+filenames[file_idx]\n",
    "file"
   ]
  },
  {
   "cell_type": "markdown",
   "metadata": {
    "slideshow": {
     "slide_type": "fragment"
    }
   },
   "source": [
    "### Apply file parser"
   ]
  },
  {
   "cell_type": "code",
   "execution_count": 3,
   "metadata": {
    "slideshow": {
     "slide_type": "fragment"
    }
   },
   "outputs": [
    {
     "name": "stderr",
     "output_type": "stream",
     "text": [
      "2021-06-20 19:06:27,915 [MainThread  ] [INFO ]  Retrieving http://search.maven.org/remotecontent?filepath=org/apache/tika/tika-server/1.24/tika-server-1.24.jar to /var/folders/f1/ddxh7b9x3s1bhw035wjcbxwc0000gn/T/tika-server.jar.\n",
      "2021-06-20 19:06:31,310 [MainThread  ] [INFO ]  Retrieving http://search.maven.org/remotecontent?filepath=org/apache/tika/tika-server/1.24/tika-server-1.24.jar.md5 to /var/folders/f1/ddxh7b9x3s1bhw035wjcbxwc0000gn/T/tika-server.jar.md5.\n",
      "2021-06-20 19:06:32,226 [MainThread  ] [WARNI]  Failed to see startup log message; retrying...\n"
     ]
    }
   ],
   "source": [
    "raw = parser.from_file(file)\n",
    "text = raw[\"content\"]"
   ]
  },
  {
   "cell_type": "markdown",
   "metadata": {
    "slideshow": {
     "slide_type": "subslide"
    }
   },
   "source": [
    "### Define keyword list"
   ]
  },
  {
   "cell_type": "code",
   "execution_count": 4,
   "metadata": {
    "slideshow": {
     "slide_type": "fragment"
    }
   },
   "outputs": [],
   "source": [
    "keywords_names_list = ['procedure', 'process', 'sop', 'policy', 'manual', 'step']\n",
    "keywords_documents_list = ['purchase', 'order', 'form', 'request', 'invoice', 'documents', 'document', 'documentation']\n",
    "keywords_date_list = ['issued date','issue-date','effective-date', 'implementation-date','updated', 'adopted' ,'revised',\"review date\",\"revision date\",\"version\",\"last revision\",\"issued\",\"effective date\",\"date\"]"
   ]
  },
  {
   "cell_type": "markdown",
   "metadata": {
    "slideshow": {
     "slide_type": "fragment"
    }
   },
   "source": [
    "### Extract meta information from document"
   ]
  },
  {
   "cell_type": "code",
   "execution_count": 8,
   "metadata": {
    "slideshow": {
     "slide_type": "fragment"
    }
   },
   "outputs": [],
   "source": [
    "ngrams_process_docs = [2,3]\n",
    "information = meta_information_class.extract_meta_information(file, keywords_names_list, keywords_date_list, keywords_documents_list, ngrams_process_docs)\n",
    "\n",
    "information_dict = information.create_dict()\n",
    "information_df = information.create_df()"
   ]
  },
  {
   "cell_type": "markdown",
   "metadata": {
    "slideshow": {
     "slide_type": "subslide"
    }
   },
   "source": [
    "### Output as dictionary"
   ]
  },
  {
   "cell_type": "code",
   "execution_count": 9,
   "metadata": {
    "slideshow": {
     "slide_type": "fragment"
    }
   },
   "outputs": [
    {
     "name": "stdout",
     "output_type": "stream",
     "text": [
      "{'date': [('date', '2003-12-15'),\n",
      "          ('adopted', '2008-03-25'),\n",
      "          ('revised', '2016-09-26'),\n",
      "          ('revised', '2016-11-22')],\n",
      " 'documents (bigrams)': [('purchase order', 10),\n",
      "                         ('invoice processing', 3),\n",
      "                         ('documentation disbursements', 2)],\n",
      " 'documents (trigrams)': [('purchase order receiving', 4),\n",
      "                          ('documentation disbursements must', 2),\n",
      "                          ('source documentation such', 2)],\n",
      " 'linked processes': ['None'],\n",
      " 'name': [('POLICY AND PROCEDURES', 1), ('ACCOUNTS PAYABLE', 1)]}\n"
     ]
    }
   ],
   "source": [
    "pprint.pprint(information_dict)"
   ]
  },
  {
   "cell_type": "markdown",
   "metadata": {
    "slideshow": {
     "slide_type": "subslide"
    }
   },
   "source": [
    "### Output as dataframe"
   ]
  },
  {
   "cell_type": "code",
   "execution_count": 7,
   "metadata": {
    "slideshow": {
     "slide_type": "fragment"
    }
   },
   "outputs": [
    {
     "name": "stdout",
     "output_type": "stream",
     "text": [
      "+--------------------+---------------------------------------+---------+\n",
      "| meta information   | value                                 |   count |\n",
      "|--------------------+---------------------------------------+---------|\n",
      "| name               | STANDARD OPERATING PROCEDURE          |       4 |\n",
      "| date               | 2014-02-28                            |         |\n",
      "| documents (2-gram) | projection form                       |      12 |\n",
      "| documents (2-gram) | form attachment                       |       5 |\n",
      "| documents (2-gram) | plan form                             |       3 |\n",
      "| documents (3-gram) | flow projection form                  |       4 |\n",
      "| documents (3-gram) | business plan form                    |       3 |\n",
      "| documents (3-gram) | cost projection form                  |       3 |\n",
      "| linked processes   | 8. RELATED DOCUMENTS                  |         |\n",
      "| linked processes   | 8.1. Sanitation Business Plan Form    |         |\n",
      "| linked processes   | 8.2. Market Analysis Form             |         |\n",
      "| linked processes   | 8.3. Market Segmentation Form         |         |\n",
      "| linked processes   | 8.4. Competitor Analysis Form         |         |\n",
      "| linked processes   | 8.5. Promotion Form                   |         |\n",
      "| linked processes   | 8.6. Cost of Goods Manufactured Form  |         |\n",
      "| linked processes   | 8.7. Production Capacity Form         |         |\n",
      "| linked processes   | 8.8. Sales Projection Form            |         |\n",
      "| linked processes   | 8.9. Operational Cost Projection Form |         |\n",
      "| linked processes   | 8.10. Cash Flow Projection Form       |         |\n",
      "| linked processes   | 8.11. Profit and Loss Projection Form |         |\n",
      "| linked processes   | 8.12. Business Initial Capital Form   |         |\n",
      "| linked processes   | 8.13. Capital Source Form             |         |\n",
      "+--------------------+---------------------------------------+---------+\n"
     ]
    }
   ],
   "source": [
    "print(tabulate(information_df, headers='keys', tablefmt='psql', showindex=False))"
   ]
  },
  {
   "cell_type": "code",
   "execution_count": null,
   "metadata": {},
   "outputs": [],
   "source": []
  },
  {
   "cell_type": "code",
   "execution_count": null,
   "metadata": {},
   "outputs": [],
   "source": []
  }
 ],
 "metadata": {
  "kernelspec": {
   "display_name": "Python 3",
   "language": "python",
   "name": "python3"
  },
  "language_info": {
   "codemirror_mode": {
    "name": "ipython",
    "version": 3
   },
   "file_extension": ".py",
   "mimetype": "text/x-python",
   "name": "python",
   "nbconvert_exporter": "python",
   "pygments_lexer": "ipython3",
   "version": "3.8.5"
  }
 },
 "nbformat": 4,
 "nbformat_minor": 4
}
