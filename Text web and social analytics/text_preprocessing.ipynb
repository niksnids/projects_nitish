{
  "nbformat": 4,
  "nbformat_minor": 0,
  "metadata": {
    "colab": {
      "name": "Nitish text_preprocessing.ipynb",
      "provenance": [],
      "collapsed_sections": []
    },
    "kernelspec": {
      "name": "python3",
      "display_name": "Python 3"
    },
    "language_info": {
      "name": "python"
    }
  },
  "cells": [
    {
      "cell_type": "code",
      "metadata": {
        "colab": {
          "base_uri": "https://localhost:8080/"
        },
        "id": "vUk6lrEdzv_K",
        "outputId": "027b535b-918a-4984-9764-b3d68d46f718"
      },
      "source": [
        "import pandas as pd\n",
        "import re\n",
        "from gensim.parsing.preprocessing import STOPWORDS, strip_tags, strip_numeric, strip_punctuation, strip_multiple_whitespaces, remove_stopwords, strip_short, stem_text\n",
        "import pickle\n",
        "import en_core_web_sm\n",
        "import nltk\n",
        "nltk.download('stopwords')\n",
        "from nltk.corpus import stopwords \n",
        "import spacy\n"
      ],
      "execution_count": 22,
      "outputs": [
        {
          "output_type": "stream",
          "text": [
            "[nltk_data] Downloading package stopwords to /root/nltk_data...\n",
            "[nltk_data]   Package stopwords is already up-to-date!\n"
          ],
          "name": "stdout"
        }
      ]
    },
    {
      "cell_type": "code",
      "metadata": {
        "colab": {
          "base_uri": "https://localhost:8080/",
          "height": 363
        },
        "id": "vt_xgr8378SE",
        "outputId": "45759df2-6fb8-4d67-d6bc-21bb29d7965c"
      },
      "source": [
        "df = pd.read_json('https://raw.githubusercontent.com/selva86/datasets/master/newsgroups.json')\n",
        "df.head(10)"
      ],
      "execution_count": 23,
      "outputs": [
        {
          "output_type": "execute_result",
          "data": {
            "text/html": [
              "<div>\n",
              "<style scoped>\n",
              "    .dataframe tbody tr th:only-of-type {\n",
              "        vertical-align: middle;\n",
              "    }\n",
              "\n",
              "    .dataframe tbody tr th {\n",
              "        vertical-align: top;\n",
              "    }\n",
              "\n",
              "    .dataframe thead th {\n",
              "        text-align: right;\n",
              "    }\n",
              "</style>\n",
              "<table border=\"1\" class=\"dataframe\">\n",
              "  <thead>\n",
              "    <tr style=\"text-align: right;\">\n",
              "      <th></th>\n",
              "      <th>content</th>\n",
              "      <th>target</th>\n",
              "      <th>target_names</th>\n",
              "    </tr>\n",
              "  </thead>\n",
              "  <tbody>\n",
              "    <tr>\n",
              "      <th>0</th>\n",
              "      <td>From: lerxst@wam.umd.edu (where's my thing)\\nS...</td>\n",
              "      <td>7</td>\n",
              "      <td>rec.autos</td>\n",
              "    </tr>\n",
              "    <tr>\n",
              "      <th>1</th>\n",
              "      <td>From: guykuo@carson.u.washington.edu (Guy Kuo)...</td>\n",
              "      <td>4</td>\n",
              "      <td>comp.sys.mac.hardware</td>\n",
              "    </tr>\n",
              "    <tr>\n",
              "      <th>2</th>\n",
              "      <td>From: twillis@ec.ecn.purdue.edu (Thomas E Will...</td>\n",
              "      <td>4</td>\n",
              "      <td>comp.sys.mac.hardware</td>\n",
              "    </tr>\n",
              "    <tr>\n",
              "      <th>3</th>\n",
              "      <td>From: jgreen@amber (Joe Green)\\nSubject: Re: W...</td>\n",
              "      <td>1</td>\n",
              "      <td>comp.graphics</td>\n",
              "    </tr>\n",
              "    <tr>\n",
              "      <th>4</th>\n",
              "      <td>From: jcm@head-cfa.harvard.edu (Jonathan McDow...</td>\n",
              "      <td>14</td>\n",
              "      <td>sci.space</td>\n",
              "    </tr>\n",
              "    <tr>\n",
              "      <th>5</th>\n",
              "      <td>From: dfo@vttoulu.tko.vtt.fi (Foxvog Douglas)\\...</td>\n",
              "      <td>16</td>\n",
              "      <td>talk.politics.guns</td>\n",
              "    </tr>\n",
              "    <tr>\n",
              "      <th>6</th>\n",
              "      <td>From: bmdelane@quads.uchicago.edu (brian manni...</td>\n",
              "      <td>13</td>\n",
              "      <td>sci.med</td>\n",
              "    </tr>\n",
              "    <tr>\n",
              "      <th>7</th>\n",
              "      <td>From: bgrubb@dante.nmsu.edu (GRUBB)\\nSubject: ...</td>\n",
              "      <td>3</td>\n",
              "      <td>comp.sys.ibm.pc.hardware</td>\n",
              "    </tr>\n",
              "    <tr>\n",
              "      <th>8</th>\n",
              "      <td>From: holmes7000@iscsvax.uni.edu\\nSubject: WIn...</td>\n",
              "      <td>2</td>\n",
              "      <td>comp.os.ms-windows.misc</td>\n",
              "    </tr>\n",
              "    <tr>\n",
              "      <th>9</th>\n",
              "      <td>From: kerr@ux1.cso.uiuc.edu (Stan Kerr)\\nSubje...</td>\n",
              "      <td>4</td>\n",
              "      <td>comp.sys.mac.hardware</td>\n",
              "    </tr>\n",
              "  </tbody>\n",
              "</table>\n",
              "</div>"
            ],
            "text/plain": [
              "                                             content  ...              target_names\n",
              "0  From: lerxst@wam.umd.edu (where's my thing)\\nS...  ...                 rec.autos\n",
              "1  From: guykuo@carson.u.washington.edu (Guy Kuo)...  ...     comp.sys.mac.hardware\n",
              "2  From: twillis@ec.ecn.purdue.edu (Thomas E Will...  ...     comp.sys.mac.hardware\n",
              "3  From: jgreen@amber (Joe Green)\\nSubject: Re: W...  ...             comp.graphics\n",
              "4  From: jcm@head-cfa.harvard.edu (Jonathan McDow...  ...                 sci.space\n",
              "5  From: dfo@vttoulu.tko.vtt.fi (Foxvog Douglas)\\...  ...        talk.politics.guns\n",
              "6  From: bmdelane@quads.uchicago.edu (brian manni...  ...                   sci.med\n",
              "7  From: bgrubb@dante.nmsu.edu (GRUBB)\\nSubject: ...  ...  comp.sys.ibm.pc.hardware\n",
              "8  From: holmes7000@iscsvax.uni.edu\\nSubject: WIn...  ...   comp.os.ms-windows.misc\n",
              "9  From: kerr@ux1.cso.uiuc.edu (Stan Kerr)\\nSubje...  ...     comp.sys.mac.hardware\n",
              "\n",
              "[10 rows x 3 columns]"
            ]
          },
          "metadata": {
            "tags": []
          },
          "execution_count": 23
        }
      ]
    },
    {
      "cell_type": "code",
      "metadata": {
        "id": "n9i9x7guItIx",
        "colab": {
          "base_uri": "https://localhost:8080/"
        },
        "outputId": "7602a39b-a044-4d9f-a237-ff0335d73034"
      },
      "source": [
        "print(df.target_names.value_counts())\n",
        "print(df.iloc[0,0])\n",
        "# Target does match , Business question regarding topics people talk about which are not related to work"
      ],
      "execution_count": 24,
      "outputs": [
        {
          "output_type": "stream",
          "text": [
            "rec.sport.hockey            600\n",
            "soc.religion.christian      599\n",
            "rec.motorcycles             598\n",
            "rec.sport.baseball          597\n",
            "sci.crypt                   595\n",
            "rec.autos                   594\n",
            "sci.med                     594\n",
            "comp.windows.x              593\n",
            "sci.space                   593\n",
            "sci.electronics             591\n",
            "comp.os.ms-windows.misc     591\n",
            "comp.sys.ibm.pc.hardware    590\n",
            "misc.forsale                585\n",
            "comp.graphics               584\n",
            "comp.sys.mac.hardware       578\n",
            "talk.politics.mideast       564\n",
            "talk.politics.guns          546\n",
            "alt.atheism                 480\n",
            "talk.politics.misc          465\n",
            "talk.religion.misc          377\n",
            "Name: target_names, dtype: int64\n",
            "From: lerxst@wam.umd.edu (where's my thing)\n",
            "Subject: WHAT car is this!?\n",
            "Nntp-Posting-Host: rac3.wam.umd.edu\n",
            "Organization: University of Maryland, College Park\n",
            "Lines: 15\n",
            "\n",
            " I was wondering if anyone out there could enlighten me on this car I saw\n",
            "the other day. It was a 2-door sports car, looked to be from the late 60s/\n",
            "early 70s. It was called a Bricklin. The doors were really small. In addition,\n",
            "the front bumper was separate from the rest of the body. This is \n",
            "all I know. If anyone can tellme a model name, engine specs, years\n",
            "of production, where this car is made, history, or whatever info you\n",
            "have on this funky looking car, please e-mail.\n",
            "\n",
            "Thanks,\n",
            "- IL\n",
            "   ---- brought to you by your neighborhood Lerxst ----\n",
            "\n",
            "\n",
            "\n",
            "\n",
            "\n"
          ],
          "name": "stdout"
        }
      ]
    },
    {
      "cell_type": "code",
      "metadata": {
        "id": "AaIK47I5U_3s"
      },
      "source": [
        "def remove_line(df_row):\n",
        "  df_row = re.sub('[Ff]rom:(.*?)\\n', \"\", df_row)\n",
        "  df_row =re.sub('[Ss]ubject:(.*?)\\n', \"\", df_row)\n",
        "  df_row =re.sub('[Aa]rticle-[Ii].[Dd].:(.*?)\\n', \"\", df_row)\n",
        "  df_row =re.sub('[Oo]rganization:(.*?)\\n', \"\", df_row)\n",
        "  df_row =re.sub('[Ll]ines:(.*?)\\n', \"\", df_row)\n",
        "  df_row =re.sub('[Nn][Nn][Tt][Pp]-[Pp]osting-[Hh]ost:(.*?)\\n', \"\", df_row)\n",
        "  df_row =re.sub('[Dd]istribution:(.*?)\\n', \"\", df_row)\n",
        "  df_row =re.sub('[Rr]eply-[Tt]o:(.*?)\\n', \"\", df_row)\n",
        "  df_row =re.sub('[Xx]-[Nn]ewsreader:(.*?)\\n', \"\", df_row)\n",
        "  df_row =re.sub('[Ee]xpires:(.*?)\\n', \"\", df_row)\n",
        "  df_row =re.sub('-(.*?)\\n', \"\", df_row)\n",
        "  df_row =re.sub('[Ss]ummary:', \"\", df_row)\n",
        "  df_row =re.sub('[Kk]eywords:', \"\", df_row)\n",
        "\n",
        "  return df_row\n"
      ],
      "execution_count": 25,
      "outputs": []
    },
    {
      "cell_type": "code",
      "metadata": {
        "colab": {
          "base_uri": "https://localhost:8080/",
          "height": 91
        },
        "id": "YArqN0iCZJ6B",
        "outputId": "74208a4d-15de-4a0a-b949-faf4dc257eee"
      },
      "source": [
        "s = df.iloc[1,0]\n",
        "s = remove_line(s)\n",
        "s"
      ],
      "execution_count": 26,
      "outputs": [
        {
          "output_type": "execute_result",
          "data": {
            "application/vnd.google.colaboratory.intrinsic+json": {
              "type": "string"
            },
            "text/plain": [
              "\" Final call for SI clock reports\\n SI,acceleration,clock,upgrade\\n\\nA fair number of brave souls who upgraded their SI clock oscillator have\\nshared their experiences for this poll. Please send a brief message detailing\\nyour experiences with the procedure. Top speed attained, CPU rated speed,\\nadd on cards and adapters, heat sinks, hour of usage per day, floppy disk\\nfunctionality with 800 and 1.4 m floppies are especially requested.\\n\\nI will be summarizing in the next two days, so please add to the network\\nknowledge base if you have done the clock upgrade and haven't answered this\\npoll. Thanks.\\n\\nGuy Kuo <guykuo@u.washington.edu>\\n\""
            ]
          },
          "metadata": {
            "tags": []
          },
          "execution_count": 26
        }
      ]
    },
    {
      "cell_type": "code",
      "metadata": {
        "id": "rmevS1eIZYDA"
      },
      "source": [
        "data = df[\"content\"].apply(remove_line)"
      ],
      "execution_count": 27,
      "outputs": []
    },
    {
      "cell_type": "code",
      "metadata": {
        "colab": {
          "base_uri": "https://localhost:8080/"
        },
        "id": "MpBvrR8URqNV",
        "outputId": "a895d46f-7661-45fd-a99a-a6c812695624"
      },
      "source": [
        "data"
      ],
      "execution_count": 28,
      "outputs": [
        {
          "output_type": "execute_result",
          "data": {
            "text/plain": [
              "0        \\n I was wondering if anyone out there could e...\n",
              "1         Final call for SI clock reports\\n SI,accelera...\n",
              "2        \\nwell folks, my mac plus finally gave up the ...\n",
              "3        \\nRobert J.C. Kyanko (rob@rjck.UUCP) wrote:\\n>...\n",
              "4        \\nFrom article <C5owCB.n3p@world.std.com>, by ...\n",
              "                               ...                        \n",
              "11309    \\nDN> DN> A neurology\\nDN> consultation is che...\n",
              "11310    \\nI have a (very old) Mac 512k and a Mac Plus,...\n",
              "11311    \\nI just installed a DX2cooler on the chip.  A...\n",
              "11312    \\nIn article <1qkgbuINNs9n@shelley.u.washingto...\n",
              "11313     see above\\n\\nStolen from Pasadena between 4:3...\n",
              "Name: content, Length: 11314, dtype: object"
            ]
          },
          "metadata": {
            "tags": []
          },
          "execution_count": 28
        }
      ]
    },
    {
      "cell_type": "code",
      "metadata": {
        "id": "fxvdrTAsUTFg"
      },
      "source": [
        "data = data.apply(strip_numeric)\n",
        "data = data.apply(strip_punctuation)\n",
        "data = data.apply(strip_multiple_whitespaces)\n",
        "data = data.str.lower()"
      ],
      "execution_count": 29,
      "outputs": []
    },
    {
      "cell_type": "code",
      "metadata": {
        "colab": {
          "base_uri": "https://localhost:8080/"
        },
        "id": "jglRQZ5lbf83",
        "outputId": "5bfdad21-4b34-42ec-f041-7f1d4d26831e"
      },
      "source": [
        "data"
      ],
      "execution_count": 30,
      "outputs": [
        {
          "output_type": "execute_result",
          "data": {
            "text/plain": [
              "0         i was wondering if anyone out there could enl...\n",
              "1         final call for si clock reports si accelerati...\n",
              "2         well folks my mac plus finally gave up the gh...\n",
              "3         robert j c kyanko rob rjck uucp wrote abraxis...\n",
              "4         from article cowcb np world std com by tombak...\n",
              "                               ...                        \n",
              "11309     dn dn a neurology dn consultation is cheaper ...\n",
              "11310     i have a very old mac k and a mac plus both o...\n",
              "11311     i just installed a dxcooler on the chip after...\n",
              "11312     in article qkgbuinnsn shelley u washington ed...\n",
              "11313     see above stolen from pasadena between and pm...\n",
              "Name: content, Length: 11314, dtype: object"
            ]
          },
          "metadata": {
            "tags": []
          },
          "execution_count": 30
        }
      ]
    },
    {
      "cell_type": "code",
      "metadata": {
        "colab": {
          "base_uri": "https://localhost:8080/"
        },
        "id": "fyQaZzMXbxxD",
        "outputId": "fb4084c9-1683-4a57-f599-4f32277be2d8"
      },
      "source": [
        "print(len(sorted(stopwords.words('english'))))"
      ],
      "execution_count": 31,
      "outputs": [
        {
          "output_type": "stream",
          "text": [
            "179\n"
          ],
          "name": "stdout"
        }
      ]
    },
    {
      "cell_type": "code",
      "metadata": {
        "colab": {
          "base_uri": "https://localhost:8080/"
        },
        "id": "2jbts8EFcJBH",
        "outputId": "9ce3479c-0af0-443a-a526-7292b429f75c"
      },
      "source": [
        "len(STOPWORDS)"
      ],
      "execution_count": 32,
      "outputs": [
        {
          "output_type": "execute_result",
          "data": {
            "text/plain": [
              "337"
            ]
          },
          "metadata": {
            "tags": []
          },
          "execution_count": 32
        }
      ]
    },
    {
      "cell_type": "code",
      "metadata": {
        "colab": {
          "base_uri": "https://localhost:8080/"
        },
        "id": "Mpt0Lim8ckEA",
        "outputId": "52a00107-207a-479a-b9dd-65e38a9bd4cc"
      },
      "source": [
        "data = data.apply(remove_stopwords)\n",
        "data = data.apply(strip_short)\n",
        "data"
      ],
      "execution_count": 33,
      "outputs": [
        {
          "output_type": "execute_result",
          "data": {
            "text/plain": [
              "0        wondering enlighten car saw day early called b...\n",
              "1        final clock reports acceleration clock upgrade...\n",
              "2        folks mac plus finally gave ghost weekend star...\n",
              "3        robert kyanko rob rjck uucp wrote abraxis iast...\n",
              "4        article cowcb world std com tombaker world std...\n",
              "                               ...                        \n",
              "11309    neurology consultation cheaper scan better neu...\n",
              "11310    old mac mac plus problem screens blank minor p...\n",
              "11311    installed dxcooler chip hour weight cooler dis...\n",
              "11312    article qkgbuinnsn shelley washington edu bols...\n",
              "11313    stolen pasadena blue white honda cbrrr califor...\n",
              "Name: content, Length: 11314, dtype: object"
            ]
          },
          "metadata": {
            "tags": []
          },
          "execution_count": 33
        }
      ]
    },
    {
      "cell_type": "code",
      "metadata": {
        "id": "dpGD1HnSc3WK",
        "colab": {
          "base_uri": "https://localhost:8080/"
        },
        "outputId": "725f1fde-eca1-4985-89f2-5b223614767c"
      },
      "source": [
        "# store stemmed data \n",
        "import pickle as pkl\n",
        "data = data.apply(stem_text)\n",
        "data\n"
      ],
      "execution_count": 34,
      "outputs": [
        {
          "output_type": "execute_result",
          "data": {
            "text/plain": [
              "0        wonder enlighten car saw dai earli call brickl...\n",
              "1        final clock report acceler clock upgrad fair n...\n",
              "2        folk mac plu final gave ghost weekend start li...\n",
              "3        robert kyanko rob rjck uucp wrote abraxi iasta...\n",
              "4        articl cowcb world std com tombak world std co...\n",
              "                               ...                        \n",
              "11309    neurolog consult cheaper scan better neurologi...\n",
              "11310    old mac mac plu problem screen blank minor phy...\n",
              "11311    instal dxcooler chip hour weight cooler dislod...\n",
              "11312    articl qkgbuinnsn shellei washington edu bolso...\n",
              "11313    stolen pasadena blue white honda cbrrr califor...\n",
              "Name: content, Length: 11314, dtype: object"
            ]
          },
          "metadata": {
            "tags": []
          },
          "execution_count": 34
        }
      ]
    },
    {
      "cell_type": "code",
      "metadata": {
        "id": "bQfXdrFuctbR"
      },
      "source": [
        "filename = \"/content/Text analytics/stemmed_data.pkl\"\n",
        "pkl.dump(data,open(filename, \"wb\"))"
      ],
      "execution_count": 36,
      "outputs": []
    },
    {
      "cell_type": "code",
      "metadata": {
        "id": "eqy2iIDJc-03"
      },
      "source": [
        "# initialize lemmatization model \n",
        "spacy_model = en_core_web_sm.load()\n",
        "data1= data.apply(nlp)\n",
        "data1"
      ],
      "execution_count": null,
      "outputs": []
    },
    {
      "cell_type": "code",
      "metadata": {
        "id": "46hF4p1Nedl4"
      },
      "source": [
        "# store lemmatization data \n",
        "filename = \"/content/Text analytics/lemma_data.pkl\"\n",
        "pkl.dump(data1,open(filename, \"wb\"))"
      ],
      "execution_count": null,
      "outputs": []
    },
    {
      "cell_type": "code",
      "metadata": {
        "id": "30EmRKRAg_E_"
      },
      "source": [
        "# to do: store lemmatized data using spacy model "
      ],
      "execution_count": null,
      "outputs": []
    }
  ]
}