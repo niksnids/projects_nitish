{
 "cells": [
  {
   "cell_type": "markdown",
   "metadata": {},
   "source": [
    "# 4. Modeling"
   ]
  },
  {
   "cell_type": "code",
   "execution_count": 3,
   "metadata": {},
   "outputs": [],
   "source": [
    "#import all libraries\n",
    "import warnings\n",
    "warnings.filterwarnings('ignore')\n",
    "import pandas as pd\n",
    "import numpy as np\n",
    "import matplotlib.pyplot as plt\n",
    "import seaborn as sns\n",
    "import re\n",
    "from sklearn.model_selection import train_test_split\n",
    "from sklearn.inspection import permutation_importance\n",
    "from sklearn.tree import DecisionTreeClassifier\n",
    "from sklearn.ensemble import RandomForestClassifier\n",
    "from sklearn.metrics import roc_auc_score, log_loss, accuracy_score, recall_score\n",
    "from pprint import pprint\n",
    "from sklearn.model_selection import RandomizedSearchCV\n",
    "from scipy.stats import randint\n",
    "import eli5\n",
    "from eli5.sklearn import PermutationImportance"
   ]
  },
  {
   "cell_type": "markdown",
   "metadata": {},
   "source": [
    "## 4.1 Preparing data for modeling"
   ]
  },
  {
   "cell_type": "markdown",
   "metadata": {},
   "source": [
    "Load in original dataset"
   ]
  },
  {
   "cell_type": "code",
   "execution_count": 4,
   "metadata": {},
   "outputs": [
    {
     "data": {
      "text/html": [
       "<div>\n",
       "<style scoped>\n",
       "    .dataframe tbody tr th:only-of-type {\n",
       "        vertical-align: middle;\n",
       "    }\n",
       "\n",
       "    .dataframe tbody tr th {\n",
       "        vertical-align: top;\n",
       "    }\n",
       "\n",
       "    .dataframe thead th {\n",
       "        text-align: right;\n",
       "    }\n",
       "</style>\n",
       "<table border=\"1\" class=\"dataframe\">\n",
       "  <thead>\n",
       "    <tr style=\"text-align: right;\">\n",
       "      <th></th>\n",
       "      <th>bathrooms</th>\n",
       "      <th>bedrooms</th>\n",
       "      <th>building_id</th>\n",
       "      <th>created</th>\n",
       "      <th>description</th>\n",
       "      <th>display_address</th>\n",
       "      <th>features</th>\n",
       "      <th>latitude</th>\n",
       "      <th>listing_id</th>\n",
       "      <th>longitude</th>\n",
       "      <th>manager_id</th>\n",
       "      <th>photos</th>\n",
       "      <th>price</th>\n",
       "      <th>street_address</th>\n",
       "      <th>interest_level</th>\n",
       "    </tr>\n",
       "  </thead>\n",
       "  <tbody>\n",
       "    <tr>\n",
       "      <th>4</th>\n",
       "      <td>1.0</td>\n",
       "      <td>1</td>\n",
       "      <td>8579a0b0d54db803821a35a4a615e97a</td>\n",
       "      <td>2016-06-16 05:55:27</td>\n",
       "      <td>Spacious 1 Bedroom 1 Bathroom in Williamsburg!...</td>\n",
       "      <td>145 Borinquen Place</td>\n",
       "      <td>[Dining Room, Pre-War, Laundry in Building, Di...</td>\n",
       "      <td>40.7108</td>\n",
       "      <td>7170325</td>\n",
       "      <td>-73.9539</td>\n",
       "      <td>a10db4590843d78c784171a107bdacb4</td>\n",
       "      <td>[https://photos.renthop.com/2/7170325_3bb5ac84...</td>\n",
       "      <td>2400</td>\n",
       "      <td>145 Borinquen Place</td>\n",
       "      <td>medium</td>\n",
       "    </tr>\n",
       "    <tr>\n",
       "      <th>6</th>\n",
       "      <td>1.0</td>\n",
       "      <td>2</td>\n",
       "      <td>b8e75fc949a6cd8225b455648a951712</td>\n",
       "      <td>2016-06-01 05:44:33</td>\n",
       "      <td>BRAND NEW GUT RENOVATED TRUE 2 BEDROOMFind you...</td>\n",
       "      <td>East 44th</td>\n",
       "      <td>[Doorman, Elevator, Laundry in Building, Dishw...</td>\n",
       "      <td>40.7513</td>\n",
       "      <td>7092344</td>\n",
       "      <td>-73.9722</td>\n",
       "      <td>955db33477af4f40004820b4aed804a0</td>\n",
       "      <td>[https://photos.renthop.com/2/7092344_7663c19a...</td>\n",
       "      <td>3800</td>\n",
       "      <td>230 East 44th</td>\n",
       "      <td>low</td>\n",
       "    </tr>\n",
       "    <tr>\n",
       "      <th>9</th>\n",
       "      <td>1.0</td>\n",
       "      <td>2</td>\n",
       "      <td>cd759a988b8f23924b5a2058d5ab2b49</td>\n",
       "      <td>2016-06-14 15:19:59</td>\n",
       "      <td>**FLEX 2 BEDROOM WITH FULL PRESSURIZED WALL**L...</td>\n",
       "      <td>East 56th Street</td>\n",
       "      <td>[Doorman, Elevator, Laundry in Building, Laund...</td>\n",
       "      <td>40.7575</td>\n",
       "      <td>7158677</td>\n",
       "      <td>-73.9625</td>\n",
       "      <td>c8b10a317b766204f08e613cef4ce7a0</td>\n",
       "      <td>[https://photos.renthop.com/2/7158677_c897a134...</td>\n",
       "      <td>3495</td>\n",
       "      <td>405 East 56th Street</td>\n",
       "      <td>medium</td>\n",
       "    </tr>\n",
       "    <tr>\n",
       "      <th>10</th>\n",
       "      <td>1.5</td>\n",
       "      <td>3</td>\n",
       "      <td>53a5b119ba8f7b61d4e010512e0dfc85</td>\n",
       "      <td>2016-06-24 07:54:24</td>\n",
       "      <td>A Brand New 3 Bedroom 1.5 bath ApartmentEnjoy ...</td>\n",
       "      <td>Metropolitan Avenue</td>\n",
       "      <td>[]</td>\n",
       "      <td>40.7145</td>\n",
       "      <td>7211212</td>\n",
       "      <td>-73.9425</td>\n",
       "      <td>5ba989232d0489da1b5f2c45f6688adc</td>\n",
       "      <td>[https://photos.renthop.com/2/7211212_1ed4542e...</td>\n",
       "      <td>3000</td>\n",
       "      <td>792 Metropolitan Avenue</td>\n",
       "      <td>medium</td>\n",
       "    </tr>\n",
       "    <tr>\n",
       "      <th>15</th>\n",
       "      <td>1.0</td>\n",
       "      <td>0</td>\n",
       "      <td>bfb9405149bfff42a92980b594c28234</td>\n",
       "      <td>2016-06-28 03:50:23</td>\n",
       "      <td>Over-sized Studio w abundant closets. Availabl...</td>\n",
       "      <td>East 34th Street</td>\n",
       "      <td>[Doorman, Elevator, Fitness Center, Laundry in...</td>\n",
       "      <td>40.7439</td>\n",
       "      <td>7225292</td>\n",
       "      <td>-73.9743</td>\n",
       "      <td>2c3b41f588fbb5234d8a1e885a436cfa</td>\n",
       "      <td>[https://photos.renthop.com/2/7225292_901f1984...</td>\n",
       "      <td>2795</td>\n",
       "      <td>340 East 34th Street</td>\n",
       "      <td>low</td>\n",
       "    </tr>\n",
       "  </tbody>\n",
       "</table>\n",
       "</div>"
      ],
      "text/plain": [
       "    bathrooms  bedrooms                       building_id  \\\n",
       "4         1.0         1  8579a0b0d54db803821a35a4a615e97a   \n",
       "6         1.0         2  b8e75fc949a6cd8225b455648a951712   \n",
       "9         1.0         2  cd759a988b8f23924b5a2058d5ab2b49   \n",
       "10        1.5         3  53a5b119ba8f7b61d4e010512e0dfc85   \n",
       "15        1.0         0  bfb9405149bfff42a92980b594c28234   \n",
       "\n",
       "                created                                        description  \\\n",
       "4   2016-06-16 05:55:27  Spacious 1 Bedroom 1 Bathroom in Williamsburg!...   \n",
       "6   2016-06-01 05:44:33  BRAND NEW GUT RENOVATED TRUE 2 BEDROOMFind you...   \n",
       "9   2016-06-14 15:19:59  **FLEX 2 BEDROOM WITH FULL PRESSURIZED WALL**L...   \n",
       "10  2016-06-24 07:54:24  A Brand New 3 Bedroom 1.5 bath ApartmentEnjoy ...   \n",
       "15  2016-06-28 03:50:23  Over-sized Studio w abundant closets. Availabl...   \n",
       "\n",
       "        display_address                                           features  \\\n",
       "4   145 Borinquen Place  [Dining Room, Pre-War, Laundry in Building, Di...   \n",
       "6             East 44th  [Doorman, Elevator, Laundry in Building, Dishw...   \n",
       "9      East 56th Street  [Doorman, Elevator, Laundry in Building, Laund...   \n",
       "10  Metropolitan Avenue                                                 []   \n",
       "15     East 34th Street  [Doorman, Elevator, Fitness Center, Laundry in...   \n",
       "\n",
       "    latitude  listing_id  longitude                        manager_id  \\\n",
       "4    40.7108     7170325   -73.9539  a10db4590843d78c784171a107bdacb4   \n",
       "6    40.7513     7092344   -73.9722  955db33477af4f40004820b4aed804a0   \n",
       "9    40.7575     7158677   -73.9625  c8b10a317b766204f08e613cef4ce7a0   \n",
       "10   40.7145     7211212   -73.9425  5ba989232d0489da1b5f2c45f6688adc   \n",
       "15   40.7439     7225292   -73.9743  2c3b41f588fbb5234d8a1e885a436cfa   \n",
       "\n",
       "                                               photos  price  \\\n",
       "4   [https://photos.renthop.com/2/7170325_3bb5ac84...   2400   \n",
       "6   [https://photos.renthop.com/2/7092344_7663c19a...   3800   \n",
       "9   [https://photos.renthop.com/2/7158677_c897a134...   3495   \n",
       "10  [https://photos.renthop.com/2/7211212_1ed4542e...   3000   \n",
       "15  [https://photos.renthop.com/2/7225292_901f1984...   2795   \n",
       "\n",
       "             street_address interest_level  \n",
       "4       145 Borinquen Place         medium  \n",
       "6             230 East 44th            low  \n",
       "9      405 East 56th Street         medium  \n",
       "10  792 Metropolitan Avenue         medium  \n",
       "15     340 East 34th Street            low  "
      ]
     },
     "execution_count": 4,
     "metadata": {},
     "output_type": "execute_result"
    }
   ],
   "source": [
    "df = pd.read_json('train.json')\n",
    "df.head(5)"
   ]
  },
  {
   "cell_type": "markdown",
   "metadata": {},
   "source": [
    "Apply changes from data cleaning and feature engineering to dataframe."
   ]
  },
  {
   "cell_type": "markdown",
   "metadata": {},
   "source": []
  },
  {
   "cell_type": "code",
   "execution_count": 5,
   "metadata": {},
   "outputs": [],
   "source": [
    "#drop outliers (from data cleaning)\n",
    "df = df[(df['bathrooms'] != 0) | (df['bathrooms'] != 10)]\n",
    "df = df[df['bedrooms'] <= 6]\n",
    "df = df[df['building_id'].str.len() >= 32]\n",
    "df = df[df['price'] < 1000000]"
   ]
  },
  {
   "cell_type": "code",
   "execution_count": 6,
   "metadata": {},
   "outputs": [],
   "source": [
    "#feature engineering photos\n",
    "df =df.copy()\n",
    "df['num_photos'] = df['photos'].apply(len)\n",
    "df['num_features'] = df['features'].apply(len)\n",
    "df['num_description_words'] = df['description'].apply(lambda x: len(x.split(' ')))"
   ]
  },
  {
   "cell_type": "code",
   "execution_count": 7,
   "metadata": {},
   "outputs": [],
   "source": [
    "#feature engineering features\n",
    "df['features_new'] = df[\"features\"].apply(lambda y: \" \".join([\"_\".join(x.split(\" \")).lower() for x in y]))\n",
    "\n",
    "def add_feature(row):\n",
    "    if re.search(r'hardwood',row['features_new'],re.IGNORECASE)!=None:\n",
    "        row['hardwood']=1\n",
    "    else:\n",
    "        row['hardwood']=0\n",
    "        \n",
    "    if re.search(r'doorman',row['features_new'],re.IGNORECASE)!=None:\n",
    "        row['doorman']=1\n",
    "    else:\n",
    "        row['doorman']=0\n",
    "    \n",
    "    if re.search(r'fee',row['features_new'],re.IGNORECASE)!=None:\n",
    "        row['fee']=1\n",
    "    else:\n",
    "        row['fee']=0\n",
    "    \n",
    "    if re.search(r'cats',row['features_new'],re.IGNORECASE)!=None:\n",
    "        row['cats']=1\n",
    "    else:\n",
    "        row['cats']=0\n",
    "\n",
    "    if re.search(r'laundry',row['features_new'],re.IGNORECASE)!=None:\n",
    "        row['laundry']=1\n",
    "    else:\n",
    "        row['laundry']=0\n",
    "\n",
    "    if re.search(r'war\\Z|war\\s|war_',row['features_new'],re.IGNORECASE)!=None: #makes sure that \"war\" is only connected to \"pre\" and \"post\" and not just included in a word like \"wardrobe\"\n",
    "        row['war']=1\n",
    "    else:\n",
    "        row['war']=0\n",
    "\n",
    "    if re.search(r'fitness',row['features_new'],re.IGNORECASE)!=None:\n",
    "        row['fitness']=1\n",
    "    else:\n",
    "        row['fitness']=0\n",
    "        \n",
    "    if re.search(r'elevator',row['features_new'],re.IGNORECASE)!=None:\n",
    "        row['elevator']=1\n",
    "    else:\n",
    "        row['elevator']=0\n",
    "        \n",
    "    if re.search(r'dishwasher',row['features_new'],re.IGNORECASE)!=None:\n",
    "        row['dishwasher']=1\n",
    "    else:\n",
    "        row['dishwasher']=0\n",
    "        \n",
    "    if re.search(r'dogs',row['features_new'],re.IGNORECASE)!=None:\n",
    "        row['dogs']=1\n",
    "    else:\n",
    "        row['dogs']=0\n",
    "        \n",
    "    return row\n",
    "\n",
    "df=df.apply(add_feature,axis=1)"
   ]
  },
  {
   "cell_type": "code",
   "execution_count": 9,
   "metadata": {},
   "outputs": [],
   "source": [
    "#feature engineering longitude and lattitude\n",
    "addresssplit = pd.read_csv('addresshousing.csv')\n",
    "addresssplit=pd.concat([addresssplit, addresssplit['address'].str.split(', ', expand=True)], axis=1)\n",
    "df1=addresssplit.rename({0:'Streetnumber',1:'Streetname',2:'neighbourhood',3:'Community'}, axis='columns')\n",
    "df1=df1[['building_id','interest_level', 'price','listing_id','Streetnumber','Streetname','neighbourhood','Community']].sort_values(by=['listing_id'])\n",
    "df1['Stname'] = df1['Streetname'].where(df1['Streetname'].str.match(r'\\D', na=False))\n",
    "df1['Stname']=df1['Stname'].mask(pd.isnull, df1['Streetnumber'])\n",
    "df1['Stnumber'] = df1['Streetnumber'].where(df1['Streetnumber'].str.match(r'^\\d+$', na=True))\n",
    "df1['Stnumber']=df1['Stnumber'].mask(pd.isnull, df1['Streetname'])\n",
    "df1=df1.drop(columns=['Streetnumber', 'Streetname'])\n",
    "df1=df1.dropna()\n",
    "\n",
    "new_columns = ['The Bronx', 'Lenox Hill', 'Queens', 'Stuy Town', 'Bay Ridge', 'Steinway', 'Sunset Park', 'Upper West Side', 'Gramercy', 'Park Slope']\n",
    "df1 = df1.reindex(columns = [*df1.columns.tolist(), *new_columns])\n",
    "\n",
    "for index, row in df1.iterrows():\n",
    "    for word in new_columns:\n",
    "        if word == row['neighbourhood']:\n",
    "            df1.at[index, word] = '1'\n",
    "        else:\n",
    "            df1.at[index, word] = '0'\n",
    "            \n",
    "df_merge = df1[['listing_id', 'The Bronx', 'Lenox Hill', 'Queens', 'Stuy Town', 'Bay Ridge', 'Steinway', 'Sunset Park', 'Upper West Side', 'Gramercy', 'Park Slope']]\n",
    "df = df.merge(df_merge, how='left', on='listing_id')"
   ]
  },
  {
   "cell_type": "code",
   "execution_count": 10,
   "metadata": {},
   "outputs": [],
   "source": [
    "#feature engineering description\n",
    "new_columns = ['new', 'renovated', 'high' 'large', 'great', 'restaurants', 'park', 'spacious', 'beautiful', 'access', 'center']\n",
    "df = df.reindex(columns = [*df.columns.tolist(), *new_columns])\n",
    "\n",
    "for index, row in df.iterrows():\n",
    "    for word in new_columns:\n",
    "        if word in row['description'].lower():\n",
    "            df.at[index, word] = '1'\n",
    "        else:\n",
    "            df.at[index, word] = '0'"
   ]
  },
  {
   "cell_type": "markdown",
   "metadata": {},
   "source": [
    "Column \"created\" in the dataset can't be used as one of the model features since it is a datetime data type. It will be disagregated into other time components (e.g. year, month, day, etc.) and fed to the model."
   ]
  },
  {
   "cell_type": "code",
   "execution_count": 11,
   "metadata": {},
   "outputs": [],
   "source": [
    "#disagregating created into smaller time segments to use as features in the model\n",
    "df['created'] = pd.to_datetime(df.created) #converting created to datetime object\n",
    "df['year'] = df['created'].dt.year\n",
    "df['month'] = df['created'].dt.month\n",
    "df['day'] = df['created'].dt.day\n",
    "df['hour'] = df['created'].dt.hour\n",
    "df['weekday'] = df['created'].dt.day_name()"
   ]
  },
  {
   "cell_type": "code",
   "execution_count": 12,
   "metadata": {},
   "outputs": [
    {
     "name": "stdout",
     "output_type": "stream",
     "text": [
      "<class 'pandas.core.frame.DataFrame'>\n",
      "Int64Index: 41058 entries, 0 to 41057\n",
      "Data columns (total 10 columns):\n",
      " #   Column           Non-Null Count  Dtype \n",
      "---  ------           --------------  ----- \n",
      " 0   building_id      41058 non-null  object\n",
      " 1   description      41058 non-null  object\n",
      " 2   display_address  41058 non-null  object\n",
      " 3   features         41058 non-null  object\n",
      " 4   manager_id       41058 non-null  object\n",
      " 5   photos           41058 non-null  object\n",
      " 6   street_address   41058 non-null  object\n",
      " 7   interest_level   41058 non-null  object\n",
      " 8   features_new     41058 non-null  object\n",
      " 9   weekday          41058 non-null  object\n",
      "dtypes: object(10)\n",
      "memory usage: 4.7+ MB\n"
     ]
    }
   ],
   "source": [
    "#checking categorical columns left\n",
    "df.select_dtypes(include='object').info()"
   ]
  },
  {
   "cell_type": "code",
   "execution_count": 13,
   "metadata": {},
   "outputs": [],
   "source": [
    "#dropping irrelevant columns from the dataset to fit into the model later\n",
    "df_model = df.drop(['description', 'listing_id', 'display_address', 'features', 'features_new', 'manager_id', 'photos', 'street_address', 'created', 'building_id'], axis=1)"
   ]
  },
  {
   "cell_type": "code",
   "execution_count": 14,
   "metadata": {},
   "outputs": [
    {
     "name": "stdout",
     "output_type": "stream",
     "text": [
      "<class 'pandas.core.frame.DataFrame'>\n",
      "Int64Index: 41058 entries, 0 to 41057\n",
      "Data columns (total 2 columns):\n",
      " #   Column          Non-Null Count  Dtype \n",
      "---  ------          --------------  ----- \n",
      " 0   interest_level  41058 non-null  object\n",
      " 1   weekday         41058 non-null  object\n",
      "dtypes: object(2)\n",
      "memory usage: 2.2+ MB\n"
     ]
    }
   ],
   "source": [
    "#checking categorical columns\n",
    "df_model.select_dtypes(include='object').info()"
   ]
  },
  {
   "cell_type": "code",
   "execution_count": 15,
   "metadata": {},
   "outputs": [
    {
     "data": {
      "text/plain": [
       "The Bronx          12\n",
       "Lenox Hill         12\n",
       "Queens             12\n",
       "Stuy Town          12\n",
       "Bay Ridge          12\n",
       "Steinway           12\n",
       "Sunset Park        12\n",
       "Upper West Side    12\n",
       "Gramercy           12\n",
       "Park Slope         12\n",
       "dtype: int64"
      ]
     },
     "execution_count": 15,
     "metadata": {},
     "output_type": "execute_result"
    }
   ],
   "source": [
    "df_model.isnull().sum()[df_model.isnull().sum() > 0] #we have some missing values which should be dropped for model fitting"
   ]
  },
  {
   "cell_type": "code",
   "execution_count": 16,
   "metadata": {},
   "outputs": [],
   "source": [
    "df_model.dropna(axis=0, inplace=True)"
   ]
  },
  {
   "cell_type": "code",
   "execution_count": 17,
   "metadata": {},
   "outputs": [],
   "source": [
    "df_model = pd.get_dummies(columns=['weekday'], data = df_model)"
   ]
  },
  {
   "cell_type": "code",
   "execution_count": 18,
   "metadata": {},
   "outputs": [
    {
     "name": "stdout",
     "output_type": "stream",
     "text": [
      "<class 'pandas.core.frame.DataFrame'>\n",
      "Int64Index: 41046 entries, 0 to 41057\n",
      "Data columns (total 50 columns):\n",
      " #   Column                 Non-Null Count  Dtype  \n",
      "---  ------                 --------------  -----  \n",
      " 0   bathrooms              41046 non-null  float64\n",
      " 1   bedrooms               41046 non-null  int64  \n",
      " 2   latitude               41046 non-null  float64\n",
      " 3   longitude              41046 non-null  float64\n",
      " 4   price                  41046 non-null  int64  \n",
      " 5   interest_level         41046 non-null  object \n",
      " 6   num_photos             41046 non-null  int64  \n",
      " 7   num_features           41046 non-null  int64  \n",
      " 8   num_description_words  41046 non-null  int64  \n",
      " 9   hardwood               41046 non-null  int64  \n",
      " 10  doorman                41046 non-null  int64  \n",
      " 11  fee                    41046 non-null  int64  \n",
      " 12  cats                   41046 non-null  int64  \n",
      " 13  laundry                41046 non-null  int64  \n",
      " 14  war                    41046 non-null  int64  \n",
      " 15  fitness                41046 non-null  int64  \n",
      " 16  elevator               41046 non-null  int64  \n",
      " 17  dishwasher             41046 non-null  int64  \n",
      " 18  dogs                   41046 non-null  int64  \n",
      " 19  The Bronx              41046 non-null  float64\n",
      " 20  Lenox Hill             41046 non-null  float64\n",
      " 21  Queens                 41046 non-null  float64\n",
      " 22  Stuy Town              41046 non-null  float64\n",
      " 23  Bay Ridge              41046 non-null  float64\n",
      " 24  Steinway               41046 non-null  float64\n",
      " 25  Sunset Park            41046 non-null  float64\n",
      " 26  Upper West Side        41046 non-null  float64\n",
      " 27  Gramercy               41046 non-null  float64\n",
      " 28  Park Slope             41046 non-null  float64\n",
      " 29  new                    41046 non-null  float64\n",
      " 30  renovated              41046 non-null  float64\n",
      " 31  highlarge              41046 non-null  float64\n",
      " 32  great                  41046 non-null  float64\n",
      " 33  restaurants            41046 non-null  float64\n",
      " 34  park                   41046 non-null  float64\n",
      " 35  spacious               41046 non-null  float64\n",
      " 36  beautiful              41046 non-null  float64\n",
      " 37  access                 41046 non-null  float64\n",
      " 38  center                 41046 non-null  float64\n",
      " 39  year                   41046 non-null  int64  \n",
      " 40  month                  41046 non-null  int64  \n",
      " 41  day                    41046 non-null  int64  \n",
      " 42  hour                   41046 non-null  int64  \n",
      " 43  weekday_Friday         41046 non-null  uint8  \n",
      " 44  weekday_Monday         41046 non-null  uint8  \n",
      " 45  weekday_Saturday       41046 non-null  uint8  \n",
      " 46  weekday_Sunday         41046 non-null  uint8  \n",
      " 47  weekday_Thursday       41046 non-null  uint8  \n",
      " 48  weekday_Tuesday        41046 non-null  uint8  \n",
      " 49  weekday_Wednesday      41046 non-null  uint8  \n",
      "dtypes: float64(23), int64(19), object(1), uint8(7)\n",
      "memory usage: 14.1+ MB\n"
     ]
    }
   ],
   "source": [
    "df_model.info()"
   ]
  },
  {
   "cell_type": "markdown",
   "metadata": {},
   "source": [
    "The data will be split into the train, validation and test sets. First the model will be trained on the train set, after which it will be pruned on the validation set and finally, it will be tested on the test set."
   ]
  },
  {
   "cell_type": "markdown",
   "metadata": {},
   "source": [
    "**Splitting into train, validation and test data**"
   ]
  },
  {
   "cell_type": "code",
   "execution_count": 19,
   "metadata": {},
   "outputs": [],
   "source": [
    "np.random.seed(123)\n",
    "df_model = df_model.sample(frac=1) # shuffle data\n",
    "df_dev, df_test = train_test_split(df_model, test_size=0.15)\n",
    "df_train, df_valid = train_test_split(df_dev, test_size=0.15)"
   ]
  },
  {
   "cell_type": "code",
   "execution_count": 20,
   "metadata": {},
   "outputs": [],
   "source": [
    "x_train = df_train.drop('interest_level', axis=1)\n",
    "y_train = df_train['interest_level']\n",
    "\n",
    "x_valid = df_valid.drop('interest_level', axis=1)\n",
    "y_valid = df_valid['interest_level']\n",
    "\n",
    "x_test = df_test.drop('interest_level', axis=1)\n",
    "y_test = df_test['interest_level']"
   ]
  },
  {
   "cell_type": "markdown",
   "metadata": {},
   "source": [
    "## 4.2 Random Forest\n",
    "We will build several models that could potentially predict the outcome (interest level). Decision trees and random forests will be used as fitting models. We chose these models as they are one of the most widely used classification models which usually show good performance.\n",
    "The model will be trained on the train set and then the performance will be checked on the validation set. Afterwards, model pruning will be conducted with cross-validation on the validation set to ensure high model performance and low risk of overfitting. The final model will be tested on the test set, hopefully with significant results :)"
   ]
  },
  {
   "cell_type": "code",
   "execution_count": 21,
   "metadata": {},
   "outputs": [],
   "source": [
    "rf1 = RandomForestClassifier(random_state=42).fit(x_train,y_train)\n",
    "y_pred = rf1.predict(x_valid)\n",
    "y_pred_prova = rf1.predict_proba(x_valid)"
   ]
  },
  {
   "cell_type": "code",
   "execution_count": 22,
   "metadata": {},
   "outputs": [
    {
     "name": "stdout",
     "output_type": "stream",
     "text": [
      "'Parameters currently in use:\\n'\n",
      "{'bootstrap': True,\n",
      " 'ccp_alpha': 0.0,\n",
      " 'class_weight': None,\n",
      " 'criterion': 'gini',\n",
      " 'max_depth': None,\n",
      " 'max_features': 'auto',\n",
      " 'max_leaf_nodes': None,\n",
      " 'max_samples': None,\n",
      " 'min_impurity_decrease': 0.0,\n",
      " 'min_impurity_split': None,\n",
      " 'min_samples_leaf': 1,\n",
      " 'min_samples_split': 2,\n",
      " 'min_weight_fraction_leaf': 0.0,\n",
      " 'n_estimators': 100,\n",
      " 'n_jobs': None,\n",
      " 'oob_score': False,\n",
      " 'random_state': 42,\n",
      " 'verbose': 0,\n",
      " 'warm_start': False}\n"
     ]
    }
   ],
   "source": [
    "pprint('Parameters currently in use:\\n')\n",
    "pprint(rf1.get_params())"
   ]
  },
  {
   "cell_type": "markdown",
   "metadata": {},
   "source": [
    "In order to check the model performance, several indicators were chosen:\n",
    "- log loss \n",
    "- accuracy score\n",
    "- recall score\n",
    "- ROC AUC score\n",
    "\n",
    "Log loss was chosen as the basic loss function of classification algorithms. The choice of other metrics is explained by the fact that different metrics should be compared to get a holistic view of model performance."
   ]
  },
  {
   "cell_type": "code",
   "execution_count": 23,
   "metadata": {},
   "outputs": [
    {
     "name": "stdout",
     "output_type": "stream",
     "text": [
      "Log loss score:  0.7020605318699571\n",
      "Accuracy score:  0.6916316392816202\n",
      "Recall score:  0.6916316392816202\n",
      "ROC AUC score:  0.742914165860356\n"
     ]
    }
   ],
   "source": [
    "#checking model performance\n",
    "log_loss1 = log_loss(y_valid, y_pred_prova)\n",
    "print(\"Log loss score: \", log_loss1)\n",
    "acc1 = accuracy_score(y_valid, y_pred)\n",
    "print(\"Accuracy score: \",acc1)\n",
    "rec1 = recall_score(y_valid, y_pred, average='weighted')\n",
    "print(\"Recall score: \", rec1)\n",
    "roc_auc1 = roc_auc_score(y_valid, y_pred_prova, multi_class='ovo')\n",
    "print(\"ROC AUC score: \", roc_auc1)"
   ]
  },
  {
   "cell_type": "markdown",
   "metadata": {},
   "source": [
    "To understand the model performance better as well to be able to communicate findings to others, it is important to indentify which features are doing best in terms of predicting the outcome. To get this information, MDI (mean decrease impurity) and MDA (mean decrease in accuracy) (permutation) features importances are calculated."
   ]
  },
  {
   "cell_type": "code",
   "execution_count": 24,
   "metadata": {},
   "outputs": [],
   "source": [
    "#top 20 mdi importances\n",
    "feature_imp_mdi = pd.Series(rf1.feature_importances_,index=x_train.columns).sort_values(ascending=False)\n",
    "feature_mdi_top20 = feature_imp_mdi[:20]"
   ]
  },
  {
   "cell_type": "code",
   "execution_count": 25,
   "metadata": {},
   "outputs": [],
   "source": [
    "#top 20 permutation (mda) importances\n",
    "MDA_importances = permutation_importance(rf1, x_train, y_train, random_state=42, n_jobs=2)\n",
    "MDA_importances = MDA_importances.importances_mean\n",
    "feature_imp_mda =  pd.Series(MDA_importances,index=x_train.columns).sort_values(ascending=False)\n",
    "feature_mda_top20 = feature_imp_mda[:20]"
   ]
  },
  {
   "cell_type": "code",
   "execution_count": 26,
   "metadata": {},
   "outputs": [
    {
     "data": {
      "image/png": "[encoded data removed]",
      "text/plain": [
       "<Figure size 1440x576 with 2 Axes>"
      ]
     },
     "metadata": {
      "needs_background": "light"
     },
     "output_type": "display_data"
    }
   ],
   "source": [
    "#plotting importances\n",
    "plt.figure(figsize=(20,8))\n",
    "plt.subplot(1,2,1)\n",
    "sns.barplot(x=feature_mdi_top20, y=feature_mdi_top20.index)\n",
    "plt.xlabel('MDI Importances', fontsize=15)\n",
    "plt.ylabel('Features', fontsize=15)\n",
    "plt.title(\"Visualizing MDI Importances\", fontsize=18)\n",
    "plt.xticks(fontsize=15)\n",
    "plt.yticks(fontsize=15)\n",
    "\n",
    "plt.subplot(1,2,2)\n",
    "sns.barplot(x=feature_mda_top20, y=feature_mda_top20.index, palette='winter')\n",
    "plt.xlabel('MDA Importances', fontsize=15)\n",
    "plt.ylabel('Features', fontsize=15)\n",
    "plt.title(\"Visualizing MDA Importances\", fontsize=18)\n",
    "plt.xticks(fontsize=15)\n",
    "plt.yticks(fontsize=15);"
   ]
  },
  {
   "cell_type": "markdown",
   "metadata": {},
   "source": [
    "As it is stated on scikits website, the impurity based feature importance (MDI) also named random forest feature importance can inflate the importance of numerical features. (Source: https://scikit-learn.org/stable/auto_examples/inspection/plot_permutation_importance.html)\n",
    "\n",
    "In our model, this can be verfied by looking at latitude and longitude. On the left plot for MDI, these two features are on the 2nd and 3rd rank, whereas on the right plot, they are only at the 5th and 6th spot. Therefore, we will prefer permutation importance (MDA) from this point on in order to estimate the feature importance of our models."
   ]
  },
  {
   "cell_type": "markdown",
   "metadata": {},
   "source": [
    "**Random Forest Pruning**"
   ]
  },
  {
   "cell_type": "markdown",
   "metadata": {},
   "source": [
    "As we only have a vague idea of the best hyperparameters and thus the best approach to narrow our search is to evaluate a wide range of values for each hyperparameter. Using Scikit-Learn’s RandomizedSearchCV method, we can define a grid of hyperparameter ranges, and randomly sample from the grid, performing K-Fold CV with each combination of values.\n",
    "How do we know from which parameters to choose? One approach could be checking the documentation on the random forest in Scikit-Learn which reveals that important settings are the number of trees in the forest (n_estimators) and the number of features considered for splitting at each leaf node (max_features). However, we will also pick other hyperparameters and check the performance of all possible combinations. We will do the tuning in the validation set and then test it on the test set."
   ]
  },
  {
   "cell_type": "code",
   "execution_count": 27,
   "metadata": {},
   "outputs": [
    {
     "name": "stdout",
     "output_type": "stream",
     "text": [
      "{'bootstrap': [True, False],\n",
      " 'max_depth': [10, 20, 30, 40, 50, 60, 70, 80, 90, 100, 110, None],\n",
      " 'max_features': ['auto', 'sqrt'],\n",
      " 'min_samples_leaf': [1, 2, 4],\n",
      " 'min_samples_split': [2, 5, 10],\n",
      " 'n_estimators': [100, 144, 188, 233, 277, 322, 366, 411, 455, 500]}\n"
     ]
    }
   ],
   "source": [
    "# Number of trees in random forest\n",
    "n_estimators = [int(x) for x in np.linspace(start = 100, stop = 500, num = 10)]\n",
    "# Number of features to consider at every split\n",
    "max_features = ['auto', 'sqrt']\n",
    "# Maximum number of levels in tree\n",
    "max_depth = [int(x) for x in np.linspace(10, 110, num = 11)]\n",
    "max_depth.append(None)\n",
    "# Minimum number of samples required to split a node\n",
    "min_samples_split = [2, 5, 10]\n",
    "# Minimum number of samples required at each leaf node\n",
    "min_samples_leaf = [1, 2, 4]\n",
    "# Method of selecting samples for training each tree\n",
    "bootstrap = [True, False]\n",
    "# Create the random grid\n",
    "random_grid = {'n_estimators': n_estimators,\n",
    "               'max_features': max_features,\n",
    "               'max_depth': max_depth,\n",
    "               'min_samples_split': min_samples_split,\n",
    "               'min_samples_leaf': min_samples_leaf,\n",
    "               'bootstrap': bootstrap}\n",
    "pprint(random_grid)"
   ]
  },
  {
   "cell_type": "code",
   "execution_count": 28,
   "metadata": {},
   "outputs": [
    {
     "name": "stdout",
     "output_type": "stream",
     "text": [
      "Fitting 3 folds for each of 10 candidates, totalling 30 fits\n"
     ]
    },
    {
     "data": {
      "text/plain": [
       "RandomizedSearchCV(cv=3, estimator=RandomForestClassifier(), n_jobs=-1,\n",
       "                   param_distributions={'bootstrap': [True, False],\n",
       "                                        'max_depth': [10, 20, 30, 40, 50, 60,\n",
       "                                                      70, 80, 90, 100, 110,\n",
       "                                                      None],\n",
       "                                        'max_features': ['auto', 'sqrt'],\n",
       "                                        'min_samples_leaf': [1, 2, 4],\n",
       "                                        'min_samples_split': [2, 5, 10],\n",
       "                                        'n_estimators': [100, 144, 188, 233,\n",
       "                                                         277, 322, 366, 411,\n",
       "                                                         455, 500]},\n",
       "                   random_state=42, scoring='roc_auc_ovo', verbose=2)"
      ]
     },
     "execution_count": 28,
     "metadata": {},
     "output_type": "execute_result"
    }
   ],
   "source": [
    "# Use the random grid to search for best hyperparameters\n",
    "# First create the base model to tune\n",
    "rf2 = RandomForestClassifier()\n",
    "# Random search of parameters, using 3 fold cross validation, \n",
    "# search across 100 different combinations, and use all available cores\n",
    "rf_random = RandomizedSearchCV(estimator = rf2, param_distributions = random_grid, n_iter = 10, cv = 3, verbose=2, scoring='roc_auc_ovo', random_state=42, n_jobs = -1)\n",
    "# Fit the random search model on the validation set\n",
    "rf_random.fit(x_valid, y_valid)"
   ]
  },
  {
   "cell_type": "code",
   "execution_count": 29,
   "metadata": {},
   "outputs": [
    {
     "name": "stdout",
     "output_type": "stream",
     "text": [
      "The best hyperparameters for the model are:  {'n_estimators': 188, 'min_samples_split': 10, 'min_samples_leaf': 4, 'max_features': 'sqrt', 'max_depth': 90, 'bootstrap': False}\n"
     ]
    }
   ],
   "source": [
    "print(\"The best hyperparameters for the model are: \", rf_random.best_params_)"
   ]
  },
  {
   "cell_type": "markdown",
   "metadata": {},
   "source": [
    "Now we will tun the model with the suggested best hyperparameter set. Also, we will check and play with some other numbers to see if we're getting a better model. Eventually, we will choose the best set of hyperparameters for fitting the model."
   ]
  },
  {
   "cell_type": "code",
   "execution_count": 48,
   "metadata": {},
   "outputs": [],
   "source": [
    "#creating a model with discovered best parameters\n",
    "rf2 = RandomForestClassifier(n_estimators=366, min_samples_split=5, min_samples_leaf = 1,\n",
    "                             max_depth=30, max_features='sqrt', bootstrap=True)\n",
    "rf2.fit(x_train,y_train)\n",
    "y_pred2 = rf2.predict(x_test)\n",
    "y_pred2_proba = rf2.predict_proba(x_test)"
   ]
  },
  {
   "cell_type": "code",
   "execution_count": 49,
   "metadata": {},
   "outputs": [
    {
     "name": "stdout",
     "output_type": "stream",
     "text": [
      "Log loss score:  0.6780774022716479\n",
      "Accuracy score:  0.6901088192301446\n",
      "Recall score:  0.6901088192301446\n",
      "ROC AUC score:  0.7523859812108773\n"
     ]
    }
   ],
   "source": [
    "#checking model performance\n",
    "log_loss2 = log_loss(y_test, y_pred2_proba)\n",
    "print(\"Log loss score: \", log_loss2)\n",
    "acc2 = accuracy_score(y_test, y_pred2)\n",
    "print(\"Accuracy score: \",acc2)\n",
    "rec2 = recall_score(y_test, y_pred2, average='weighted')\n",
    "print(\"Recall score: \", rec2)\n",
    "roc_auc2 = roc_auc_score(y_test, y_pred2_proba, multi_class='ovo')\n",
    "print(\"ROC AUC score: \", roc_auc2)"
   ]
  },
  {
   "cell_type": "code",
   "execution_count": 32,
   "metadata": {},
   "outputs": [
    {
     "data": {
      "text/html": [
       "\n",
       "    <style>\n",
       "    table.eli5-weights tr:hover {\n",
       "        filter: brightness(85%);\n",
       "    }\n",
       "</style>\n",
       "\n",
       "\n",
       "\n",
       "    \n",
       "\n",
       "    \n",
       "\n",
       "    \n",
       "\n",
       "    \n",
       "\n",
       "    \n",
       "\n",
       "    \n",
       "\n",
       "\n",
       "    \n",
       "\n",
       "    \n",
       "\n",
       "    \n",
       "\n",
       "    \n",
       "\n",
       "    \n",
       "\n",
       "    \n",
       "\n",
       "\n",
       "    \n",
       "\n",
       "    \n",
       "\n",
       "    \n",
       "\n",
       "    \n",
       "\n",
       "    \n",
       "        <table class=\"eli5-weights eli5-feature-importances\" style=\"border-collapse: collapse; border: none; margin-top: 0em; table-layout: auto;\">\n",
       "    <thead>\n",
       "    <tr style=\"border: none;\">\n",
       "        <th style=\"padding: 0 1em 0 0.5em; text-align: right; border: none;\">Weight</th>\n",
       "        <th style=\"padding: 0 0.5em 0 0.5em; text-align: left; border: none;\">Feature</th>\n",
       "    </tr>\n",
       "    </thead>\n",
       "    <tbody>\n",
       "    \n",
       "        <tr style=\"background-color: hsl(120, 100.00%, 80.00%); border: none;\">\n",
       "            <td style=\"padding: 0 1em 0 0.5em; text-align: right; border: none;\">\n",
       "                0.0614\n",
       "                \n",
       "                    &plusmn; 0.0066\n",
       "                \n",
       "            </td>\n",
       "            <td style=\"padding: 0 0.5em 0 0.5em; text-align: left; border: none;\">\n",
       "                price\n",
       "            </td>\n",
       "        </tr>\n",
       "    \n",
       "        <tr style=\"background-color: hsl(120, 100.00%, 93.81%); border: none;\">\n",
       "            <td style=\"padding: 0 1em 0 0.5em; text-align: right; border: none;\">\n",
       "                0.0115\n",
       "                \n",
       "                    &plusmn; 0.0036\n",
       "                \n",
       "            </td>\n",
       "            <td style=\"padding: 0 0.5em 0 0.5em; text-align: left; border: none;\">\n",
       "                fee\n",
       "            </td>\n",
       "        </tr>\n",
       "    \n",
       "        <tr style=\"background-color: hsl(120, 100.00%, 94.38%); border: none;\">\n",
       "            <td style=\"padding: 0 1em 0 0.5em; text-align: right; border: none;\">\n",
       "                0.0100\n",
       "                \n",
       "                    &plusmn; 0.0058\n",
       "                \n",
       "            </td>\n",
       "            <td style=\"padding: 0 0.5em 0 0.5em; text-align: left; border: none;\">\n",
       "                bedrooms\n",
       "            </td>\n",
       "        </tr>\n",
       "    \n",
       "        <tr style=\"background-color: hsl(120, 100.00%, 97.20%); border: none;\">\n",
       "            <td style=\"padding: 0 1em 0 0.5em; text-align: right; border: none;\">\n",
       "                0.0037\n",
       "                \n",
       "                    &plusmn; 0.0045\n",
       "                \n",
       "            </td>\n",
       "            <td style=\"padding: 0 0.5em 0 0.5em; text-align: left; border: none;\">\n",
       "                longitude\n",
       "            </td>\n",
       "        </tr>\n",
       "    \n",
       "        <tr style=\"background-color: hsl(120, 100.00%, 97.64%); border: none;\">\n",
       "            <td style=\"padding: 0 1em 0 0.5em; text-align: right; border: none;\">\n",
       "                0.0029\n",
       "                \n",
       "                    &plusmn; 0.0038\n",
       "                \n",
       "            </td>\n",
       "            <td style=\"padding: 0 0.5em 0 0.5em; text-align: left; border: none;\">\n",
       "                hour\n",
       "            </td>\n",
       "        </tr>\n",
       "    \n",
       "        <tr style=\"background-color: hsl(120, 100.00%, 98.28%); border: none;\">\n",
       "            <td style=\"padding: 0 1em 0 0.5em; text-align: right; border: none;\">\n",
       "                0.0019\n",
       "                \n",
       "                    &plusmn; 0.0024\n",
       "                \n",
       "            </td>\n",
       "            <td style=\"padding: 0 0.5em 0 0.5em; text-align: left; border: none;\">\n",
       "                doorman\n",
       "            </td>\n",
       "        </tr>\n",
       "    \n",
       "        <tr style=\"background-color: hsl(120, 100.00%, 98.36%); border: none;\">\n",
       "            <td style=\"padding: 0 1em 0 0.5em; text-align: right; border: none;\">\n",
       "                0.0017\n",
       "                \n",
       "                    &plusmn; 0.0023\n",
       "                \n",
       "            </td>\n",
       "            <td style=\"padding: 0 0.5em 0 0.5em; text-align: left; border: none;\">\n",
       "                bathrooms\n",
       "            </td>\n",
       "        </tr>\n",
       "    \n",
       "        <tr style=\"background-color: hsl(120, 100.00%, 98.45%); border: none;\">\n",
       "            <td style=\"padding: 0 1em 0 0.5em; text-align: right; border: none;\">\n",
       "                0.0016\n",
       "                \n",
       "                    &plusmn; 0.0022\n",
       "                \n",
       "            </td>\n",
       "            <td style=\"padding: 0 0.5em 0 0.5em; text-align: left; border: none;\">\n",
       "                fitness\n",
       "            </td>\n",
       "        </tr>\n",
       "    \n",
       "        <tr style=\"background-color: hsl(120, 100.00%, 98.63%); border: none;\">\n",
       "            <td style=\"padding: 0 1em 0 0.5em; text-align: right; border: none;\">\n",
       "                0.0013\n",
       "                \n",
       "                    &plusmn; 0.0015\n",
       "                \n",
       "            </td>\n",
       "            <td style=\"padding: 0 0.5em 0 0.5em; text-align: left; border: none;\">\n",
       "                num_description_words\n",
       "            </td>\n",
       "        </tr>\n",
       "    \n",
       "        <tr style=\"background-color: hsl(120, 100.00%, 98.95%); border: none;\">\n",
       "            <td style=\"padding: 0 1em 0 0.5em; text-align: right; border: none;\">\n",
       "                0.0009\n",
       "                \n",
       "                    &plusmn; 0.0020\n",
       "                \n",
       "            </td>\n",
       "            <td style=\"padding: 0 0.5em 0 0.5em; text-align: left; border: none;\">\n",
       "                weekday_Friday\n",
       "            </td>\n",
       "        </tr>\n",
       "    \n",
       "        <tr style=\"background-color: hsl(120, 100.00%, 99.09%); border: none;\">\n",
       "            <td style=\"padding: 0 1em 0 0.5em; text-align: right; border: none;\">\n",
       "                0.0007\n",
       "                \n",
       "                    &plusmn; 0.0019\n",
       "                \n",
       "            </td>\n",
       "            <td style=\"padding: 0 0.5em 0 0.5em; text-align: left; border: none;\">\n",
       "                new\n",
       "            </td>\n",
       "        </tr>\n",
       "    \n",
       "        <tr style=\"background-color: hsl(120, 100.00%, 99.11%); border: none;\">\n",
       "            <td style=\"padding: 0 1em 0 0.5em; text-align: right; border: none;\">\n",
       "                0.0007\n",
       "                \n",
       "                    &plusmn; 0.0028\n",
       "                \n",
       "            </td>\n",
       "            <td style=\"padding: 0 0.5em 0 0.5em; text-align: left; border: none;\">\n",
       "                hardwood\n",
       "            </td>\n",
       "        </tr>\n",
       "    \n",
       "        <tr style=\"background-color: hsl(120, 100.00%, 99.17%); border: none;\">\n",
       "            <td style=\"padding: 0 1em 0 0.5em; text-align: right; border: none;\">\n",
       "                0.0006\n",
       "                \n",
       "                    &plusmn; 0.0009\n",
       "                \n",
       "            </td>\n",
       "            <td style=\"padding: 0 0.5em 0 0.5em; text-align: left; border: none;\">\n",
       "                renovated\n",
       "            </td>\n",
       "        </tr>\n",
       "    \n",
       "        <tr style=\"background-color: hsl(120, 100.00%, 99.29%); border: none;\">\n",
       "            <td style=\"padding: 0 1em 0 0.5em; text-align: right; border: none;\">\n",
       "                0.0005\n",
       "                \n",
       "                    &plusmn; 0.0003\n",
       "                \n",
       "            </td>\n",
       "            <td style=\"padding: 0 0.5em 0 0.5em; text-align: left; border: none;\">\n",
       "                center\n",
       "            </td>\n",
       "        </tr>\n",
       "    \n",
       "        <tr style=\"background-color: hsl(120, 100.00%, 99.39%); border: none;\">\n",
       "            <td style=\"padding: 0 1em 0 0.5em; text-align: right; border: none;\">\n",
       "                0.0004\n",
       "                \n",
       "                    &plusmn; 0.0019\n",
       "                \n",
       "            </td>\n",
       "            <td style=\"padding: 0 0.5em 0 0.5em; text-align: left; border: none;\">\n",
       "                laundry\n",
       "            </td>\n",
       "        </tr>\n",
       "    \n",
       "        <tr style=\"background-color: hsl(120, 100.00%, 99.42%); border: none;\">\n",
       "            <td style=\"padding: 0 1em 0 0.5em; text-align: right; border: none;\">\n",
       "                0.0004\n",
       "                \n",
       "                    &plusmn; 0.0018\n",
       "                \n",
       "            </td>\n",
       "            <td style=\"padding: 0 0.5em 0 0.5em; text-align: left; border: none;\">\n",
       "                restaurants\n",
       "            </td>\n",
       "        </tr>\n",
       "    \n",
       "        <tr style=\"background-color: hsl(120, 100.00%, 99.56%); border: none;\">\n",
       "            <td style=\"padding: 0 1em 0 0.5em; text-align: right; border: none;\">\n",
       "                0.0003\n",
       "                \n",
       "                    &plusmn; 0.0018\n",
       "                \n",
       "            </td>\n",
       "            <td style=\"padding: 0 0.5em 0 0.5em; text-align: left; border: none;\">\n",
       "                num_photos\n",
       "            </td>\n",
       "        </tr>\n",
       "    \n",
       "        <tr style=\"background-color: hsl(120, 100.00%, 99.60%); border: none;\">\n",
       "            <td style=\"padding: 0 1em 0 0.5em; text-align: right; border: none;\">\n",
       "                0.0002\n",
       "                \n",
       "                    &plusmn; 0.0006\n",
       "                \n",
       "            </td>\n",
       "            <td style=\"padding: 0 0.5em 0 0.5em; text-align: left; border: none;\">\n",
       "                weekday_Monday\n",
       "            </td>\n",
       "        </tr>\n",
       "    \n",
       "        <tr style=\"background-color: hsl(120, 100.00%, 99.69%); border: none;\">\n",
       "            <td style=\"padding: 0 1em 0 0.5em; text-align: right; border: none;\">\n",
       "                0.0002\n",
       "                \n",
       "                    &plusmn; 0.0000\n",
       "                \n",
       "            </td>\n",
       "            <td style=\"padding: 0 0.5em 0 0.5em; text-align: left; border: none;\">\n",
       "                Steinway\n",
       "            </td>\n",
       "        </tr>\n",
       "    \n",
       "        <tr style=\"background-color: hsl(120, 100.00%, 99.69%); border: none;\">\n",
       "            <td style=\"padding: 0 1em 0 0.5em; text-align: right; border: none;\">\n",
       "                0.0002\n",
       "                \n",
       "                    &plusmn; 0.0013\n",
       "                \n",
       "            </td>\n",
       "            <td style=\"padding: 0 0.5em 0 0.5em; text-align: left; border: none;\">\n",
       "                weekday_Tuesday\n",
       "            </td>\n",
       "        </tr>\n",
       "    \n",
       "    \n",
       "        \n",
       "            <tr style=\"background-color: hsl(120, 100.00%, 99.69%); border: none;\">\n",
       "                <td colspan=\"2\" style=\"padding: 0 0.5em 0 0.5em; text-align: center; border: none; white-space: nowrap;\">\n",
       "                    <i>&hellip; 29 more &hellip;</i>\n",
       "                </td>\n",
       "            </tr>\n",
       "        \n",
       "    \n",
       "    </tbody>\n",
       "</table>\n",
       "    \n",
       "\n",
       "    \n",
       "\n",
       "\n",
       "    \n",
       "\n",
       "    \n",
       "\n",
       "    \n",
       "\n",
       "    \n",
       "\n",
       "    \n",
       "\n",
       "    \n",
       "\n",
       "\n",
       "\n"
      ],
      "text/plain": [
       "<IPython.core.display.HTML object>"
      ]
     },
     "execution_count": 32,
     "metadata": {},
     "output_type": "execute_result"
    }
   ],
   "source": [
    "#permutation importance\n",
    "perm = PermutationImportance(rf2, random_state=1).fit(x_test, y_test)\n",
    "eli5.show_weights(perm, feature_names = x_test.columns.tolist())"
   ]
  },
  {
   "cell_type": "markdown",
   "metadata": {},
   "source": [
    "## 4.3 Decision Tree\n",
    "\n",
    "As a second model, we are fitting the Decision Tree:"
   ]
  },
  {
   "cell_type": "code",
   "execution_count": 33,
   "metadata": {},
   "outputs": [],
   "source": [
    "DC = DecisionTreeClassifier(max_leaf_nodes=150, random_state = 42).fit(x_train,y_train)\n",
    "y_pred3 = DC.predict(x_valid)\n",
    "y_pred3_proba = DC.predict_proba(x_valid)"
   ]
  },
  {
   "cell_type": "code",
   "execution_count": 34,
   "metadata": {},
   "outputs": [
    {
     "name": "stdout",
     "output_type": "stream",
     "text": [
      "'Parameters currently in use:\\n'\n",
      "{'ccp_alpha': 0.0,\n",
      " 'class_weight': None,\n",
      " 'criterion': 'gini',\n",
      " 'max_depth': None,\n",
      " 'max_features': None,\n",
      " 'max_leaf_nodes': 150,\n",
      " 'min_impurity_decrease': 0.0,\n",
      " 'min_impurity_split': None,\n",
      " 'min_samples_leaf': 1,\n",
      " 'min_samples_split': 2,\n",
      " 'min_weight_fraction_leaf': 0.0,\n",
      " 'random_state': 42,\n",
      " 'splitter': 'best'}\n"
     ]
    }
   ],
   "source": [
    "pprint('Parameters currently in use:\\n')\n",
    "pprint(DC.get_params())"
   ]
  },
  {
   "cell_type": "markdown",
   "metadata": {},
   "source": [
    "We also choose same indicators for checking model performance."
   ]
  },
  {
   "cell_type": "code",
   "execution_count": 35,
   "metadata": {},
   "outputs": [
    {
     "name": "stdout",
     "output_type": "stream",
     "text": [
      "Log loss score:  0.7244519563391612\n",
      "Accuracy score:  0.6865356504791295\n",
      "Recall score:  0.6865356504791295\n",
      "ROC AUC score:  0.7243835044263008\n"
     ]
    }
   ],
   "source": [
    "#checking model performance\n",
    "log_loss3 = log_loss(y_valid, y_pred3_proba)\n",
    "print(\"Log loss score: \", log_loss3)\n",
    "acc3 = accuracy_score(y_valid, y_pred3)\n",
    "print(\"Accuracy score: \",acc2)\n",
    "rec3 = recall_score(y_valid, y_pred3, average='weighted')\n",
    "print(\"Recall score: \", rec2)\n",
    "roc_auc3 = roc_auc_score(y_valid, y_pred3_proba, multi_class='ovo')\n",
    "print(\"ROC AUC score: \", roc_auc3)"
   ]
  },
  {
   "cell_type": "code",
   "execution_count": 36,
   "metadata": {},
   "outputs": [],
   "source": [
    "#top 20 mdi importances\n",
    "feature_imp_mdi = pd.Series(DC.feature_importances_,index=x_train.columns).sort_values(ascending=False)\n",
    "feature_mdi_top20 = feature_imp_mdi[:20]"
   ]
  },
  {
   "cell_type": "code",
   "execution_count": 37,
   "metadata": {},
   "outputs": [],
   "source": [
    "#top 20 permutation (mda) importances\n",
    "MDA_importances = permutation_importance(DC, x_train, y_train, random_state=42, n_jobs=2)\n",
    "MDA_importances = MDA_importances.importances_mean\n",
    "feature_imp_mda =  pd.Series(MDA_importances,index=x_train.columns).sort_values(ascending=False)\n",
    "feature_mda_top20 = feature_imp_mda[:20]"
   ]
  },
  {
   "cell_type": "code",
   "execution_count": 38,
   "metadata": {},
   "outputs": [
    {
     "data": {
      "image/png": "[encoded data removed]",
      "text/plain": [
       "<Figure size 1440x576 with 2 Axes>"
      ]
     },
     "metadata": {
      "needs_background": "light"
     },
     "output_type": "display_data"
    }
   ],
   "source": [
    "#plotting importances\n",
    "plt.figure(figsize=(20,8))\n",
    "plt.subplot(1,2,1)\n",
    "sns.barplot(x=feature_mdi_top20, y=feature_mdi_top20.index)\n",
    "plt.xlabel('MDI Importances', fontsize=15)\n",
    "plt.ylabel('Features', fontsize=15)\n",
    "plt.title(\"Visualizing MDI Importances\", fontsize=18)\n",
    "plt.xticks(fontsize=15)\n",
    "plt.yticks(fontsize=15)\n",
    "\n",
    "plt.subplot(1,2,2)\n",
    "sns.barplot(x=feature_mda_top20, y=feature_mda_top20.index, palette='winter')\n",
    "plt.xlabel('MDA Importances', fontsize=15)\n",
    "plt.ylabel('Features', fontsize=15)\n",
    "plt.title(\"Visualizing MDA Importances\", fontsize=18)\n",
    "plt.xticks(fontsize=15)\n",
    "plt.yticks(fontsize=15);"
   ]
  },
  {
   "cell_type": "markdown",
   "metadata": {},
   "source": [
    "**Decision Tree Pruning**\n",
    "\n",
    "We are going to use RandomizedSearchCV method for our Decision Tree pruning method."
   ]
  },
  {
   "cell_type": "code",
   "execution_count": 39,
   "metadata": {},
   "outputs": [
    {
     "name": "stdout",
     "output_type": "stream",
     "text": [
      "Tuned Decision Tree Parameters: {'max_depth': 100, 'max_features': 41, 'min_samples_leaf': 84}\n"
     ]
    }
   ],
   "source": [
    "# Setup the parameters and distributions to sample from: param_dist\n",
    "param_dist = {\"max_depth\": [1,3,5,8,10,20,25,50,65, 75,100],\n",
    "              \"max_features\": randint(1, 100),\n",
    "              \"min_samples_leaf\": randint(1,100),\n",
    "             }\n",
    "\n",
    "# Instantiate a Decision Tree classifier: tree\n",
    "tree = DecisionTreeClassifier()\n",
    "\n",
    "# Instantiate the RandomizedSearchCV object: tree_cv\n",
    "tree_cv = RandomizedSearchCV(tree, param_dist, cv=5, scoring='roc_auc_ovo')\n",
    "\n",
    "# Fit it to the data\n",
    "tree_cv.fit(x_train,y_train)\n",
    "\n",
    "# Print the tuned parameters and score\n",
    "print(\"Tuned Decision Tree Parameters: {}\".format(tree_cv.best_params_))"
   ]
  },
  {
   "cell_type": "code",
   "execution_count": 40,
   "metadata": {},
   "outputs": [
    {
     "data": {
      "text/plain": [
       "0.7313392446654899"
      ]
     },
     "execution_count": 40,
     "metadata": {},
     "output_type": "execute_result"
    }
   ],
   "source": [
    "tree_cv.best_score_"
   ]
  },
  {
   "cell_type": "markdown",
   "metadata": {},
   "source": [
    "Now we will tune the model with the suggested best hyperparameter set."
   ]
  },
  {
   "cell_type": "code",
   "execution_count": 41,
   "metadata": {},
   "outputs": [],
   "source": [
    "DC2 = DecisionTreeClassifier(max_depth=10, max_features=43, min_samples_leaf=73, random_state = 42).fit(x_train,y_train)\n",
    "y_pred4 = DC2.predict(x_test)\n",
    "y_pred4_proba = DC2.predict_proba(x_test)"
   ]
  },
  {
   "cell_type": "code",
   "execution_count": 42,
   "metadata": {},
   "outputs": [
    {
     "name": "stdout",
     "output_type": "stream",
     "text": [
      "Log loss score:  0.7782539663739126\n",
      "Accuracy score:  0.6774403118401819\n",
      "Recall score:  0.6774403118401819\n",
      "ROC AUC score:  0.7268909979254229\n"
     ]
    }
   ],
   "source": [
    "#checking model performance\n",
    "log_loss4 = log_loss(y_test, y_pred4_proba)\n",
    "print(\"Log loss score: \", log_loss4)\n",
    "acc4 = accuracy_score(y_test, y_pred4)\n",
    "print(\"Accuracy score: \",acc4)\n",
    "rec4 = recall_score(y_test, y_pred4, average='weighted')\n",
    "print(\"Recall score: \", rec4)\n",
    "roc_auc4 = roc_auc_score(y_test, y_pred4_proba, multi_class='ovo')\n",
    "print(\"ROC AUC score: \", roc_auc4)"
   ]
  },
  {
   "cell_type": "markdown",
   "metadata": {},
   "source": [
    "Now we will compile all the scores into one table to compare the performances of the model and choose the best one."
   ]
  },
  {
   "cell_type": "code",
   "execution_count": 50,
   "metadata": {},
   "outputs": [],
   "source": [
    "metrics = ['Log loss', 'Accuracy', 'Recall', 'ROC AUC']\n",
    "model1_scores = [log_loss1, acc1, rec1, roc_auc1]\n",
    "model2_scores = [log_loss2, acc2, rec2, roc_auc2]\n",
    "modelDC1_scores = [log_loss3, acc3, rec3, roc_auc3]\n",
    "modelDC2_scores = [log_loss4, acc4, rec4, roc_auc4]"
   ]
  },
  {
   "cell_type": "code",
   "execution_count": 51,
   "metadata": {},
   "outputs": [
    {
     "data": {
      "text/html": [
       "<div>\n",
       "<style scoped>\n",
       "    .dataframe tbody tr th:only-of-type {\n",
       "        vertical-align: middle;\n",
       "    }\n",
       "\n",
       "    .dataframe tbody tr th {\n",
       "        vertical-align: top;\n",
       "    }\n",
       "\n",
       "    .dataframe thead th {\n",
       "        text-align: right;\n",
       "    }\n",
       "</style>\n",
       "<table border=\"1\" class=\"dataframe\">\n",
       "  <thead>\n",
       "    <tr style=\"text-align: right;\">\n",
       "      <th></th>\n",
       "      <th>Model 1 RF</th>\n",
       "      <th>Model 2 RF</th>\n",
       "      <th>Model 3 DT</th>\n",
       "      <th>Model 4 DT</th>\n",
       "    </tr>\n",
       "    <tr>\n",
       "      <th>Metric</th>\n",
       "      <th></th>\n",
       "      <th></th>\n",
       "      <th></th>\n",
       "      <th></th>\n",
       "    </tr>\n",
       "  </thead>\n",
       "  <tbody>\n",
       "    <tr>\n",
       "      <th>Log loss</th>\n",
       "      <td>0.702061</td>\n",
       "      <td>0.678077</td>\n",
       "      <td>0.724452</td>\n",
       "      <td>0.778254</td>\n",
       "    </tr>\n",
       "    <tr>\n",
       "      <th>Accuracy</th>\n",
       "      <td>0.691632</td>\n",
       "      <td>0.690109</td>\n",
       "      <td>0.682270</td>\n",
       "      <td>0.677440</td>\n",
       "    </tr>\n",
       "    <tr>\n",
       "      <th>Recall</th>\n",
       "      <td>0.691632</td>\n",
       "      <td>0.690109</td>\n",
       "      <td>0.682270</td>\n",
       "      <td>0.677440</td>\n",
       "    </tr>\n",
       "    <tr>\n",
       "      <th>ROC AUC</th>\n",
       "      <td>0.742914</td>\n",
       "      <td>0.752386</td>\n",
       "      <td>0.724384</td>\n",
       "      <td>0.726891</td>\n",
       "    </tr>\n",
       "  </tbody>\n",
       "</table>\n",
       "</div>"
      ],
      "text/plain": [
       "          Model 1 RF  Model 2 RF  Model 3 DT  Model 4 DT\n",
       "Metric                                                  \n",
       "Log loss    0.702061    0.678077    0.724452    0.778254\n",
       "Accuracy    0.691632    0.690109    0.682270    0.677440\n",
       "Recall      0.691632    0.690109    0.682270    0.677440\n",
       "ROC AUC     0.742914    0.752386    0.724384    0.726891"
      ]
     },
     "execution_count": 51,
     "metadata": {},
     "output_type": "execute_result"
    }
   ],
   "source": [
    "models_performance = pd.DataFrame({'Metric': metrics, 'Model 1 RF': model1_scores, 'Model 2 RF': model2_scores, 'Model 3 DT': modelDC1_scores, 'Model 4 DT': modelDC2_scores}).set_index('Metric')\n",
    "models_performance"
   ]
  },
  {
   "cell_type": "code",
   "execution_count": 52,
   "metadata": {},
   "outputs": [
    {
     "data": {
      "image/png": "[encoded data removed]",
      "text/plain": [
       "<Figure size 432x288 with 1 Axes>"
      ]
     },
     "metadata": {
      "needs_background": "light"
     },
     "output_type": "display_data"
    }
   ],
   "source": [
    "models_performance.plot(kind='bar')\n",
    "plt.title('Comparing model performances', fontsize=18)\n",
    "plt.xticks(fontsize=15, rotation=0)\n",
    "plt.yticks(fontsize=15)\n",
    "plt.legend(loc='lower center');"
   ]
  },
  {
   "cell_type": "markdown",
   "metadata": {},
   "source": [
    "The output of model scores yields interesting patterns. After pruning the random forest model, we're getting slightly better scores (decrease in log loss and increase in roc auc scores). However, for decision trees, that's not quite the case with only a tiny improvement of roc auc score. Interestingly, after pruning the decision tree model, we're getting higher log loss score which might raise the sign of having a worse model. Accuracy scores are more or less the same across all models (around 68-69 %). Recall scores also closely resemble accuracy scores. \n",
    "After comparing all these model performances, we conclude that the Model 2 (Random Forest after Pruning) is the best one as evidenced by lower log loss score and higher roc auc score. In this case, we give more weight to the roc auc score as it is an objective indicator of how good the model is at distinguishing classes and incoporates accuracy, sensitivity and specificity scores."
   ]
  }
 ],
 "metadata": {
  "kernelspec": {
   "display_name": "Python 3",
   "language": "python",
   "name": "python3"
  },
  "language_info": {
   "codemirror_mode": {
    "name": "ipython",
    "version": 3
   },
   "file_extension": ".py",
   "mimetype": "text/x-python",
   "name": "python",
   "nbconvert_exporter": "python",
   "pygments_lexer": "ipython3",
   "version": "3.7.3"
  }
 },
 "nbformat": 4,
 "nbformat_minor": 4
}
