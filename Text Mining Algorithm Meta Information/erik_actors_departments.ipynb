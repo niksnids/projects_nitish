{
  "nbformat": 4,
  "nbformat_minor": 0,
  "metadata": {
    "colab": {
      "name": "Copy of 2021-06-06 Actors_Departments.ipynb",
      "provenance": [],
      "collapsed_sections": [
        "sPvJhm_qmPbO"
      ]
    },
    "kernelspec": {
      "name": "python3",
      "display_name": "Python 3"
    },
    "language_info": {
      "name": "python"
    }
  },
  "cells": [
    {
      "cell_type": "markdown",
      "metadata": {
        "id": "qje4PZ0Rkk34"
      },
      "source": [
        "# Import stuff"
      ]
    },
    {
      "cell_type": "code",
      "metadata": {
        "colab": {
          "base_uri": "https://localhost:8080/"
        },
        "id": "aauvGOG7bc2a",
        "outputId": "53552cf1-5ed5-4a61-bfad-9827beb3d665"
      },
      "source": [
        "!pip install pprintpp"
      ],
      "execution_count": 1,
      "outputs": [
        {
          "output_type": "stream",
          "text": [
            "Collecting pprintpp\n",
            "  Downloading https://files.pythonhosted.org/packages/4e/d1/e4ed95fdd3ef13b78630280d9e9e240aeb65cc7c544ec57106149c3942fb/pprintpp-0.4.0-py2.py3-none-any.whl\n",
            "Installing collected packages: pprintpp\n",
            "Successfully installed pprintpp-0.4.0\n"
          ],
          "name": "stdout"
        }
      ]
    },
    {
      "cell_type": "code",
      "metadata": {
        "colab": {
          "base_uri": "https://localhost:8080/"
        },
        "id": "xdUlfvkzYrr0",
        "outputId": "db58a105-a3e9-46b2-9c27-33d8cfbad14b"
      },
      "source": [
        "!pip install tika"
      ],
      "execution_count": 2,
      "outputs": [
        {
          "output_type": "stream",
          "text": [
            "Collecting tika\n",
            "  Downloading https://files.pythonhosted.org/packages/96/07/244fbb9c74c0de8a3745cc9f3f496077a29f6418c7cbd90d68fd799574cb/tika-1.24.tar.gz\n",
            "Requirement already satisfied: setuptools in /usr/local/lib/python3.7/dist-packages (from tika) (57.0.0)\n",
            "Requirement already satisfied: requests in /usr/local/lib/python3.7/dist-packages (from tika) (2.23.0)\n",
            "Requirement already satisfied: chardet<4,>=3.0.2 in /usr/local/lib/python3.7/dist-packages (from requests->tika) (3.0.4)\n",
            "Requirement already satisfied: urllib3!=1.25.0,!=1.25.1,<1.26,>=1.21.1 in /usr/local/lib/python3.7/dist-packages (from requests->tika) (1.24.3)\n",
            "Requirement already satisfied: idna<3,>=2.5 in /usr/local/lib/python3.7/dist-packages (from requests->tika) (2.10)\n",
            "Requirement already satisfied: certifi>=2017.4.17 in /usr/local/lib/python3.7/dist-packages (from requests->tika) (2021.5.30)\n",
            "Building wheels for collected packages: tika\n",
            "  Building wheel for tika (setup.py) ... \u001b[?25l\u001b[?25hdone\n",
            "  Created wheel for tika: filename=tika-1.24-cp37-none-any.whl size=32894 sha256=0b6efc1556b02bb9cfe92a7ae41d1fd803405291be3afbb4f254d44ff24c56d6\n",
            "  Stored in directory: /root/.cache/pip/wheels/73/9c/f5/0b1b738442fc2a2862bef95b908b374f8e80215550fb2a8975\n",
            "Successfully built tika\n",
            "Installing collected packages: tika\n",
            "Successfully installed tika-1.24\n"
          ],
          "name": "stdout"
        }
      ]
    },
    {
      "cell_type": "code",
      "metadata": {
        "colab": {
          "base_uri": "https://localhost:8080/"
        },
        "id": "DTJSQwb4RyqN",
        "outputId": "2500b02b-e05e-40ff-f17d-6b3b6ecd0041"
      },
      "source": [
        "from tika import parser\n",
        "import re\n",
        "from google.colab import drive\n",
        "drive.mount('/content/gdrive')\n",
        "from collections import Counter\n",
        "import spacy\n",
        "from spacy import displacy\n",
        "from gensim.parsing.preprocessing import STOPWORDS, strip_tags, strip_numeric, strip_punctuation, strip_multiple_whitespaces, remove_stopwords, strip_short, stem_text\n",
        "from collections import Counter\n",
        "import en_core_web_sm\n",
        "import pprintpp\n",
        "import nltk\n",
        "nltk.download('stopwords')\n",
        "from nltk.corpus import stopwords\n",
        "nlp = en_core_web_sm.load()\n",
        "import numpy as np"
      ],
      "execution_count": 3,
      "outputs": [
        {
          "output_type": "stream",
          "text": [
            "Mounted at /content/gdrive\n",
            "[nltk_data] Downloading package stopwords to /root/nltk_data...\n",
            "[nltk_data]   Unzipping corpora/stopwords.zip.\n"
          ],
          "name": "stdout"
        }
      ]
    },
    {
      "cell_type": "markdown",
      "metadata": {
        "id": "Lj5E1U-KG3JC"
      },
      "source": [
        "# Actors / Departments"
      ]
    },
    {
      "cell_type": "code",
      "metadata": {
        "colab": {
          "base_uri": "https://localhost:8080/",
          "height": 154
        },
        "id": "anX7fnkyHAP1",
        "outputId": "c79afa30-5387-4534-ffcb-a4648e22987d"
      },
      "source": [
        "#same approach as you had in the main class too, create a list with the files and then just chose the respective one\n",
        "file_list = [\n",
        "             '04_SOP-Business-Plan.pdf', #0\n",
        "             'AccountsPayablePolicy.pdf', #1\n",
        "             'purchasing-payment-policy.pdf', #2\n",
        "             'UniversityofMichiganGift-Cards1.pdf' #3\n",
        "]\n",
        "file_index = 3\n",
        "raw = \"/content/gdrive/My Drive/Signavio_Test/data/\"+file_list[file_index]\n",
        "\n",
        "#convert pdf and call the dataframe own (I can't recall why I called it like this haha :D)\n",
        "own = parser.from_file(raw)[\"content\"]\n",
        "own"
      ],
      "execution_count": 4,
      "outputs": [
        {
          "output_type": "stream",
          "text": [
            "2021-06-30 09:37:27,876 [MainThread  ] [INFO ]  Retrieving http://search.maven.org/remotecontent?filepath=org/apache/tika/tika-server/1.24/tika-server-1.24.jar to /tmp/tika-server.jar.\n",
            "2021-06-30 09:37:28,616 [MainThread  ] [INFO ]  Retrieving http://search.maven.org/remotecontent?filepath=org/apache/tika/tika-server/1.24/tika-server-1.24.jar.md5 to /tmp/tika-server.jar.md5.\n",
            "2021-06-30 09:37:29,044 [MainThread  ] [WARNI]  Failed to see startup log message; retrying...\n"
          ],
          "name": "stderr"
        },
        {
          "output_type": "execute_result",
          "data": {
            "application/vnd.google.colaboratory.intrinsic+json": {
              "type": "string"
            },
            "text/plain": [
              "\"\\n\\n\\n\\n\\n\\n\\n\\n\\n\\n\\n\\n\\n\\n\\n\\n\\n\\n\\n\\n\\n\\n\\n\\n\\n\\n\\n\\n\\n\\n\\n\\n\\n\\n\\n\\n\\n\\n\\n\\n\\n\\n\\n\\n\\n\\n\\n\\n\\n\\n\\nSECTION:\\n\\n\\n \\n \\n\\nPage 1 of 4 \\n\\nSUBJECT:  Gift Cards – Process Documentation \\nAPPLIES TO:  Purchasing, securing, and disbursing of gift cards  \\n \\nGift Card Overview \\nThe objective of the gift card process is to ensure all gift cards are obtained, tracked, and distributed consistent with \\nUniversity guidelines. \\n \\nNOTE: If using gift cards for human subjects, refer to the Human Subject Incentives written procedure template. \\n \\nGift Card Process \\n\\nActivity Responsibility Reference/Comments \\nPURCHASING/APPROVING \\n\\nGift cards may be used for the following \\nreason(s)/situation(s): \\n \\n• Employee recognition/appreciation \\n\\n  \\n\\nDetermine the number of gift cards needed for a \\nspecific event. \\n\\nDepartment \\nDesignated Staff  \\n(See Appendix A) \\n\\nUnit should only purchase the \\nexact number of gift cards that \\nwill be used within 30 days. \\n\\nPurchase gift cards using either a P-card or \\nreimbursed through Concur. \\n\\nDepartment \\nDesignated Staff  \\n(Appendix A) \\n\\n \\n\\nReview the gift card purchase to ensure it was \\nappropriate and valid. \\n\\nDepartment Higher \\nAdministrative \\nAuthority  \\n(See Appendix A) \\n\\nIndividuals should not be \\napproving their own requests / \\npurchases of gift cards. \\n\\nDISTRIBUTING/TRACKING \\nIndividuals handling/distributing gift cards \\nshould complete the cash handling training \\ncourse offered by the Treasury Department. \\n\\nDepartment Higher \\nAdministrative \\nAuthority \\n(Appendix A) \\n \\n\\nThe MyLINC course number for \\nthe Cash Handling Course is \\nTME103. \\n\\nSecure gift cards by placing them in a secure \\nlocked drawer/cabinet. \\n \\n\\nDepartment Higher \\nAdministrative \\nAuthority  \\n(Appendix A) \\n\\nOnly authorized personnel should \\nhave access to the safe or drawer. \\n\\nGift cards are recorded/logged by Department’s \\nHigher Administrative Authority to identify all \\npurchases, distribution, recipients, and timing to \\nensure all cards are accounted for, and determine \\nthe amount that may be considered taxable \\nincome to the recipient. \\n \\nNOTE: The unit is responsible for ensuring that, \\nin the aggregate, the employee has not received \\ngift cards for the calendar year in excess of $50. \\nIf the threshold is exceeded, the entire amount \\nmust be taxed and reported through PeoplePay. \\n\\nDepartment Higher \\nAdministrative \\nAuthority  \\n(Appendix A) \\n \\n\\nClick here for a sample \\nlog/evidence template. \\n\\nfile://isss-users.m.storage.umich.edu/isss-users/homefolders/brdick/documents/FY2010%20Final%20Matrixes%20&%20Tools/9%20HSIP/HSIP%20Written%20Procedures%20020810.doc\\nhttps://finance.umich.edu/system/files/Sample%20Gift%20Card%20Log.xlsx\\n\\n\\n \\n \\n\\nPage 2 of 4 \\n\\nDistribute gifts cards in a secure manner. Present \\neach gift card to the intended awardee of the gift.  \\n\\nDepartment Higher \\nAdministrative \\nAuthority  \\n(Appendix A) \\n \\n\\n \\n\\nEvidence of distribution is collected and \\nmaintained as follows: employees who are \\nawarded a gift card will have their name added to \\nthe list of recipients and employee should sign as \\nan acknowledgment of receipt.  \\n \\nEvidence should be available and maintained \\nfrom all recipients to validate actual and proper \\ndistribution. \\n \\n\\nDepartment Higher \\nAdministrative \\nAuthority  \\n(Appendix A) \\n  \\n \\n\\nA list of recipients (i.e., list of \\nsignatures or copies of submitted \\nPeoplePay forms) and the \\npurpose of the gift cards should \\nbe provided as part of the \\nreconciliation process (e.g. \\nreconciling the transaction in \\nConcur). \\n \\nNOTE: For tax purposes, name \\nof gift card vendor (i.e. Meijer, \\nVISA, etc.) must be included in \\nthe description on PeoplePay \\nforms. \\n \\nClick here for a sample log/ \\nevidence template. \\n\\nReturn any unused gift cards (with no intended \\nfuture use) to the vendor. \\n\\nDepartment Higher \\nAdministrative \\nAuthority  \\n(Appendix A) \\n\\n \\n\\nACCOUNTING & RECONCILIATION \\nThe Department’s Higher Administrative \\nAuthority will contact FBS in order to report gift \\ncard usage through PeoplePay when appropriate \\nfor taxation purposes.  \\n \\nNOTE: Units must review the Policy on Taxation \\nand Gifts, Prizes, and Awards to Employees to \\nensure tax implications are understood and \\npolicy is followed.  \\n \\n\\nDepartment Higher \\nAdministrative \\nAuthority \\n(Appendix A) \\n  \\n \\n\\nSPG 501.12 Awards, Gifts, and \\nPrizes \\n \\nFor additional info on tax \\nguidelines, see: Policy on \\nTaxation of Gifts, Prizes & \\nAwards to Employees. \\n \\nFor guidance in determining \\nwhether gift cards should be \\nreported through PeoplePay and \\nwhat account they should be \\ncharged to, see: Prizes, Gifts and \\nAwards Decision Process or \\nReporting Prizes, Gifts, & \\nAwards. \\n\\nhttp://www.finance.umich.edu/system/files/Sample+Gift+Card+Log.xlsx\\nhttp://www.spg.umich.edu/policy/501.12\\nhttp://www.spg.umich.edu/policy/501.12\\nhttps://finance.umich.edu/system/files/prizestaxpol07.pdf\\nhttps://finance.umich.edu/system/files/prizestaxpol07.pdf\\nhttps://finance.umich.edu/system/files/prizestaxpol07.pdf\\nhttp://finance.umich.edu/sites/default/files/2017-05/prize_gift_and_awards_decision_process.pdf\\nhttp://finance.umich.edu/sites/default/files/2017-05/prize_gift_and_awards_decision_process.pdf\\nhttp://finance.umich.edu/sites/default/files/2017-08/Reporting%20Prizes%20Gifts%20Awards.pdf\\nhttp://finance.umich.edu/sites/default/files/2017-08/Reporting%20Prizes%20Gifts%20Awards.pdf\\n\\n\\n \\n \\n\\nPage 3 of 4 \\n\\n \\n  \\n\\nFBS will access PeoplePay in order for \\nappropriate taxation of gift. \\n\\nFBS For additional info on tax \\nguidelines, see: Policy on \\nTaxation of Gifts, Prizes & \\nAwards to Employees. \\n \\nFor guidance in determining \\nwhether gift cards should be \\nreported through PeoplePay and \\nwhat account they should be \\ncharged to, see: Prizes, Gifts and \\nAwards Decision Process. \\n\\nGift cards for employees are charged to account \\n502300 and gift cards for non-employees are \\ncharged to account 614573.  \\n \\nGift cards are flagged as “X” class when \\nappropriate. \\n\\nFBS Administrative \\nAssistant \\nIntermeidate \\n\\nGift cards should be flagged “X” \\nclass unless offered to ALL \\nemployees of the University on \\nan equitable basis, e.g. University \\nHuman Resources’ Employee \\nService Awards. \\n \\nFor additional info on Indirect \\nCosts, see: https://www.finance. \\numich.edu/programs/indirectcost\\ns \\n\\nReconcile all gift card purchases, credits and \\ndepartmental tax charges to SOA and ensure \\nusage is consistent with log records. Maintain \\nproper evidence of reconciliation.  \\n \\nEnsure discrepancies are resolved in a timely \\nmanner.  \\n\\nFBS Senior Budget \\nAnalyst \\n\\nIdeally, person performing the \\nreconciliation should be someone \\nwho is independent of the gift \\ncard process. \\n\\nMONITORING & OVERSIGHT \\nReview the CMB Treasurer’s Office \\nCertification Courses Report in Business Objects \\nto monitor individuals who have taken the \\nTME103 course. \\n \\nFBS will provide CMB Treasurer's Office \\nCertification Courses Report, upon request. \\n\\nDepartment Higher \\nAdministrative \\nAuthority  \\n(Appendix A) \\n \\n\\nReport can be accessed through \\nBusiness Objects at: \\n \\nUM-Maintained \\uf0e0 Financials \\uf0e0 \\nFN03 Journal Detail \\n\\nClient is to inventory gift cards semi-annually \\nand compare to log and purchasing/ credit \\ndocumentation. Discrepancies should be resolved \\nin a timely basis. \\n\\nDepartment Higher \\nAdministrative \\nAuthority \\n(Appendix A) \\n\\n \\n\\nAn inventory of gift cards is conducted semi-\\nannually and compared to log and purchasing/ \\ncredit documentation. Discrepancies should be \\nresolved in a timely basis.  \\n\\nDepartment Higher \\nAdministrative \\nAuthority \\n(Appendix A) \\n\\nPerson performing inventory \\nshould not be person maintaining \\nlog. \\n\\nhttps://finance.umich.edu/system/files/prizestaxpol07.pdf\\nhttps://finance.umich.edu/system/files/prizestaxpol07.pdf\\nhttps://finance.umich.edu/system/files/prizestaxpol07.pdf\\nhttp://www.finops.umich.edu/system/files/Prize,%20Gift%20and%20Awards%20Decision%20Process.pdf\\nhttp://www.finops.umich.edu/system/files/Prize,%20Gift%20and%20Awards%20Decision%20Process.pdf\\nhttps://businessobjects.umich.edu/InfoViewApp/listing/main.do?appKind=InfoView&service=%2FInfoViewApp%2Fcommon%2FappService.do\\n\\n\\n \\n \\n\\nPage 4 of 4 \\n\\nOther related information: \\n \\nKey Contacts: \\n \\n\\n• For general questions related to gift cards, contact giftstoemployees@umich.edu. \\n \\n\\n• Contact the Tax Department at taxreporting@umich.edu for questions pertaining to tax treatment of gift \\ncards. \\n \\n\\n• Contact the Payroll Office at (734) 615-2000 (option 2) or Payroll@umich.edu for questions related to \\nPeoplePay.  \\n \\n\\n• Contact Procurement Services Customer Solution at (734) 764-8212, Option 2, or \\nprocurement.services@umich.edu for questions related to PeoplePay for non-employees. \\n \\n\\n• Contact the Office of Financial Aid at (734) 763-4303 or sfps@umich.edu for questions related to payments \\nto students. \\n \\n\\nRelated Standard Practice Guides: \\n \\n\\n• See SPG 501.12 – Awards, Gifts, and Prizes \\n \\nRecord of Revisions: \\n \\n\\nDate of Issue Description of Change Page(s) Affected \\nApproved By \\n\\n2/11/2010 Original template created All  \\n\\n12/21/2010 Updated to include SPG number (still under development as of Dec 2010)  2&3 \\n \\n\\n12/20/2011 Minor updates for FY2012  2&3  \\n\\n12/5/2012 1 minor update for FY2013 2  \\n\\n2/25/13 Updated to include review of report to monitor who has taken training 3 \\n \\n\\n9/15/16 Updated URL to Indirect Costs info and Key Contacts list. 3-4 \\n \\n\\n08/2018 Updated to include Policy on Taxation of Gifts, Prizes, and Awards references. 2 \\n \\n\\n \\nDocument Owner: Fleming Business Services (FBS) supported departments and FBS \\nAdministrative Owner: FBS \\n\\nmailto:taxreporting@umich.edu\\nmailto:Payroll@umich.edu\\nmailto:procurement.services@umich.edu\\nmailto:sfps@umich.edu\\nhttp://www.spg.umich.edu/policy/501.12\\n\\n\""
            ]
          },
          "metadata": {
            "tags": []
          },
          "execution_count": 4
        }
      ]
    },
    {
      "cell_type": "code",
      "metadata": {
        "colab": {
          "base_uri": "https://localhost:8080/",
          "height": 103
        },
        "id": "XA0F4hiCfrac",
        "outputId": "0fbad349-2c56-4c4d-bbfc-3b19ce693bae"
      },
      "source": [
        "#I have created a second df called owncleaned, which I will use to do some preprocessing on\n",
        "#I did it in case I ruin it, so I can always go back to this cell and overwrite all the changes\n",
        "owncleaned = own\n",
        "owncleaned"
      ],
      "execution_count": 5,
      "outputs": [
        {
          "output_type": "execute_result",
          "data": {
            "application/vnd.google.colaboratory.intrinsic+json": {
              "type": "string"
            },
            "text/plain": [
              "\"\\n\\n\\n\\n\\n\\n\\n\\n\\n\\n\\n\\n\\n\\n\\n\\n\\n\\n\\n\\n\\n\\n\\n\\n\\n\\n\\n\\n\\n\\n\\n\\n\\n\\n\\n\\n\\n\\n\\n\\n\\n\\n\\n\\n\\n\\n\\n\\n\\n\\n\\nSECTION:\\n\\n\\n \\n \\n\\nPage 1 of 4 \\n\\nSUBJECT:  Gift Cards – Process Documentation \\nAPPLIES TO:  Purchasing, securing, and disbursing of gift cards  \\n \\nGift Card Overview \\nThe objective of the gift card process is to ensure all gift cards are obtained, tracked, and distributed consistent with \\nUniversity guidelines. \\n \\nNOTE: If using gift cards for human subjects, refer to the Human Subject Incentives written procedure template. \\n \\nGift Card Process \\n\\nActivity Responsibility Reference/Comments \\nPURCHASING/APPROVING \\n\\nGift cards may be used for the following \\nreason(s)/situation(s): \\n \\n• Employee recognition/appreciation \\n\\n  \\n\\nDetermine the number of gift cards needed for a \\nspecific event. \\n\\nDepartment \\nDesignated Staff  \\n(See Appendix A) \\n\\nUnit should only purchase the \\nexact number of gift cards that \\nwill be used within 30 days. \\n\\nPurchase gift cards using either a P-card or \\nreimbursed through Concur. \\n\\nDepartment \\nDesignated Staff  \\n(Appendix A) \\n\\n \\n\\nReview the gift card purchase to ensure it was \\nappropriate and valid. \\n\\nDepartment Higher \\nAdministrative \\nAuthority  \\n(See Appendix A) \\n\\nIndividuals should not be \\napproving their own requests / \\npurchases of gift cards. \\n\\nDISTRIBUTING/TRACKING \\nIndividuals handling/distributing gift cards \\nshould complete the cash handling training \\ncourse offered by the Treasury Department. \\n\\nDepartment Higher \\nAdministrative \\nAuthority \\n(Appendix A) \\n \\n\\nThe MyLINC course number for \\nthe Cash Handling Course is \\nTME103. \\n\\nSecure gift cards by placing them in a secure \\nlocked drawer/cabinet. \\n \\n\\nDepartment Higher \\nAdministrative \\nAuthority  \\n(Appendix A) \\n\\nOnly authorized personnel should \\nhave access to the safe or drawer. \\n\\nGift cards are recorded/logged by Department’s \\nHigher Administrative Authority to identify all \\npurchases, distribution, recipients, and timing to \\nensure all cards are accounted for, and determine \\nthe amount that may be considered taxable \\nincome to the recipient. \\n \\nNOTE: The unit is responsible for ensuring that, \\nin the aggregate, the employee has not received \\ngift cards for the calendar year in excess of $50. \\nIf the threshold is exceeded, the entire amount \\nmust be taxed and reported through PeoplePay. \\n\\nDepartment Higher \\nAdministrative \\nAuthority  \\n(Appendix A) \\n \\n\\nClick here for a sample \\nlog/evidence template. \\n\\nfile://isss-users.m.storage.umich.edu/isss-users/homefolders/brdick/documents/FY2010%20Final%20Matrixes%20&%20Tools/9%20HSIP/HSIP%20Written%20Procedures%20020810.doc\\nhttps://finance.umich.edu/system/files/Sample%20Gift%20Card%20Log.xlsx\\n\\n\\n \\n \\n\\nPage 2 of 4 \\n\\nDistribute gifts cards in a secure manner. Present \\neach gift card to the intended awardee of the gift.  \\n\\nDepartment Higher \\nAdministrative \\nAuthority  \\n(Appendix A) \\n \\n\\n \\n\\nEvidence of distribution is collected and \\nmaintained as follows: employees who are \\nawarded a gift card will have their name added to \\nthe list of recipients and employee should sign as \\nan acknowledgment of receipt.  \\n \\nEvidence should be available and maintained \\nfrom all recipients to validate actual and proper \\ndistribution. \\n \\n\\nDepartment Higher \\nAdministrative \\nAuthority  \\n(Appendix A) \\n  \\n \\n\\nA list of recipients (i.e., list of \\nsignatures or copies of submitted \\nPeoplePay forms) and the \\npurpose of the gift cards should \\nbe provided as part of the \\nreconciliation process (e.g. \\nreconciling the transaction in \\nConcur). \\n \\nNOTE: For tax purposes, name \\nof gift card vendor (i.e. Meijer, \\nVISA, etc.) must be included in \\nthe description on PeoplePay \\nforms. \\n \\nClick here for a sample log/ \\nevidence template. \\n\\nReturn any unused gift cards (with no intended \\nfuture use) to the vendor. \\n\\nDepartment Higher \\nAdministrative \\nAuthority  \\n(Appendix A) \\n\\n \\n\\nACCOUNTING & RECONCILIATION \\nThe Department’s Higher Administrative \\nAuthority will contact FBS in order to report gift \\ncard usage through PeoplePay when appropriate \\nfor taxation purposes.  \\n \\nNOTE: Units must review the Policy on Taxation \\nand Gifts, Prizes, and Awards to Employees to \\nensure tax implications are understood and \\npolicy is followed.  \\n \\n\\nDepartment Higher \\nAdministrative \\nAuthority \\n(Appendix A) \\n  \\n \\n\\nSPG 501.12 Awards, Gifts, and \\nPrizes \\n \\nFor additional info on tax \\nguidelines, see: Policy on \\nTaxation of Gifts, Prizes & \\nAwards to Employees. \\n \\nFor guidance in determining \\nwhether gift cards should be \\nreported through PeoplePay and \\nwhat account they should be \\ncharged to, see: Prizes, Gifts and \\nAwards Decision Process or \\nReporting Prizes, Gifts, & \\nAwards. \\n\\nhttp://www.finance.umich.edu/system/files/Sample+Gift+Card+Log.xlsx\\nhttp://www.spg.umich.edu/policy/501.12\\nhttp://www.spg.umich.edu/policy/501.12\\nhttps://finance.umich.edu/system/files/prizestaxpol07.pdf\\nhttps://finance.umich.edu/system/files/prizestaxpol07.pdf\\nhttps://finance.umich.edu/system/files/prizestaxpol07.pdf\\nhttp://finance.umich.edu/sites/default/files/2017-05/prize_gift_and_awards_decision_process.pdf\\nhttp://finance.umich.edu/sites/default/files/2017-05/prize_gift_and_awards_decision_process.pdf\\nhttp://finance.umich.edu/sites/default/files/2017-08/Reporting%20Prizes%20Gifts%20Awards.pdf\\nhttp://finance.umich.edu/sites/default/files/2017-08/Reporting%20Prizes%20Gifts%20Awards.pdf\\n\\n\\n \\n \\n\\nPage 3 of 4 \\n\\n \\n  \\n\\nFBS will access PeoplePay in order for \\nappropriate taxation of gift. \\n\\nFBS For additional info on tax \\nguidelines, see: Policy on \\nTaxation of Gifts, Prizes & \\nAwards to Employees. \\n \\nFor guidance in determining \\nwhether gift cards should be \\nreported through PeoplePay and \\nwhat account they should be \\ncharged to, see: Prizes, Gifts and \\nAwards Decision Process. \\n\\nGift cards for employees are charged to account \\n502300 and gift cards for non-employees are \\ncharged to account 614573.  \\n \\nGift cards are flagged as “X” class when \\nappropriate. \\n\\nFBS Administrative \\nAssistant \\nIntermeidate \\n\\nGift cards should be flagged “X” \\nclass unless offered to ALL \\nemployees of the University on \\nan equitable basis, e.g. University \\nHuman Resources’ Employee \\nService Awards. \\n \\nFor additional info on Indirect \\nCosts, see: https://www.finance. \\numich.edu/programs/indirectcost\\ns \\n\\nReconcile all gift card purchases, credits and \\ndepartmental tax charges to SOA and ensure \\nusage is consistent with log records. Maintain \\nproper evidence of reconciliation.  \\n \\nEnsure discrepancies are resolved in a timely \\nmanner.  \\n\\nFBS Senior Budget \\nAnalyst \\n\\nIdeally, person performing the \\nreconciliation should be someone \\nwho is independent of the gift \\ncard process. \\n\\nMONITORING & OVERSIGHT \\nReview the CMB Treasurer’s Office \\nCertification Courses Report in Business Objects \\nto monitor individuals who have taken the \\nTME103 course. \\n \\nFBS will provide CMB Treasurer's Office \\nCertification Courses Report, upon request. \\n\\nDepartment Higher \\nAdministrative \\nAuthority  \\n(Appendix A) \\n \\n\\nReport can be accessed through \\nBusiness Objects at: \\n \\nUM-Maintained \\uf0e0 Financials \\uf0e0 \\nFN03 Journal Detail \\n\\nClient is to inventory gift cards semi-annually \\nand compare to log and purchasing/ credit \\ndocumentation. Discrepancies should be resolved \\nin a timely basis. \\n\\nDepartment Higher \\nAdministrative \\nAuthority \\n(Appendix A) \\n\\n \\n\\nAn inventory of gift cards is conducted semi-\\nannually and compared to log and purchasing/ \\ncredit documentation. Discrepancies should be \\nresolved in a timely basis.  \\n\\nDepartment Higher \\nAdministrative \\nAuthority \\n(Appendix A) \\n\\nPerson performing inventory \\nshould not be person maintaining \\nlog. \\n\\nhttps://finance.umich.edu/system/files/prizestaxpol07.pdf\\nhttps://finance.umich.edu/system/files/prizestaxpol07.pdf\\nhttps://finance.umich.edu/system/files/prizestaxpol07.pdf\\nhttp://www.finops.umich.edu/system/files/Prize,%20Gift%20and%20Awards%20Decision%20Process.pdf\\nhttp://www.finops.umich.edu/system/files/Prize,%20Gift%20and%20Awards%20Decision%20Process.pdf\\nhttps://businessobjects.umich.edu/InfoViewApp/listing/main.do?appKind=InfoView&service=%2FInfoViewApp%2Fcommon%2FappService.do\\n\\n\\n \\n \\n\\nPage 4 of 4 \\n\\nOther related information: \\n \\nKey Contacts: \\n \\n\\n• For general questions related to gift cards, contact giftstoemployees@umich.edu. \\n \\n\\n• Contact the Tax Department at taxreporting@umich.edu for questions pertaining to tax treatment of gift \\ncards. \\n \\n\\n• Contact the Payroll Office at (734) 615-2000 (option 2) or Payroll@umich.edu for questions related to \\nPeoplePay.  \\n \\n\\n• Contact Procurement Services Customer Solution at (734) 764-8212, Option 2, or \\nprocurement.services@umich.edu for questions related to PeoplePay for non-employees. \\n \\n\\n• Contact the Office of Financial Aid at (734) 763-4303 or sfps@umich.edu for questions related to payments \\nto students. \\n \\n\\nRelated Standard Practice Guides: \\n \\n\\n• See SPG 501.12 – Awards, Gifts, and Prizes \\n \\nRecord of Revisions: \\n \\n\\nDate of Issue Description of Change Page(s) Affected \\nApproved By \\n\\n2/11/2010 Original template created All  \\n\\n12/21/2010 Updated to include SPG number (still under development as of Dec 2010)  2&3 \\n \\n\\n12/20/2011 Minor updates for FY2012  2&3  \\n\\n12/5/2012 1 minor update for FY2013 2  \\n\\n2/25/13 Updated to include review of report to monitor who has taken training 3 \\n \\n\\n9/15/16 Updated URL to Indirect Costs info and Key Contacts list. 3-4 \\n \\n\\n08/2018 Updated to include Policy on Taxation of Gifts, Prizes, and Awards references. 2 \\n \\n\\n \\nDocument Owner: Fleming Business Services (FBS) supported departments and FBS \\nAdministrative Owner: FBS \\n\\nmailto:taxreporting@umich.edu\\nmailto:Payroll@umich.edu\\nmailto:procurement.services@umich.edu\\nmailto:sfps@umich.edu\\nhttp://www.spg.umich.edu/policy/501.12\\n\\n\""
            ]
          },
          "metadata": {
            "tags": []
          },
          "execution_count": 5
        }
      ]
    },
    {
      "cell_type": "code",
      "metadata": {
        "colab": {
          "base_uri": "https://localhost:8080/",
          "height": 103
        },
        "id": "4q__zEBKfuYn",
        "outputId": "ff909e5d-38a2-4061-a9f0-91a98637e572"
      },
      "source": [
        "#replace all line breaks with \"\"\n",
        "owncleaned = owncleaned.replace(\"\\n\",\"\")\n",
        "#do some text preprocessing\n",
        "owncleaned = [strip_numeric(data) for data in owncleaned]\n",
        "owncleaned = [strip_punctuation(data) for data in owncleaned]\n",
        "owncleaned = [strip_multiple_whitespaces(data) for data in owncleaned]\n",
        "owncleaned = (\"\").join(owncleaned)\n",
        "#remove stopwords\n",
        "nltk_stopwords = set(stopwords.words('english'))\n",
        "owncleaned = remove_stopwords(owncleaned)\n",
        "#show the preprocessed text\n",
        "owncleaned"
      ],
      "execution_count": 6,
      "outputs": [
        {
          "output_type": "execute_result",
          "data": {
            "application/vnd.google.colaboratory.intrinsic+json": {
              "type": "string"
            },
            "text/plain": [
              "'SECTION Page SUBJECT Gift Cards – Process Documentation APPLIES TO Purchasing securing disbursing gift cards Gift Card Overview The objective gift card process ensure gift cards obtained tracked distributed consistent University guidelines NOTE If gift cards human subjects refer Human Subject Incentives written procedure template Gift Card Process Activity Responsibility Reference Comments PURCHASING APPROVING Gift cards following reason s situation s • Employee recognition appreciation Determine number gift cards needed specific event Department Designated Staff See Appendix A Unit purchase exact number gift cards days Purchase gift cards P card reimbursed Concur Department Designated Staff Appendix A Review gift card purchase ensure appropriate valid Department Higher Administrative Authority See Appendix A Individuals approving requests purchases gift cards DISTRIBUTING TRACKING Individuals handling distributing gift cards complete cash handling training course offered Treasury Department Department Higher Administrative Authority Appendix A The MyLINC course number Cash Handling Course TME Secure gift cards placing secure locked drawer cabinet Department Higher Administrative Authority Appendix A Only authorized personnel access safe drawer Gift cards recorded logged Department’s Higher Administrative Authority identify purchases distribution recipients timing ensure cards accounted determine considered taxable income recipient NOTE The unit responsible ensuring aggregate employee received gift cards calendar year excess If threshold exceeded entire taxed reported PeoplePay Department Higher Administrative Authority Appendix A Click sample log evidence template file isss users m storage umich edu isss users homefolders brdick documents FY Final Matrixes Tools HSIP HSIP Written Procedures dochttps finance umich edu files Sample Gift Card Log xlsx Page Distribute gifts cards secure manner Present gift card intended awardee gift Department Higher Administrative Authority Appendix A Evidence distribution collected maintained follows employees awarded gift card added list recipients employee sign acknowledgment receipt Evidence available maintained recipients validate actual proper distribution Department Higher Administrative Authority Appendix A A list recipients e list signatures copies submitted PeoplePay forms purpose gift cards provided reconciliation process e g reconciling transaction Concur NOTE For tax purposes gift card vendor e Meijer VISA included description PeoplePay forms Click sample log evidence template Return unused gift cards intended future use vendor Department Higher Administrative Authority Appendix A ACCOUNTING RECONCILIATION The Department’s Higher Administrative Authority contact FBS order report gift card usage PeoplePay appropriate taxation purposes NOTE Units review Policy Taxation Gifts Prizes Awards Employees ensure tax implications understood policy followed Department Higher Administrative Authority Appendix A SPG Awards Gifts Prizes For additional info tax guidelines Policy Taxation Gifts Prizes Awards Employees For guidance determining gift cards reported PeoplePay account charged Prizes Gifts Awards Decision Process Reporting Prizes Gifts Awards http www finance umich edu files Sample Gift Card Log xlsxhttp www spg umich edu policy http www spg umich edu policy https finance umich edu files prizestaxpol pdfhttps finance umich edu files prizestaxpol pdfhttps finance umich edu files prizestaxpol pdfhttp finance umich edu sites default files prize gift awards decision process pdfhttp finance umich edu sites default files prize gift awards decision process pdfhttp finance umich edu sites default files Reporting Prizes Gifts Awards pdfhttp finance umich edu sites default files Reporting Prizes Gifts Awards pdf Page FBS access PeoplePay order appropriate taxation gift FBS For additional info tax guidelines Policy Taxation Gifts Prizes Awards Employees For guidance determining gift cards reported PeoplePay account charged Prizes Gifts Awards Decision Process Gift cards employees charged account gift cards non employees charged account Gift cards flagged “X” class appropriate FBS Administrative Assistant Intermeidate Gift cards flagged “X” class offered ALL employees University equitable basis e g University Human Resources’ Employee Service Awards For additional info Indirect Costs https www finance umich edu programs indirectcosts Reconcile gift card purchases credits departmental tax charges SOA ensure usage consistent log records Maintain proper evidence reconciliation Ensure discrepancies resolved timely manner FBS Senior Budget Analyst Ideally person performing reconciliation independent gift card process MONITORING OVERSIGHT Review CMB Treasurer’s Office Certification Courses Report Business Objects monitor individuals taken TME course FBS provide CMB Treasurer s Office Certification Courses Report request Department Higher Administrative Authority Appendix A Report accessed Business Objects UM Maintained \\uf0e0 Financials \\uf0e0 FN Journal Detail Client inventory gift cards semi annually compare log purchasing credit documentation Discrepancies resolved timely basis Department Higher Administrative Authority Appendix A An inventory gift cards conducted semi annually compared log purchasing credit documentation Discrepancies resolved timely basis Department Higher Administrative Authority Appendix A Person performing inventory person maintaining log https finance umich edu files prizestaxpol pdfhttps finance umich edu files prizestaxpol pdfhttps finance umich edu files prizestaxpol pdfhttp www finops umich edu files Prize Gift Awards Decision Process pdfhttp www finops umich edu files Prize Gift Awards Decision Process pdfhttps businessobjects umich edu InfoViewApp listing main appKind InfoView service FInfoViewApp Fcommon FappService Page Other related information Key Contacts • For general questions related gift cards contact giftstoemployees umich edu • Contact Tax Department taxreporting umich edu questions pertaining tax treatment gift cards • Contact Payroll Office option Payroll umich edu questions related PeoplePay • Contact Procurement Services Customer Solution Option procurement services umich edu questions related PeoplePay non employees • Contact Office Financial Aid sfps umich edu questions related payments students Related Standard Practice Guides • See SPG – Awards Gifts Prizes Record Revisions Date Issue Description Change Page s Affected Approved By Original template created All Updated include SPG number development Dec Minor updates FY minor update FY Updated include review report monitor taken training Updated URL Indirect Costs info Key Contacts list Updated include Policy Taxation Gifts Prizes Awards references Document Owner Fleming Business Services FBS supported departments FBS Administrative Owner FBS mailto taxreporting umich edumailto Payroll umich edumailto procurement services umich edumailto sfps umich eduhttp www spg umich edu policy'"
            ]
          },
          "metadata": {
            "tags": []
          },
          "execution_count": 6
        }
      ]
    },
    {
      "cell_type": "code",
      "metadata": {
        "id": "OGYg8CzcaDI7",
        "colab": {
          "base_uri": "https://localhost:8080/"
        },
        "outputId": "c2e1ced3-fa6d-47fe-ca23-38c121e08879"
      },
      "source": [
        "#run spacy name entity recognition model on it and store results of organization in mostcommon\n",
        "doc = nlp(owncleaned)\n",
        "items = [x.text for x in doc.ents if x.label_ in [\"ORG\"]]\n",
        "mostcommon = np.array(Counter(items).most_common())\n",
        "\n",
        "#return all entities, which appear more often than 2 times\n",
        "for i, j in mostcommon:\n",
        "  if int(j) >= 3:\n",
        "    print(i,j)"
      ],
      "execution_count": 7,
      "outputs": [
        {
          "output_type": "stream",
          "text": [
            "Department Higher Administrative Authority 9\n",
            "PeoplePay 7\n",
            "FBS 3\n"
          ],
          "name": "stdout"
        }
      ]
    },
    {
      "cell_type": "code",
      "metadata": {
        "colab": {
          "base_uri": "https://localhost:8080/"
        },
        "id": "AU7joofsSVSf",
        "outputId": "d1eae5d6-ad04-425e-f4c1-bcf8b62c7410"
      },
      "source": [
        "#You can leave this out!\n",
        "#this is actually only for our information and doesn't add any value to the above code. Just intersting to see how many org. and so on were found\n",
        "#check all labels and the respective counts of the labels\n",
        "labels = [x.label_ for x in doc.ents]\n",
        "Counter(labels)"
      ],
      "execution_count": 8,
      "outputs": [
        {
          "output_type": "execute_result",
          "data": {
            "text/plain": [
              "Counter({'DATE': 4,\n",
              "         'EVENT': 1,\n",
              "         'GPE': 1,\n",
              "         'LAW': 1,\n",
              "         'ORG': 52,\n",
              "         'PERSON': 4,\n",
              "         'WORK_OF_ART': 3})"
            ]
          },
          "metadata": {
            "tags": []
          },
          "execution_count": 8
        }
      ]
    }
  ]
}